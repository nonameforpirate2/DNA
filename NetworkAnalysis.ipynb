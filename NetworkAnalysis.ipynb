{
 "cells": [
  {
   "cell_type": "markdown",
   "metadata": {},
   "source": [
    "# Cancer Prediction from Scratch: the good, the bad and the ugly "
   ]
  },
  {
   "cell_type": "markdown",
   "metadata": {},
   "source": [
    "The notebook is made to demonstrate the next skills:\n",
    "\n",
    "- Perform proper data preprocessing.\n",
    "- Descriptive Analytics\n",
    "- Predictive Analytics\n",
    "- Perform natural language processing.\n",
    "- Use map and reduce operations.\n",
    "- Use streaming data.\n",
    "- Translate data into a graph and extract information from a network.\n",
    "- Apply machine learning\n",
    "- My ability to detect and handle imabalanced data.\n",
    "- Data Reduction using the PCA algorithm (The Principal Component Analysis)\n",
    "- Data Visualization with Matplotlib\n",
    "\n",
    "*From my point of view the application of graph theory is very handy to improve logistics in companies. Specially if we are talking about analyzing information from point A to point B."
   ]
  },
  {
   "cell_type": "markdown",
   "metadata": {},
   "source": [
    "### Import Libraries\n"
   ]
  },
  {
   "cell_type": "code",
   "execution_count": 1,
   "metadata": {
    "scrolled": true
   },
   "outputs": [],
   "source": [
    "import pandas as pd\n",
    "import numpy as np\n",
    "import sklearn as skl\n",
    "import nltk\n",
    "from nltk import word_tokenize\n",
    "from nltk import WordNetLemmatizer\n",
    "from nltk.corpus import stopwords\n",
    "from nltk.corpus import wordnet\n",
    "import nltk.sentiment.util\n",
    "from nltk.tag import pos_tag\n",
    "import networkx as nx\n",
    "import itertools\n",
    "import random\n",
    "import imblearn\n",
    "import category_encoders as ce\n",
    "from imblearn.over_sampling import SMOTE\n",
    "from imblearn.combine import SMOTEENN, SMOTETomek\n",
    "from sklearn import preprocessing\n",
    "from sklearn.preprocessing import LabelEncoder\n",
    "from imblearn.under_sampling import RandomUnderSampler\n",
    "from sklearn.model_selection import train_test_split\n",
    "from sklearn import svm\n",
    "from sklearn.metrics import confusion_matrix\n",
    "from sklearn.decomposition import PCA\n",
    "from sklearn.preprocessing import StandardScaler\n",
    "from sklearn.preprocessing import MinMaxScaler\n",
    "from pyspark.sql import SparkSession\n",
    "from sklearn.decomposition import TruncatedSVD\n",
    "import seaborn as sb\n",
    "import matplotlib.pyplot as plt\n",
    "from clustergrammer_widget import *\n",
    "import ipywidgets as widgets\n",
    "import matplotlib.pyplot as plt"
   ]
  },
  {
   "cell_type": "markdown",
   "metadata": {},
   "source": [
    " # Cancer Gene Detection\n",
    " \n",
    " To start coding. I am going to discuss a little bit about the idea behind the scence. I took this dataset available online which has the interactions within human proteins. I am interested in finding out those proteins which are more related to cancer given certain characteristics of the interaction network, to do this I need to detect whether the description containing the word cancer relates positively or negatively to the protein description, in order to classify them as cancer/no cancer(sentiment analysis). Then I am going to do natural language processing to add certain caracteristics given the protein description as an attribute to the node. Afterwards, I am going to proceed to perform some machine learning algorithm to find out those proteins interactions which tend to be, more exposed to turn into cancer given the characteristics of my network."
   ]
  },
  {
   "cell_type": "markdown",
   "metadata": {},
   "source": [
    "### Dataset\n",
    "\n",
    "I took the dataset from the next link https://string-db.org/cgi/download?sessionId=%24input-%3E%7BsessionId%7D&species_text=Homo+sapiens, which takes into account only those proteins from Humans. I do have a list of links with the proteins and their interactions, together with their ID's and descriptions, I will try to find out the cancer labels by doing sentiment analysis over the descriptions. \n",
    "   a) First dataset contains the proteins with its descriptions.\n",
    "   b) Second dataset contains the protein interactions. "
   ]
  },
  {
   "cell_type": "code",
   "execution_count": 2,
   "metadata": {},
   "outputs": [],
   "source": [
    "#First Clean the file with the information of each protein.\n",
    "proteinsInfoOriginal = open(\"9606.protein.info.v11.0.txt\", \"r\").readlines()"
   ]
  },
  {
   "cell_type": "code",
   "execution_count": 3,
   "metadata": {},
   "outputs": [],
   "source": [
    "#Second dataset with protein interactions\n",
    "proteinNetwork = pd.read_csv('9606.protein.links.detailed.v11.0.txt', sep=' ', header='infer')"
   ]
  },
  {
   "cell_type": "markdown",
   "metadata": {},
   "source": [
    "### NATURAL LANGUAGE PROCESSING: ASSINGING THE LABELS \n",
    "\n",
    "First we are going to build a dataset out of our txt file. "
   ]
  },
  {
   "cell_type": "code",
   "execution_count": 4,
   "metadata": {},
   "outputs": [],
   "source": [
    "#Creating dataset into dataframe.\n",
    "stopwords = set(nltk.corpus.stopwords.words('english'))\n",
    "\n",
    "def edit_line(line):\n",
    "    return str(line).split(\"\\t\")\n",
    "def tokenization(txt):\n",
    "    return word_tokenize(str(txt).lower())\n",
    "def lemmatization(txt):\n",
    "    return [WordNetLemmatizer().lemmatize(t) for t in txt]\n",
    "def stopwords_txt(txt):\n",
    "    return (set(txt)-stopwords)\n",
    "def contains_cancer(txt): \n",
    "    return 'cancer' in list(txt)\n",
    "\n",
    "data = list(map(edit_line,proteinsInfoOriginal))"
   ]
  },
  {
   "cell_type": "code",
   "execution_count": 5,
   "metadata": {},
   "outputs": [],
   "source": [
    "proteinDescription = pd.DataFrame(data[1:], columns = data[0])"
   ]
  },
  {
   "cell_type": "code",
   "execution_count": 6,
   "metadata": {},
   "outputs": [],
   "source": [
    "#Tokenization process\n",
    "proteinDescription['annotation\\n'] = list(map(tokenization,proteinDescription['annotation\\n']))"
   ]
  },
  {
   "cell_type": "code",
   "execution_count": 7,
   "metadata": {},
   "outputs": [],
   "source": [
    "# LemmatizaproteinDescription['annotation\\n']tion process (I use lemmatization instead of steam, because is more precise)\n",
    "proteinDescription['annotation\\n'] = list(map(lemmatization,proteinDescription['annotation\\n']))"
   ]
  },
  {
   "cell_type": "code",
   "execution_count": 8,
   "metadata": {},
   "outputs": [],
   "source": [
    "# Stop words erasing\n",
    "proteinDescription['annotation\\n'] = list(map(stopwords_txt,proteinDescription['annotation\\n']))"
   ]
  },
  {
   "cell_type": "code",
   "execution_count": 9,
   "metadata": {},
   "outputs": [],
   "source": [
    "# I want to identify classify the proteins which contain the word cancer. \n",
    "# Those I am going to add a cancer label indicator on the description to filter and then perform sentiment analysis\n",
    "# over the descriptions which contain the word cancer. \n",
    "proteinDescription['cancer_label'] = list(map(contains_cancer,proteinDescription['annotation\\n']))\n",
    "#These are the proteins which are related to cancer by description, now I need to identify whether the content\n",
    "# is negative or positive.\n",
    "cancer_proteins = proteinDescription[proteinDescription['cancer_label'] == True]"
   ]
  },
  {
   "cell_type": "code",
   "execution_count": 10,
   "metadata": {},
   "outputs": [
    {
     "name": "stderr",
     "output_type": "stream",
     "text": [
      "<ipython-input-10-e2df2b7b983d>:1: SettingWithCopyWarning: \n",
      "A value is trying to be set on a copy of a slice from a DataFrame.\n",
      "Try using .loc[row_indexer,col_indexer] = value instead\n",
      "\n",
      "See the caveats in the documentation: https://pandas.pydata.org/pandas-docs/stable/user_guide/indexing.html#returning-a-view-versus-a-copy\n",
      "  cancer_proteins['index_list'] = cancer_proteins.index\n"
     ]
    }
   ],
   "source": [
    "cancer_proteins['index_list'] = cancer_proteins.index"
   ]
  },
  {
   "cell_type": "code",
   "execution_count": 11,
   "metadata": {},
   "outputs": [],
   "source": [
    "list_cancer = list(cancer_proteins['index_list'])"
   ]
  },
  {
   "cell_type": "code",
   "execution_count": 12,
   "metadata": {},
   "outputs": [],
   "source": [
    "proteinDescription_x = pd.DataFrame(data[1:], columns = data[0])\n",
    "proteinDescription_x = proteinDescription_x[ proteinDescription_x.index.isin(list_cancer)]"
   ]
  },
  {
   "cell_type": "code",
   "execution_count": 13,
   "metadata": {},
   "outputs": [],
   "source": [
    "# I got the dataset with proteins related to cancer for manually map words/tokens related to cancer as positive or negative. \n",
    "proteinDescription_x_tok = list(map(tokenization,proteinDescription['annotation\\n']))\n",
    "proteinDescription_x.to_csv(\"cancer_list.csv\")"
   ]
  },
  {
   "cell_type": "markdown",
   "metadata": {},
   "source": [
    "### Opinion Lexicon Generation: Dictionary based approach\n",
    "\n",
    "To create my opinion words. I decided to proof two types of opinion words, the first type which will include words that describe cancer including nouns, adjectives and adverbs and the second type which will include only adjective and adverbs. According with research done in reviews the opinion words that best work to identify sentiment are the adjectives/adverbs. However, due to my application which is about to analyse descriptions, I might detect nouns or verbs which are a clear indicator of positive or negative cancer. Therefore, my first type of opinion words exists. \n",
    "\n",
    "For type 1 : I inspect manually the 169 descriptions related to cancer and annotated the words related positive or negative to cancer. I do have my two lists and I am going to increase my set of opinion words using the dictionary based approach described in https://www.cs.uic.edu/~liub/FBS/NLP-handbook-sentiment-analysis.pdf. Due to my application, which is to define concrete descriptions, I decided to iterate one time. https://journals.plos.org/plosone/article?id=10.1371/journal.pone.0197816\n",
    "\n",
    "For type 2: I proceed with the same technique except that I take into account only verbs and adverbs."
   ]
  },
  {
   "cell_type": "code",
   "execution_count": 14,
   "metadata": {},
   "outputs": [
    {
     "data": {
      "text/plain": [
       "169"
      ]
     },
     "execution_count": 14,
     "metadata": {},
     "output_type": "execute_result"
    }
   ],
   "source": [
    "len(proteinDescription_x['annotation\\n'])"
   ]
  },
  {
   "cell_type": "code",
   "execution_count": 15,
   "metadata": {},
   "outputs": [],
   "source": [
    "#Opinion words type 1.\n",
    "# Proteins which protect from cancer\n",
    "pos_words = list(['protect', 'least', 'preventing', 'decreases', 'stabilizes', 'inhibits', 'suppress', 'mediated','suppressor', 'degrades', 'repressor', 'mediated', 'resistance'])\n",
    "#Proteins which produce cancer\n",
    "neg_words = list(['proliferation', 'promote', 'transition', 'differentation', 'malignancy','susceptibility','progression', 'metastasis', 'inactive', 'progenitor', 'disease', 'headcase', 'associated', 'downstream', 'repeat'])"
   ]
  },
  {
   "cell_type": "code",
   "execution_count": 16,
   "metadata": {},
   "outputs": [],
   "source": [
    "#Creating list of words \n",
    "words_in_cancer_description = []\n",
    "for item in cancer_proteins['annotation\\n']:          \n",
    "    postag = nltk.pos_tag(list(item))\n",
    "    postag_class = [item[1] for item in postag]\n",
    "    postag_word = [item[0] for item in postag]\n",
    "    for word in postag:\n",
    "        #specify that we only want adverbs and adjectives\n",
    "        if word[1] == 'JJ' or word[1] == 'RB':\n",
    "            words_in_cancer_description.append(word[0])\n",
    "        else:\n",
    "            pass"
   ]
  },
  {
   "cell_type": "code",
   "execution_count": 17,
   "metadata": {},
   "outputs": [],
   "source": [
    "pd.DataFrame(set(words_in_cancer_description)).to_csv('cancer_adjectives.csv')\n",
    "#Manually inspect the words and leave the adjectives that were coherent as positive or negative"
   ]
  },
  {
   "cell_type": "markdown",
   "metadata": {},
   "source": [
    "# #TODO ADD THE TYPE 2 OPINION WORDS"
   ]
  },
  {
   "cell_type": "code",
   "execution_count": 18,
   "metadata": {},
   "outputs": [],
   "source": [
    "#Opinion words type 2.\n",
    "#Proteins which protect from cancer\n",
    "\n",
    "#PRotein which produce cancer\n"
   ]
  },
  {
   "cell_type": "code",
   "execution_count": 19,
   "metadata": {},
   "outputs": [],
   "source": [
    "def getSynonims(word):\n",
    "    syn = []\n",
    "    for word in wordnet.synsets(word):\n",
    "        for lemma in word.lemmas():\n",
    "            syn.append(lemma.name())\n",
    "    return syn\n",
    "#List of words gathered out of visual inspection. \n",
    "synonims_pos = []\n",
    "synonims_neg = []\n",
    "\n",
    "for word in pos_words:\n",
    "    synonims_pos.append(getSynonims(word))\n",
    "for word in neg_words:\n",
    "    synonims_neg.append(getSynonims(word))\n",
    "pos_words_list = set(list(itertools.chain(*synonims_pos)))\n",
    "neg_words_list = set(list(itertools.chain(*synonims_neg)))"
   ]
  },
  {
   "cell_type": "code",
   "execution_count": 20,
   "metadata": {},
   "outputs": [],
   "source": [
    "#some data cleaning on the lexicon lists. Because not all the synonim words retrieved are useful. \n",
    "pos_words_list = list(['arbitrate',\n",
    " 'brace',\n",
    " 'decrease',\n",
    " 'decrement',\n",
    " 'degrade',\n",
    " 'demean',\n",
    " 'diminish',\n",
    " 'diminution',\n",
    " 'drop-off',\n",
    " 'electric_resistance',\n",
    " 'electrical_resistance',\n",
    " 'fall',\n",
    " 'forbid',\n",
    " 'immunity',\n",
    " 'impedance',\n",
    " 'inhibit',\n",
    " 'intercede',\n",
    " 'intermediate',\n",
    " 'keep',\n",
    " 'least',\n",
    " 'lessen',\n",
    " 'lessening',\n",
    " 'liaise',\n",
    " 'mediate',\n",
    " 'mediated',\n",
    " 'minify',\n",
    " 'ohmic_resistance',\n",
    " 'opposition',\n",
    " 'oppress',\n",
    " 'preclude',\n",
    " 'prevent',\n",
    " 'protect',\n",
    " 'put_down',\n",
    " 'reduction',\n",
    " 'repress',\n",
    " 'represser',\n",
    " 'repressor',\n",
    " 'resistance',\n",
    " 'resistivity',\n",
    " 'resistor',\n",
    " 'stabilise',\n",
    " 'stabilize',\n",
    " 'stamp_down',\n",
    " 'steady',\n",
    " 'step-down',\n",
    " 'subdue',\n",
    " 'suppress',\n",
    " 'suppresser',\n",
    " 'suppresser_gene',\n",
    " 'suppressor',\n",
    " 'suppressor_gene',\n",
    " 'take_down',\n",
    " 'to_the_lowest_degree',\n",
    " 'underground'])"
   ]
  },
  {
   "cell_type": "code",
   "execution_count": 21,
   "metadata": {},
   "outputs": [],
   "source": [
    "neg_words_list = list(['advance',\n",
    " 'advancement',\n",
    " 'advertise',\n",
    " 'advertize',\n",
    " 'affiliate',\n",
    " 'associate',\n",
    " 'assort',\n",
    " 'boost',\n",
    " 'changeover',\n",
    " 'colligate',\n",
    " 'connect',\n",
    " 'consort',\n",
    " 'conversion',\n",
    " 'disease',\n",
    " 'dormant',\n",
    " 'downriver',\n",
    " 'downstream',\n",
    " 'elevate',\n",
    " 'forward_motion',\n",
    " 'further',\n",
    " 'inactive',\n",
    " 'ingeminate',\n",
    " 'iterate',\n",
    " 'kick_upstairs',\n",
    " 'link',\n",
    " 'link_up',\n",
    " 'malignance',\n",
    " 'malignancy',\n",
    " 'malignity',\n",
    " 'metastasis',\n",
    " 'modulation',\n",
    " 'motionless',\n",
    " 'onward_motion',\n",
    " 'passive',\n",
    " 'patterned_advance',\n",
    " 'primogenitor',\n",
    " 'procession',\n",
    " 'progenitor',\n",
    " 'progress',\n",
    " 'progression',\n",
    " 'proliferation',\n",
    " 'promote',\n",
    " 'push',\n",
    " 'raise',\n",
    " 'recur',\n",
    " 'reduplicate',\n",
    " 'reiterate',\n",
    " 'relate',\n",
    " 'repeat',\n",
    " 'repetition',\n",
    " 'replicate',\n",
    " 'reprise',\n",
    " 'reprize',\n",
    " 'restate',\n",
    " 'retell',\n",
    " 'static',\n",
    " 'still',\n",
    " 'susceptibility',\n",
    " 'susceptibleness',\n",
    " 'take_over',\n",
    " 'tie_in',\n",
    " 'transition',\n",
    " 'upgrade'])"
   ]
  },
  {
   "cell_type": "code",
   "execution_count": 22,
   "metadata": {},
   "outputs": [],
   "source": [
    "#I am going to apply pos-tag to my words, because I need to keep adjectives, adverbs and nouns. I include nouns \n",
    "# because I am working with descriptions and nouns attach with negative cancer description are crucial. \n",
    "neg_tags = nltk.pos_tag(neg_words_list)\n",
    "pos_tags = nltk.pos_tag(pos_words_list)"
   ]
  },
  {
   "cell_type": "code",
   "execution_count": 23,
   "metadata": {},
   "outputs": [],
   "source": [
    "neg_tags = [item for item in neg_tags if item[1] != 'VB']\n",
    "pos_tags = [item for item in pos_tags if item[1] != 'VB']"
   ]
  },
  {
   "cell_type": "code",
   "execution_count": 24,
   "metadata": {},
   "outputs": [],
   "source": [
    "def get_pos_tags(tags_descriptions):\n",
    "    array_dummy = []\n",
    "    for element in tags_descriptions:\n",
    "        tags = nltk.pos_tag(list(element))\n",
    "        array_dummy.append(tags)\n",
    "    return array_dummy\n",
    "def pos_tags_filter(tags_array):\n",
    "    array_dummy = []\n",
    "    for element in tags_array:\n",
    "        array_dummy.append([item[0] for item in element if item[1] == 'JJ' or item[1] == 'NN' or item[1] == 'RB'])\n",
    "    return array_dummy"
   ]
  },
  {
   "cell_type": "code",
   "execution_count": 25,
   "metadata": {},
   "outputs": [],
   "source": [
    "#adding postag to my descriptions and filtering verbs.\n",
    "proteinDescription['annotation\\n'] = get_pos_tags(proteinDescription['annotation\\n'])\n",
    "#left the pos tag out of my array\n",
    "proteinDescription['annotation\\n'] = pos_tags_filter(proteinDescription['annotation\\n'])"
   ]
  },
  {
   "cell_type": "code",
   "execution_count": 26,
   "metadata": {},
   "outputs": [
    {
     "data": {
      "text/html": [
       "<div>\n",
       "<style scoped>\n",
       "    .dataframe tbody tr th:only-of-type {\n",
       "        vertical-align: middle;\n",
       "    }\n",
       "\n",
       "    .dataframe tbody tr th {\n",
       "        vertical-align: top;\n",
       "    }\n",
       "\n",
       "    .dataframe thead th {\n",
       "        text-align: right;\n",
       "    }\n",
       "</style>\n",
       "<table border=\"1\" class=\"dataframe\">\n",
       "  <thead>\n",
       "    <tr style=\"text-align: right;\">\n",
       "      <th></th>\n",
       "      <th>protein_external_id</th>\n",
       "      <th>preferred_name</th>\n",
       "      <th>protein_size</th>\n",
       "      <th>annotation\\n</th>\n",
       "      <th>cancer_label</th>\n",
       "    </tr>\n",
       "  </thead>\n",
       "  <tbody>\n",
       "    <tr>\n",
       "      <th>102</th>\n",
       "      <td>9606.ENSP00000064778</td>\n",
       "      <td>FAM168A</td>\n",
       "      <td>244</td>\n",
       "      <td>[protein, pathway, level, ubiquitation, act, c...</td>\n",
       "      <td>True</td>\n",
       "    </tr>\n",
       "    <tr>\n",
       "      <th>156</th>\n",
       "      <td>9606.ENSP00000167106</td>\n",
       "      <td>VASH1</td>\n",
       "      <td>365</td>\n",
       "      <td>[migration, macrophage, vitro, artery, exhibit...</td>\n",
       "      <td>True</td>\n",
       "    </tr>\n",
       "    <tr>\n",
       "      <th>241</th>\n",
       "      <td>9606.ENSP00000201031</td>\n",
       "      <td>TFAP2C</td>\n",
       "      <td>450</td>\n",
       "      <td>[protein, gene, important, development, c/ebp,...</td>\n",
       "      <td>True</td>\n",
       "    </tr>\n",
       "    <tr>\n",
       "      <th>441</th>\n",
       "      <td>9606.ENSP00000216807</td>\n",
       "      <td>BRMS1L</td>\n",
       "      <td>323</td>\n",
       "      <td>[lung, protein, lack, histone, repression, gro...</td>\n",
       "      <td>True</td>\n",
       "    </tr>\n",
       "    <tr>\n",
       "      <th>514</th>\n",
       "      <td>9606.ENSP00000219022</td>\n",
       "      <td>OLFM4</td>\n",
       "      <td>510</td>\n",
       "      <td>[promote, myeloid, probably, growth, interacti...</td>\n",
       "      <td>True</td>\n",
       "    </tr>\n",
       "    <tr>\n",
       "      <th>...</th>\n",
       "      <td>...</td>\n",
       "      <td>...</td>\n",
       "      <td>...</td>\n",
       "      <td>...</td>\n",
       "      <td>...</td>\n",
       "    </tr>\n",
       "    <tr>\n",
       "      <th>18144</th>\n",
       "      <td>9606.ENSP00000463027</td>\n",
       "      <td>NCOA4</td>\n",
       "      <td>650</td>\n",
       "      <td>[gamma, androgen, nuclear, prostate, cell, ppa...</td>\n",
       "      <td>True</td>\n",
       "    </tr>\n",
       "    <tr>\n",
       "      <th>18188</th>\n",
       "      <td>9606.ENSP00000464162</td>\n",
       "      <td>GREB1L</td>\n",
       "      <td>1923</td>\n",
       "      <td>[family, greb1, breast, regulation, growth, es...</td>\n",
       "      <td>True</td>\n",
       "    </tr>\n",
       "    <tr>\n",
       "      <th>18533</th>\n",
       "      <td>9606.ENSP00000473553</td>\n",
       "      <td>CSNK2A3</td>\n",
       "      <td>391</td>\n",
       "      <td>[lung, protein, development, ii, kinase, large...</td>\n",
       "      <td>True</td>\n",
       "    </tr>\n",
       "    <tr>\n",
       "      <th>19289</th>\n",
       "      <td>9606.ENSP00000484135</td>\n",
       "      <td>COLCA2</td>\n",
       "      <td>251</td>\n",
       "      <td>[colorectal, cancer]</td>\n",
       "      <td>True</td>\n",
       "    </tr>\n",
       "    <tr>\n",
       "      <th>19308</th>\n",
       "      <td>9606.ENSP00000484443</td>\n",
       "      <td>NEK3</td>\n",
       "      <td>506</td>\n",
       "      <td>[protein, acetylation, kinase, neuron, nima, m...</td>\n",
       "      <td>True</td>\n",
       "    </tr>\n",
       "  </tbody>\n",
       "</table>\n",
       "<p>169 rows × 5 columns</p>\n",
       "</div>"
      ],
      "text/plain": [
       "        protein_external_id preferred_name protein_size  \\\n",
       "102    9606.ENSP00000064778        FAM168A          244   \n",
       "156    9606.ENSP00000167106          VASH1          365   \n",
       "241    9606.ENSP00000201031         TFAP2C          450   \n",
       "441    9606.ENSP00000216807         BRMS1L          323   \n",
       "514    9606.ENSP00000219022          OLFM4          510   \n",
       "...                     ...            ...          ...   \n",
       "18144  9606.ENSP00000463027          NCOA4          650   \n",
       "18188  9606.ENSP00000464162         GREB1L         1923   \n",
       "18533  9606.ENSP00000473553        CSNK2A3          391   \n",
       "19289  9606.ENSP00000484135         COLCA2          251   \n",
       "19308  9606.ENSP00000484443           NEK3          506   \n",
       "\n",
       "                                            annotation\\n  cancer_label  \n",
       "102    [protein, pathway, level, ubiquitation, act, c...          True  \n",
       "156    [migration, macrophage, vitro, artery, exhibit...          True  \n",
       "241    [protein, gene, important, development, c/ebp,...          True  \n",
       "441    [lung, protein, lack, histone, repression, gro...          True  \n",
       "514    [promote, myeloid, probably, growth, interacti...          True  \n",
       "...                                                  ...           ...  \n",
       "18144  [gamma, androgen, nuclear, prostate, cell, ppa...          True  \n",
       "18188  [family, greb1, breast, regulation, growth, es...          True  \n",
       "18533  [lung, protein, development, ii, kinase, large...          True  \n",
       "19289                               [colorectal, cancer]          True  \n",
       "19308  [protein, acetylation, kinase, neuron, nima, m...          True  \n",
       "\n",
       "[169 rows x 5 columns]"
      ]
     },
     "execution_count": 26,
     "metadata": {},
     "output_type": "execute_result"
    }
   ],
   "source": [
    "proteinDescription[proteinDescription['cancer_label'] == True]"
   ]
  },
  {
   "cell_type": "markdown",
   "metadata": {},
   "source": [
    "Now I need to assign to my lexicon a weight of importance to each of my lexicon words to define which is the most negative and the most positive word to do this, I am going to proceed to check the frequency of my words in my dataset. Thus, I am going to use map and reduce operations from pyspark to count the frequency of my lexicon words in my text and then be able to assign a preference over each most negative words and most positive words. "
   ]
  },
  {
   "cell_type": "code",
   "execution_count": 27,
   "metadata": {},
   "outputs": [],
   "source": [
    "# By visual inspection and the frequency of my words, I will assign categories on my words from 1-5 (stars)."
   ]
  },
  {
   "cell_type": "code",
   "execution_count": 28,
   "metadata": {},
   "outputs": [],
   "source": [
    "def get_words(array):\n",
    "    words = \"\"\n",
    "    for item in array:\n",
    "        for word in item:\n",
    "            words += ' ' + word\n",
    "    return words\n",
    "        \n",
    "words = get_words(proteinDescription['annotation\\n'])"
   ]
  },
  {
   "cell_type": "code",
   "execution_count": 29,
   "metadata": {},
   "outputs": [],
   "source": [
    "text_file = open(\"words.txt\", \"w\")\n",
    "n = text_file.write(words)\n",
    "text_file.close()"
   ]
  },
  {
   "cell_type": "markdown",
   "metadata": {},
   "source": [
    "The part of the sentiment analysis is based on the next works:\n",
    "    1) A lexicon based method to search for extreme opinions \n",
    "       https://journals.plos.org/plosone/article?id=10.1371/journal.pone.0197816}\n",
    "    2) Mining and Summarizing Customer Review\n",
    "       https://www.cs.uic.edu/~liub/publications/kdd04-revSummary.pdf\n",
    "    3) Opinion Observer: Analyzing and Comparing Opinions  on the Web \n",
    "       https://www.cs.uic.edu/~liub/publications/www05-p536.pdf"
   ]
  },
  {
   "cell_type": "markdown",
   "metadata": {},
   "source": [
    "### Sentiment Analysis over Descriptions: an Unsupervised Lexicon Based Approach\n",
    "\n",
    "I have to explain that the natural language processing is a whole world in the data science area. There is NLP to do chatbots, NLP to apply sentiment analysis, NLP to summarized objects, NLP to identify document classification by topics and recently NLP to make robots talk as humans, translation from text to voice and voice to text. Given that I am analysing descriptions, I decided to use NLP as a person will use it with a review. In the previous mentioned works we can appreciate the analysis of different kind of reviews over products. Depending on the type of review you might perform one or another technique, if your review talks about the same product, if your review compares products or if your review has a well establish separation between cons and pros over a product. It is important to understand that it is not the same working with direct opinion sentences or subjective sentences  in reviews. Given my application which has basically protein descriptions related to cancer, I want to be able to identify whether the protein produce or helps to proliferate cancer, based on the description without the need of manually classify my protein descriptions. In this analysis I am taking into account the next situation. My descriptions are the same as a direct opinion review, because they explicitly describe proteins and its properties. In previous works about identifying sentiment of product reviews it is important to identify the \"features\" (properties of the products) that are positive or negative related to the product. In my case the only feature that I am interested to know whether its relation is positive or negative with respect to the description is the noun/feature cancer. Thus, I am going to use it as a single feature with my descriptions the word cancer. "
   ]
  },
  {
   "cell_type": "code",
   "execution_count": 30,
   "metadata": {},
   "outputs": [],
   "source": [
    "import findspark\n",
    "findspark.init()\n",
    "from pyspark.context import SparkContext\n",
    "\n",
    "sc = SparkContext.getOrCreate()"
   ]
  },
  {
   "cell_type": "code",
   "execution_count": 31,
   "metadata": {},
   "outputs": [],
   "source": [
    "file = sc.textFile('words.txt').flatMap(lambda line: line.split(\" \"))"
   ]
  },
  {
   "cell_type": "code",
   "execution_count": 32,
   "metadata": {},
   "outputs": [
    {
     "data": {
      "text/plain": [
       "332866"
      ]
     },
     "execution_count": 32,
     "metadata": {},
     "output_type": "execute_result"
    }
   ],
   "source": [
    "file.count()"
   ]
  },
  {
   "cell_type": "code",
   "execution_count": 33,
   "metadata": {},
   "outputs": [],
   "source": [
    "file_num = file.map(lambda s: (s,1))"
   ]
  },
  {
   "cell_type": "code",
   "execution_count": 34,
   "metadata": {},
   "outputs": [],
   "source": [
    "word_count = file_num.reduceByKey(lambda a,b:a + b)"
   ]
  },
  {
   "cell_type": "code",
   "execution_count": 35,
   "metadata": {},
   "outputs": [],
   "source": [
    "#get the words as df \n",
    "df_word_count = word_count.toDF(['attribute','count'])"
   ]
  },
  {
   "cell_type": "code",
   "execution_count": 36,
   "metadata": {},
   "outputs": [],
   "source": [
    "count_word_pd = df_word_count.toPandas()"
   ]
  },
  {
   "cell_type": "code",
   "execution_count": 37,
   "metadata": {},
   "outputs": [
    {
     "data": {
      "text/html": [
       "<div>\n",
       "<style scoped>\n",
       "    .dataframe tbody tr th:only-of-type {\n",
       "        vertical-align: middle;\n",
       "    }\n",
       "\n",
       "    .dataframe tbody tr th {\n",
       "        vertical-align: top;\n",
       "    }\n",
       "\n",
       "    .dataframe thead th {\n",
       "        text-align: right;\n",
       "    }\n",
       "</style>\n",
       "<table border=\"1\" class=\"dataframe\">\n",
       "  <thead>\n",
       "    <tr style=\"text-align: right;\">\n",
       "      <th></th>\n",
       "      <th>attribute</th>\n",
       "      <th>count</th>\n",
       "    </tr>\n",
       "  </thead>\n",
       "  <tbody>\n",
       "    <tr>\n",
       "      <th>0</th>\n",
       "      <td></td>\n",
       "      <td>1</td>\n",
       "    </tr>\n",
       "    <tr>\n",
       "      <th>1</th>\n",
       "      <td>factor</td>\n",
       "      <td>2207</td>\n",
       "    </tr>\n",
       "    <tr>\n",
       "      <th>2</th>\n",
       "      <td>adp-</td>\n",
       "      <td>16</td>\n",
       "    </tr>\n",
       "    <tr>\n",
       "      <th>3</th>\n",
       "      <td>catalytic</td>\n",
       "      <td>332</td>\n",
       "    </tr>\n",
       "    <tr>\n",
       "      <th>4</th>\n",
       "      <td>family</td>\n",
       "      <td>6061</td>\n",
       "    </tr>\n",
       "    <tr>\n",
       "      <th>...</th>\n",
       "      <td>...</td>\n",
       "      <td>...</td>\n",
       "    </tr>\n",
       "    <tr>\n",
       "      <th>31654</th>\n",
       "      <td>saa2-saa4</td>\n",
       "      <td>1</td>\n",
       "    </tr>\n",
       "    <tr>\n",
       "      <th>31655</th>\n",
       "      <td>c17orf100</td>\n",
       "      <td>1</td>\n",
       "    </tr>\n",
       "    <tr>\n",
       "      <th>31656</th>\n",
       "      <td>tmem1</td>\n",
       "      <td>1</td>\n",
       "    </tr>\n",
       "    <tr>\n",
       "      <th>31657</th>\n",
       "      <td>respiratoy</td>\n",
       "      <td>1</td>\n",
       "    </tr>\n",
       "    <tr>\n",
       "      <th>31658</th>\n",
       "      <td>hcg1991042</td>\n",
       "      <td>1</td>\n",
       "    </tr>\n",
       "  </tbody>\n",
       "</table>\n",
       "<p>31659 rows × 2 columns</p>\n",
       "</div>"
      ],
      "text/plain": [
       "        attribute  count\n",
       "0                      1\n",
       "1          factor   2207\n",
       "2            adp-     16\n",
       "3       catalytic    332\n",
       "4          family   6061\n",
       "...           ...    ...\n",
       "31654   saa2-saa4      1\n",
       "31655   c17orf100      1\n",
       "31656       tmem1      1\n",
       "31657  respiratoy      1\n",
       "31658  hcg1991042      1\n",
       "\n",
       "[31659 rows x 2 columns]"
      ]
     },
     "execution_count": 37,
     "metadata": {},
     "output_type": "execute_result"
    }
   ],
   "source": [
    "count_word_pd"
   ]
  },
  {
   "cell_type": "code",
   "execution_count": 38,
   "metadata": {},
   "outputs": [
    {
     "data": {
      "image/png": "[encoded data removed]",
      "text/plain": [
       "<Figure size 640x480 with 1 Axes>"
      ]
     },
     "metadata": {},
     "output_type": "display_data"
    }
   ],
   "source": [
    "#the frequency per word looks as follows. Unfortunately, I cannot talk about a distribution, given that I do not\n",
    "#know the description order. \n",
    "import matplotlib.pyplot as plt\n",
    "import numpy as np\n",
    "\n",
    "\n",
    "plt.rcdefaults()\n",
    "fig, ax = plt.subplots()\n",
    "\n",
    "# Example data\n",
    "word = count_word_pd['attribute']\n",
    "y_pos = np.arange(len(word))\n",
    "frequency = count_word_pd['count']\n",
    "error = np.random.rand(len(word))\n",
    "\n",
    "ax.barh(y_pos, frequency, xerr=error, align='center')\n",
    "ax.set_yticks(y_pos)\n",
    "ax.set_yticklabels(word)\n",
    "ax.invert_yaxis()  \n",
    "ax.set_xlabel('Frequencies')\n",
    "ax.set_title('Frequency per Word')\n",
    "\n",
    "plt.show()\n",
    "\n"
   ]
  },
  {
   "cell_type": "code",
   "execution_count": 39,
   "metadata": {},
   "outputs": [],
   "source": [
    "#we can see here the frequency of words given its pos_Tag, verbs, adverbs, adjectives, nouns etc. Again, we cannot\n",
    "#write about distributions because we do not know the order. \n",
    "def return_tokens(word):\n",
    "    word = nltk.word_tokenize(word)\n",
    "    return nltk.pos_tag(word)\n",
    "pos_tags_words = list(map(return_tokens,count_word_pd['attribute']))\n"
   ]
  },
  {
   "cell_type": "code",
   "execution_count": 40,
   "metadata": {},
   "outputs": [],
   "source": [
    "count_word_pd['pos_tags'] = pos_tags_words"
   ]
  },
  {
   "cell_type": "code",
   "execution_count": 41,
   "metadata": {},
   "outputs": [],
   "source": [
    "count_word_pd = count_word_pd.drop(index=0)"
   ]
  },
  {
   "cell_type": "code",
   "execution_count": 42,
   "metadata": {},
   "outputs": [],
   "source": [
    "count_word_pd = count_word_pd.reset_index()"
   ]
  },
  {
   "cell_type": "code",
   "execution_count": 43,
   "metadata": {},
   "outputs": [],
   "source": [
    "def get_word_type(list_type):\n",
    "    return list_type[-1][1]\n",
    "count_word_pd['tag_description'] = list(map(get_word_type,count_word_pd['pos_tags']))"
   ]
  },
  {
   "cell_type": "code",
   "execution_count": 44,
   "metadata": {},
   "outputs": [
    {
     "data": {
      "text/html": [
       "<div>\n",
       "<style scoped>\n",
       "    .dataframe tbody tr th:only-of-type {\n",
       "        vertical-align: middle;\n",
       "    }\n",
       "\n",
       "    .dataframe tbody tr th {\n",
       "        vertical-align: top;\n",
       "    }\n",
       "\n",
       "    .dataframe thead th {\n",
       "        text-align: right;\n",
       "    }\n",
       "</style>\n",
       "<table border=\"1\" class=\"dataframe\">\n",
       "  <thead>\n",
       "    <tr style=\"text-align: right;\">\n",
       "      <th></th>\n",
       "      <th>index</th>\n",
       "      <th>attribute</th>\n",
       "      <th>count</th>\n",
       "      <th>pos_tags</th>\n",
       "      <th>tag_description</th>\n",
       "    </tr>\n",
       "  </thead>\n",
       "  <tbody>\n",
       "    <tr>\n",
       "      <th>0</th>\n",
       "      <td>1</td>\n",
       "      <td>factor</td>\n",
       "      <td>2207</td>\n",
       "      <td>[(factor, NN)]</td>\n",
       "      <td>NN</td>\n",
       "    </tr>\n",
       "    <tr>\n",
       "      <th>1</th>\n",
       "      <td>2</td>\n",
       "      <td>adp-</td>\n",
       "      <td>16</td>\n",
       "      <td>[(adp-, NN)]</td>\n",
       "      <td>NN</td>\n",
       "    </tr>\n",
       "    <tr>\n",
       "      <th>2</th>\n",
       "      <td>3</td>\n",
       "      <td>catalytic</td>\n",
       "      <td>332</td>\n",
       "      <td>[(catalytic, JJ)]</td>\n",
       "      <td>JJ</td>\n",
       "    </tr>\n",
       "    <tr>\n",
       "      <th>3</th>\n",
       "      <td>4</td>\n",
       "      <td>family</td>\n",
       "      <td>6061</td>\n",
       "      <td>[(family, NN)]</td>\n",
       "      <td>NN</td>\n",
       "    </tr>\n",
       "    <tr>\n",
       "      <th>4</th>\n",
       "      <td>5</td>\n",
       "      <td>allosteric</td>\n",
       "      <td>26</td>\n",
       "      <td>[(allosteric, NN)]</td>\n",
       "      <td>NN</td>\n",
       "    </tr>\n",
       "    <tr>\n",
       "      <th>...</th>\n",
       "      <td>...</td>\n",
       "      <td>...</td>\n",
       "      <td>...</td>\n",
       "      <td>...</td>\n",
       "      <td>...</td>\n",
       "    </tr>\n",
       "    <tr>\n",
       "      <th>31653</th>\n",
       "      <td>31654</td>\n",
       "      <td>saa2-saa4</td>\n",
       "      <td>1</td>\n",
       "      <td>[(saa2-saa4, NN)]</td>\n",
       "      <td>NN</td>\n",
       "    </tr>\n",
       "    <tr>\n",
       "      <th>31654</th>\n",
       "      <td>31655</td>\n",
       "      <td>c17orf100</td>\n",
       "      <td>1</td>\n",
       "      <td>[(c17orf100, NN)]</td>\n",
       "      <td>NN</td>\n",
       "    </tr>\n",
       "    <tr>\n",
       "      <th>31655</th>\n",
       "      <td>31656</td>\n",
       "      <td>tmem1</td>\n",
       "      <td>1</td>\n",
       "      <td>[(tmem1, NN)]</td>\n",
       "      <td>NN</td>\n",
       "    </tr>\n",
       "    <tr>\n",
       "      <th>31656</th>\n",
       "      <td>31657</td>\n",
       "      <td>respiratoy</td>\n",
       "      <td>1</td>\n",
       "      <td>[(respiratoy, NN)]</td>\n",
       "      <td>NN</td>\n",
       "    </tr>\n",
       "    <tr>\n",
       "      <th>31657</th>\n",
       "      <td>31658</td>\n",
       "      <td>hcg1991042</td>\n",
       "      <td>1</td>\n",
       "      <td>[(hcg1991042, NN)]</td>\n",
       "      <td>NN</td>\n",
       "    </tr>\n",
       "  </tbody>\n",
       "</table>\n",
       "<p>31658 rows × 5 columns</p>\n",
       "</div>"
      ],
      "text/plain": [
       "       index   attribute  count            pos_tags tag_description\n",
       "0          1      factor   2207      [(factor, NN)]              NN\n",
       "1          2        adp-     16        [(adp-, NN)]              NN\n",
       "2          3   catalytic    332   [(catalytic, JJ)]              JJ\n",
       "3          4      family   6061      [(family, NN)]              NN\n",
       "4          5  allosteric     26  [(allosteric, NN)]              NN\n",
       "...      ...         ...    ...                 ...             ...\n",
       "31653  31654   saa2-saa4      1   [(saa2-saa4, NN)]              NN\n",
       "31654  31655   c17orf100      1   [(c17orf100, NN)]              NN\n",
       "31655  31656       tmem1      1       [(tmem1, NN)]              NN\n",
       "31656  31657  respiratoy      1  [(respiratoy, NN)]              NN\n",
       "31657  31658  hcg1991042      1  [(hcg1991042, NN)]              NN\n",
       "\n",
       "[31658 rows x 5 columns]"
      ]
     },
     "execution_count": 44,
     "metadata": {},
     "output_type": "execute_result"
    }
   ],
   "source": [
    "count_word_pd"
   ]
  },
  {
   "cell_type": "code",
   "execution_count": 45,
   "metadata": {},
   "outputs": [
    {
     "data": {
      "text/html": [
       "<div>\n",
       "<style scoped>\n",
       "    .dataframe tbody tr th:only-of-type {\n",
       "        vertical-align: middle;\n",
       "    }\n",
       "\n",
       "    .dataframe tbody tr th {\n",
       "        vertical-align: top;\n",
       "    }\n",
       "\n",
       "    .dataframe thead th {\n",
       "        text-align: right;\n",
       "    }\n",
       "</style>\n",
       "<table border=\"1\" class=\"dataframe\">\n",
       "  <thead>\n",
       "    <tr style=\"text-align: right;\">\n",
       "      <th></th>\n",
       "      <th>index</th>\n",
       "      <th>attribute</th>\n",
       "      <th>count</th>\n",
       "      <th>pos_tags</th>\n",
       "      <th>tag_description</th>\n",
       "    </tr>\n",
       "  </thead>\n",
       "  <tbody>\n",
       "    <tr>\n",
       "      <th>15828</th>\n",
       "      <td>15829</td>\n",
       "      <td>hco</td>\n",
       "      <td>1</td>\n",
       "      <td>[(hco, NN)]</td>\n",
       "      <td>NN</td>\n",
       "    </tr>\n",
       "    <tr>\n",
       "      <th>19641</th>\n",
       "      <td>19642</td>\n",
       "      <td>homotypically</td>\n",
       "      <td>1</td>\n",
       "      <td>[(homotypically, RB)]</td>\n",
       "      <td>RB</td>\n",
       "    </tr>\n",
       "    <tr>\n",
       "      <th>19639</th>\n",
       "      <td>19640</td>\n",
       "      <td>rab4/rab5</td>\n",
       "      <td>1</td>\n",
       "      <td>[(rab4/rab5, NN)]</td>\n",
       "      <td>NN</td>\n",
       "    </tr>\n",
       "    <tr>\n",
       "      <th>19638</th>\n",
       "      <td>19639</td>\n",
       "      <td>c3orf20</td>\n",
       "      <td>1</td>\n",
       "      <td>[(c3orf20, NN)]</td>\n",
       "      <td>NN</td>\n",
       "    </tr>\n",
       "    <tr>\n",
       "      <th>19636</th>\n",
       "      <td>19637</td>\n",
       "      <td>calpain-7</td>\n",
       "      <td>1</td>\n",
       "      <td>[(calpain-7, NN)]</td>\n",
       "      <td>NN</td>\n",
       "    </tr>\n",
       "    <tr>\n",
       "      <th>...</th>\n",
       "      <td>...</td>\n",
       "      <td>...</td>\n",
       "      <td>...</td>\n",
       "      <td>...</td>\n",
       "      <td>...</td>\n",
       "    </tr>\n",
       "    <tr>\n",
       "      <th>15757</th>\n",
       "      <td>15758</td>\n",
       "      <td>complex</td>\n",
       "      <td>3011</td>\n",
       "      <td>[(complex, JJ)]</td>\n",
       "      <td>JJ</td>\n",
       "    </tr>\n",
       "    <tr>\n",
       "      <th>15754</th>\n",
       "      <td>15755</td>\n",
       "      <td>cell</td>\n",
       "      <td>3707</td>\n",
       "      <td>[(cell, NN)]</td>\n",
       "      <td>NN</td>\n",
       "    </tr>\n",
       "    <tr>\n",
       "      <th>15779</th>\n",
       "      <td>15780</td>\n",
       "      <td>role</td>\n",
       "      <td>4326</td>\n",
       "      <td>[(role, NN)]</td>\n",
       "      <td>NN</td>\n",
       "    </tr>\n",
       "    <tr>\n",
       "      <th>3</th>\n",
       "      <td>4</td>\n",
       "      <td>family</td>\n",
       "      <td>6061</td>\n",
       "      <td>[(family, NN)]</td>\n",
       "      <td>NN</td>\n",
       "    </tr>\n",
       "    <tr>\n",
       "      <th>15737</th>\n",
       "      <td>15738</td>\n",
       "      <td>protein</td>\n",
       "      <td>8946</td>\n",
       "      <td>[(protein, NN)]</td>\n",
       "      <td>NN</td>\n",
       "    </tr>\n",
       "  </tbody>\n",
       "</table>\n",
       "<p>31658 rows × 5 columns</p>\n",
       "</div>"
      ],
      "text/plain": [
       "       index      attribute  count               pos_tags tag_description\n",
       "15828  15829            hco      1            [(hco, NN)]              NN\n",
       "19641  19642  homotypically      1  [(homotypically, RB)]              RB\n",
       "19639  19640      rab4/rab5      1      [(rab4/rab5, NN)]              NN\n",
       "19638  19639        c3orf20      1        [(c3orf20, NN)]              NN\n",
       "19636  19637      calpain-7      1      [(calpain-7, NN)]              NN\n",
       "...      ...            ...    ...                    ...             ...\n",
       "15757  15758        complex   3011        [(complex, JJ)]              JJ\n",
       "15754  15755           cell   3707           [(cell, NN)]              NN\n",
       "15779  15780           role   4326           [(role, NN)]              NN\n",
       "3          4         family   6061         [(family, NN)]              NN\n",
       "15737  15738        protein   8946        [(protein, NN)]              NN\n",
       "\n",
       "[31658 rows x 5 columns]"
      ]
     },
     "execution_count": 45,
     "metadata": {},
     "output_type": "execute_result"
    }
   ],
   "source": [
    "#less popular word, which is the less favorite word from scientist to use in protein descriptions\n",
    "count_word_pd.sort_values(by='count')\n",
    "#hco"
   ]
  },
  {
   "cell_type": "code",
   "execution_count": 46,
   "metadata": {},
   "outputs": [
    {
     "data": {
      "text/html": [
       "<div>\n",
       "<style scoped>\n",
       "    .dataframe tbody tr th:only-of-type {\n",
       "        vertical-align: middle;\n",
       "    }\n",
       "\n",
       "    .dataframe tbody tr th {\n",
       "        vertical-align: top;\n",
       "    }\n",
       "\n",
       "    .dataframe thead th {\n",
       "        text-align: right;\n",
       "    }\n",
       "</style>\n",
       "<table border=\"1\" class=\"dataframe\">\n",
       "  <thead>\n",
       "    <tr style=\"text-align: right;\">\n",
       "      <th></th>\n",
       "      <th>index</th>\n",
       "      <th>attribute</th>\n",
       "      <th>count</th>\n",
       "      <th>pos_tags</th>\n",
       "      <th>tag_description</th>\n",
       "    </tr>\n",
       "  </thead>\n",
       "  <tbody>\n",
       "    <tr>\n",
       "      <th>15737</th>\n",
       "      <td>15738</td>\n",
       "      <td>protein</td>\n",
       "      <td>8946</td>\n",
       "      <td>[(protein, NN)]</td>\n",
       "      <td>NN</td>\n",
       "    </tr>\n",
       "    <tr>\n",
       "      <th>3</th>\n",
       "      <td>4</td>\n",
       "      <td>family</td>\n",
       "      <td>6061</td>\n",
       "      <td>[(family, NN)]</td>\n",
       "      <td>NN</td>\n",
       "    </tr>\n",
       "    <tr>\n",
       "      <th>15779</th>\n",
       "      <td>15780</td>\n",
       "      <td>role</td>\n",
       "      <td>4326</td>\n",
       "      <td>[(role, NN)]</td>\n",
       "      <td>NN</td>\n",
       "    </tr>\n",
       "    <tr>\n",
       "      <th>15754</th>\n",
       "      <td>15755</td>\n",
       "      <td>cell</td>\n",
       "      <td>3707</td>\n",
       "      <td>[(cell, NN)]</td>\n",
       "      <td>NN</td>\n",
       "    </tr>\n",
       "    <tr>\n",
       "      <th>15757</th>\n",
       "      <td>15758</td>\n",
       "      <td>complex</td>\n",
       "      <td>3011</td>\n",
       "      <td>[(complex, JJ)]</td>\n",
       "      <td>JJ</td>\n",
       "    </tr>\n",
       "    <tr>\n",
       "      <th>...</th>\n",
       "      <td>...</td>\n",
       "      <td>...</td>\n",
       "      <td>...</td>\n",
       "      <td>...</td>\n",
       "      <td>...</td>\n",
       "    </tr>\n",
       "    <tr>\n",
       "      <th>18828</th>\n",
       "      <td>18829</td>\n",
       "      <td>tfg</td>\n",
       "      <td>1</td>\n",
       "      <td>[(tfg, NN)]</td>\n",
       "      <td>NN</td>\n",
       "    </tr>\n",
       "    <tr>\n",
       "      <th>9705</th>\n",
       "      <td>9706</td>\n",
       "      <td>phosphatidyetanolamline</td>\n",
       "      <td>1</td>\n",
       "      <td>[(phosphatidyetanolamline, NN)]</td>\n",
       "      <td>NN</td>\n",
       "    </tr>\n",
       "    <tr>\n",
       "      <th>9706</th>\n",
       "      <td>9707</td>\n",
       "      <td>tml</td>\n",
       "      <td>1</td>\n",
       "      <td>[(tml, NN)]</td>\n",
       "      <td>NN</td>\n",
       "    </tr>\n",
       "    <tr>\n",
       "      <th>9707</th>\n",
       "      <td>9708</td>\n",
       "      <td>hydroxytrimethyllysine</td>\n",
       "      <td>1</td>\n",
       "      <td>[(hydroxytrimethyllysine, NN)]</td>\n",
       "      <td>NN</td>\n",
       "    </tr>\n",
       "    <tr>\n",
       "      <th>31657</th>\n",
       "      <td>31658</td>\n",
       "      <td>hcg1991042</td>\n",
       "      <td>1</td>\n",
       "      <td>[(hcg1991042, NN)]</td>\n",
       "      <td>NN</td>\n",
       "    </tr>\n",
       "  </tbody>\n",
       "</table>\n",
       "<p>31658 rows × 5 columns</p>\n",
       "</div>"
      ],
      "text/plain": [
       "       index                attribute  count                         pos_tags  \\\n",
       "15737  15738                  protein   8946                  [(protein, NN)]   \n",
       "3          4                   family   6061                   [(family, NN)]   \n",
       "15779  15780                     role   4326                     [(role, NN)]   \n",
       "15754  15755                     cell   3707                     [(cell, NN)]   \n",
       "15757  15758                  complex   3011                  [(complex, JJ)]   \n",
       "...      ...                      ...    ...                              ...   \n",
       "18828  18829                      tfg      1                      [(tfg, NN)]   \n",
       "9705    9706  phosphatidyetanolamline      1  [(phosphatidyetanolamline, NN)]   \n",
       "9706    9707                      tml      1                      [(tml, NN)]   \n",
       "9707    9708   hydroxytrimethyllysine      1   [(hydroxytrimethyllysine, NN)]   \n",
       "31657  31658               hcg1991042      1               [(hcg1991042, NN)]   \n",
       "\n",
       "      tag_description  \n",
       "15737              NN  \n",
       "3                  NN  \n",
       "15779              NN  \n",
       "15754              NN  \n",
       "15757              JJ  \n",
       "...               ...  \n",
       "18828              NN  \n",
       "9705               NN  \n",
       "9706               NN  \n",
       "9707               NN  \n",
       "31657              NN  \n",
       "\n",
       "[31658 rows x 5 columns]"
      ]
     },
     "execution_count": 46,
     "metadata": {},
     "output_type": "execute_result"
    }
   ],
   "source": [
    "#less popular word, which is the less favorite word from scientist to use in protein descriptions\n",
    "count_word_pd.sort_values(by='count', ascending=False)\n",
    "#protein"
   ]
  },
  {
   "cell_type": "code",
   "execution_count": 47,
   "metadata": {},
   "outputs": [
    {
     "data": {
      "text/plain": [
       "array(['NN', 'JJ', 'RB', 'CD', 'VBG', 'NNS', 'VBN', 'IN', '.', 'VB',\n",
       "       'JJR', 'DT', 'VBD', 'JJS'], dtype=object)"
      ]
     },
     "execution_count": 47,
     "metadata": {},
     "output_type": "execute_result"
    }
   ],
   "source": [
    "#check unique values of tag_description\n",
    "count_word_pd['tag_description'].unique()"
   ]
  },
  {
   "cell_type": "code",
   "execution_count": 48,
   "metadata": {},
   "outputs": [],
   "source": [
    "#create dataframe with specific names https://www.nltk.org/api/nltk.tag.html\n",
    "tag_names = count_word_pd['tag_description'].unique()\n",
    "word_classification = ['noun','adjective','adverb','cardinal digit','gerund','noun plural','verb past participle','preposition','dot','verb','adjective comparative','determiner','verb past','adjective superlative']\n",
    "names_frame = pd.DataFrame({'tag_description':tag_names,'word_type':word_classification})"
   ]
  },
  {
   "cell_type": "code",
   "execution_count": 49,
   "metadata": {},
   "outputs": [],
   "source": [
    "final_words = count_word_pd.join(names_frame.set_index('tag_description'), on='tag_description', how='left')"
   ]
  },
  {
   "cell_type": "code",
   "execution_count": 50,
   "metadata": {},
   "outputs": [],
   "source": [
    "word_type_frequency = final_words[['count','word_type']].groupby('word_type').agg({'count': ['sum']}).reset_index()"
   ]
  },
  {
   "cell_type": "code",
   "execution_count": 51,
   "metadata": {},
   "outputs": [],
   "source": [
    "word_type_frequency.columns = ['word_type','count_sum']"
   ]
  },
  {
   "cell_type": "code",
   "execution_count": 52,
   "metadata": {},
   "outputs": [],
   "source": [
    "word_type_frequency['percentage'] = word_type_frequency['count_sum']/332866"
   ]
  },
  {
   "cell_type": "code",
   "execution_count": 53,
   "metadata": {},
   "outputs": [
    {
     "data": {
      "text/html": [
       "<div>\n",
       "<style scoped>\n",
       "    .dataframe tbody tr th:only-of-type {\n",
       "        vertical-align: middle;\n",
       "    }\n",
       "\n",
       "    .dataframe tbody tr th {\n",
       "        vertical-align: top;\n",
       "    }\n",
       "\n",
       "    .dataframe thead th {\n",
       "        text-align: right;\n",
       "    }\n",
       "</style>\n",
       "<table border=\"1\" class=\"dataframe\">\n",
       "  <thead>\n",
       "    <tr style=\"text-align: right;\">\n",
       "      <th></th>\n",
       "      <th>word_type</th>\n",
       "      <th>count_sum</th>\n",
       "      <th>percentage</th>\n",
       "      <th>count_sum_norm</th>\n",
       "    </tr>\n",
       "  </thead>\n",
       "  <tbody>\n",
       "    <tr>\n",
       "      <th>0</th>\n",
       "      <td>adjective</td>\n",
       "      <td>43776</td>\n",
       "      <td>0.131512</td>\n",
       "      <td>0.161774</td>\n",
       "    </tr>\n",
       "    <tr>\n",
       "      <th>1</th>\n",
       "      <td>adjective comparative</td>\n",
       "      <td>8</td>\n",
       "      <td>0.000024</td>\n",
       "      <td>0.000022</td>\n",
       "    </tr>\n",
       "    <tr>\n",
       "      <th>2</th>\n",
       "      <td>adjective superlative</td>\n",
       "      <td>2</td>\n",
       "      <td>0.000006</td>\n",
       "      <td>0.000000</td>\n",
       "    </tr>\n",
       "    <tr>\n",
       "      <th>3</th>\n",
       "      <td>adverb</td>\n",
       "      <td>12308</td>\n",
       "      <td>0.036976</td>\n",
       "      <td>0.045479</td>\n",
       "    </tr>\n",
       "    <tr>\n",
       "      <th>4</th>\n",
       "      <td>cardinal digit</td>\n",
       "      <td>24</td>\n",
       "      <td>0.000072</td>\n",
       "      <td>0.000081</td>\n",
       "    </tr>\n",
       "    <tr>\n",
       "      <th>5</th>\n",
       "      <td>determiner</td>\n",
       "      <td>14</td>\n",
       "      <td>0.000042</td>\n",
       "      <td>0.000044</td>\n",
       "    </tr>\n",
       "    <tr>\n",
       "      <th>6</th>\n",
       "      <td>dot</td>\n",
       "      <td>76</td>\n",
       "      <td>0.000228</td>\n",
       "      <td>0.000273</td>\n",
       "    </tr>\n",
       "    <tr>\n",
       "      <th>7</th>\n",
       "      <td>gerund</td>\n",
       "      <td>2149</td>\n",
       "      <td>0.006456</td>\n",
       "      <td>0.007935</td>\n",
       "    </tr>\n",
       "    <tr>\n",
       "      <th>8</th>\n",
       "      <td>noun</td>\n",
       "      <td>270589</td>\n",
       "      <td>0.812907</td>\n",
       "      <td>1.000000</td>\n",
       "    </tr>\n",
       "    <tr>\n",
       "      <th>9</th>\n",
       "      <td>noun plural</td>\n",
       "      <td>1627</td>\n",
       "      <td>0.004888</td>\n",
       "      <td>0.006005</td>\n",
       "    </tr>\n",
       "    <tr>\n",
       "      <th>10</th>\n",
       "      <td>preposition</td>\n",
       "      <td>31</td>\n",
       "      <td>0.000093</td>\n",
       "      <td>0.000107</td>\n",
       "    </tr>\n",
       "    <tr>\n",
       "      <th>11</th>\n",
       "      <td>verb</td>\n",
       "      <td>374</td>\n",
       "      <td>0.001124</td>\n",
       "      <td>0.001375</td>\n",
       "    </tr>\n",
       "    <tr>\n",
       "      <th>12</th>\n",
       "      <td>verb past</td>\n",
       "      <td>10</td>\n",
       "      <td>0.000030</td>\n",
       "      <td>0.000030</td>\n",
       "    </tr>\n",
       "    <tr>\n",
       "      <th>13</th>\n",
       "      <td>verb past participle</td>\n",
       "      <td>1877</td>\n",
       "      <td>0.005639</td>\n",
       "      <td>0.006929</td>\n",
       "    </tr>\n",
       "  </tbody>\n",
       "</table>\n",
       "</div>"
      ],
      "text/plain": [
       "                word_type  count_sum  percentage  count_sum_norm\n",
       "0               adjective      43776    0.131512        0.161774\n",
       "1   adjective comparative          8    0.000024        0.000022\n",
       "2   adjective superlative          2    0.000006        0.000000\n",
       "3                  adverb      12308    0.036976        0.045479\n",
       "4          cardinal digit         24    0.000072        0.000081\n",
       "5              determiner         14    0.000042        0.000044\n",
       "6                     dot         76    0.000228        0.000273\n",
       "7                  gerund       2149    0.006456        0.007935\n",
       "8                    noun     270589    0.812907        1.000000\n",
       "9             noun plural       1627    0.004888        0.006005\n",
       "10            preposition         31    0.000093        0.000107\n",
       "11                   verb        374    0.001124        0.001375\n",
       "12              verb past         10    0.000030        0.000030\n",
       "13   verb past participle       1877    0.005639        0.006929"
      ]
     },
     "execution_count": 53,
     "metadata": {},
     "output_type": "execute_result"
    }
   ],
   "source": [
    "#normalization, just in case\n",
    "word_type_frequency['count_sum_norm'] = (word_type_frequency['count_sum']-word_type_frequency['count_sum'].min())/(word_type_frequency['count_sum'].max()-word_type_frequency['count_sum'].min())\n",
    "#word_type_frequency.columns = ['count_sum','percentage','count_sum_norm']\n",
    "#word_type_frequency['word_type'] = word_type_frequency.index\n",
    "word_type_frequency"
   ]
  },
  {
   "cell_type": "code",
   "execution_count": 54,
   "metadata": {},
   "outputs": [
    {
     "data": {
      "text/plain": [
       "numpy.ndarray"
      ]
     },
     "execution_count": 54,
     "metadata": {},
     "output_type": "execute_result"
    }
   ],
   "source": [
    "type(np.array(list(word_type_frequency['count_sum'])))"
   ]
  },
  {
   "cell_type": "code",
   "execution_count": 55,
   "metadata": {},
   "outputs": [
    {
     "data": {
      "image/png": "[encoded data removed]",
      "text/plain": [
       "<Figure size 640x480 with 1 Axes>"
      ]
     },
     "metadata": {},
     "output_type": "display_data"
    }
   ],
   "source": [
    "#Distribution of each word_type, as we can see most of the values near by zero. \n",
    "#It is a Skewed distribution to the left.\n",
    "fig,ax = plt.subplots(1,1)\n",
    "a = np.array(word_type_frequency['percentage'])\n",
    "ax.hist(a, bins = [0,0.1,0.2,0.3,0.4,0.5,0.6,0.7,0.8,0.9,1])\n",
    "ax.set_title(\"Distribution of word_type frequencies\")\n",
    "ax.set_xticks([0,0.1,0.2,0.3,0.4,0.5,0.6,0.7,0.8,0.9,1])\n",
    "ax.set_xlabel('Bins per 10% slot')\n",
    "ax.set_ylabel('Amount of categories of word types')\n",
    "plt.show()\n"
   ]
  },
  {
   "cell_type": "code",
   "execution_count": 56,
   "metadata": {},
   "outputs": [
    {
     "data": {
      "image/png": "[encoded data removed]",
      "text/plain": [
       "<Figure size 640x480 with 1 Axes>"
      ]
     },
     "metadata": {},
     "output_type": "display_data"
    }
   ],
   "source": [
    "#Box plot to see the statistical properties. \n",
    "fig = plt.figure()\n",
    "# Create an axes instance\n",
    "ax = fig.add_axes([0,0,1,1])\n",
    "# Create the boxplot\n",
    "bp = ax.boxplot(word_type_frequency['percentage'])\n",
    "plt.show()"
   ]
  },
  {
   "cell_type": "code",
   "execution_count": 57,
   "metadata": {},
   "outputs": [],
   "source": [
    "mean_percentage =  word_type_frequency['percentage'].mean()\n",
    "median_percentage =  word_type_frequency['percentage'].median()\n",
    "std_percentage = word_type_frequency['percentage'].std()\n",
    "Q1 = word_type_frequency['percentage'].quantile(0.25)\n",
    "Q3 = word_type_frequency['percentage'].quantile(0.75)\n",
    "IQR = Q3 - Q1"
   ]
  },
  {
   "cell_type": "code",
   "execution_count": 58,
   "metadata": {},
   "outputs": [
    {
     "name": "stdout",
     "output_type": "stream",
     "text": [
      "mean: 0.07142835684200678, median: 0.000675947678645461, Q1: 4.9569496434000474e-05, Q3: 0.0062517649744942404, IQR = 0.00620219547806024, STD = 0.21628872662294316\n"
     ]
    }
   ],
   "source": [
    "print(f'mean: {mean_percentage}, median: {median_percentage}, Q1: {Q1}, Q3: {Q3}, IQR = {IQR}, STD = {std_percentage}')"
   ]
  },
  {
   "cell_type": "code",
   "execution_count": 59,
   "metadata": {},
   "outputs": [
    {
     "data": {
      "text/plain": [
       "<matplotlib.legend.Legend at 0x7f23c420c070>"
      ]
     },
     "execution_count": 59,
     "metadata": {},
     "output_type": "execute_result"
    },
    {
     "data": {
      "image/png": "[encoded data removed]",
      "text/plain": [
       "<Figure size 1100x500 with 1 Axes>"
      ]
     },
     "metadata": {},
     "output_type": "display_data"
    }
   ],
   "source": [
    "word_type_frequency = word_type_frequency.set_index('word_type')\n",
    "plot = word_type_frequency.plot.pie(y='count_sum_norm', figsize=(11, 5))\n",
    "plot.legend(loc=3)"
   ]
  },
  {
   "cell_type": "code",
   "execution_count": 60,
   "metadata": {},
   "outputs": [
    {
     "data": {
      "image/png": "[encoded data removed]",
      "text/plain": [
       "<Figure size 640x480 with 1 Axes>"
      ]
     },
     "metadata": {},
     "output_type": "display_data"
    }
   ],
   "source": [
    "import matplotlib.pyplot as plt; plt.rcdefaults()\n",
    "import numpy as np\n",
    "import matplotlib.pyplot as plt\n",
    "word_type_frequency['word_type'] = word_type_frequency.index\n",
    "word_type = word_type_frequency['word_type']\n",
    "y_pos = np.arange(len(word_type))\n",
    "percentage = word_type_frequency['percentage']\n",
    "\n",
    "plt.bar(y_pos, percentage, align='center', alpha=0.5)\n",
    "plt.xticks(y_pos, word_type, rotation='vertical')\n",
    "plt.ylabel('Percentage')\n",
    "plt.title('Frequency of words in cancer description')\n",
    "\n",
    "plt.show()"
   ]
  },
  {
   "cell_type": "code",
   "execution_count": 61,
   "metadata": {},
   "outputs": [],
   "source": [
    "#get the frequency of negative words and order\n",
    "neg_order = count_word_pd[count_word_pd['attribute'].isin(neg_words_list)].sort_values(by=['count'])"
   ]
  },
  {
   "cell_type": "code",
   "execution_count": 62,
   "metadata": {},
   "outputs": [],
   "source": [
    "neg_order['distribution_neg_word'] = neg_order['count']/file.count()"
   ]
  },
  {
   "cell_type": "code",
   "execution_count": 63,
   "metadata": {},
   "outputs": [
    {
     "data": {
      "text/html": [
       "<div>\n",
       "<style scoped>\n",
       "    .dataframe tbody tr th:only-of-type {\n",
       "        vertical-align: middle;\n",
       "    }\n",
       "\n",
       "    .dataframe tbody tr th {\n",
       "        vertical-align: top;\n",
       "    }\n",
       "\n",
       "    .dataframe thead th {\n",
       "        text-align: right;\n",
       "    }\n",
       "</style>\n",
       "<table border=\"1\" class=\"dataframe\">\n",
       "  <thead>\n",
       "    <tr style=\"text-align: right;\">\n",
       "      <th></th>\n",
       "      <th>index</th>\n",
       "      <th>attribute</th>\n",
       "      <th>count</th>\n",
       "      <th>pos_tags</th>\n",
       "      <th>tag_description</th>\n",
       "      <th>distribution_neg_word</th>\n",
       "    </tr>\n",
       "  </thead>\n",
       "  <tbody>\n",
       "    <tr>\n",
       "      <th>29236</th>\n",
       "      <td>29237</td>\n",
       "      <td>advance</td>\n",
       "      <td>1</td>\n",
       "      <td>[(advance, NN)]</td>\n",
       "      <td>NN</td>\n",
       "      <td>0.000003</td>\n",
       "    </tr>\n",
       "    <tr>\n",
       "      <th>14914</th>\n",
       "      <td>14915</td>\n",
       "      <td>advancement</td>\n",
       "      <td>1</td>\n",
       "      <td>[(advancement, NN)]</td>\n",
       "      <td>NN</td>\n",
       "      <td>0.000003</td>\n",
       "    </tr>\n",
       "    <tr>\n",
       "      <th>28912</th>\n",
       "      <td>28913</td>\n",
       "      <td>boost</td>\n",
       "      <td>1</td>\n",
       "      <td>[(boost, NN)]</td>\n",
       "      <td>NN</td>\n",
       "      <td>0.000003</td>\n",
       "    </tr>\n",
       "    <tr>\n",
       "      <th>19068</th>\n",
       "      <td>19069</td>\n",
       "      <td>raise</td>\n",
       "      <td>2</td>\n",
       "      <td>[(raise, NN)]</td>\n",
       "      <td>NN</td>\n",
       "      <td>0.000006</td>\n",
       "    </tr>\n",
       "    <tr>\n",
       "      <th>4221</th>\n",
       "      <td>4222</td>\n",
       "      <td>elevate</td>\n",
       "      <td>2</td>\n",
       "      <td>[(elevate, NN)]</td>\n",
       "      <td>NN</td>\n",
       "      <td>0.000006</td>\n",
       "    </tr>\n",
       "    <tr>\n",
       "      <th>3640</th>\n",
       "      <td>3641</td>\n",
       "      <td>static</td>\n",
       "      <td>2</td>\n",
       "      <td>[(static, JJ)]</td>\n",
       "      <td>JJ</td>\n",
       "      <td>0.000006</td>\n",
       "    </tr>\n",
       "    <tr>\n",
       "      <th>1928</th>\n",
       "      <td>1929</td>\n",
       "      <td>passive</td>\n",
       "      <td>7</td>\n",
       "      <td>[(passive, NN)]</td>\n",
       "      <td>NN</td>\n",
       "      <td>0.000021</td>\n",
       "    </tr>\n",
       "    <tr>\n",
       "      <th>20548</th>\n",
       "      <td>20549</td>\n",
       "      <td>still</td>\n",
       "      <td>7</td>\n",
       "      <td>[(still, RB)]</td>\n",
       "      <td>RB</td>\n",
       "      <td>0.000021</td>\n",
       "    </tr>\n",
       "    <tr>\n",
       "      <th>1213</th>\n",
       "      <td>1214</td>\n",
       "      <td>malignancy</td>\n",
       "      <td>9</td>\n",
       "      <td>[(malignancy, NN)]</td>\n",
       "      <td>NN</td>\n",
       "      <td>0.000027</td>\n",
       "    </tr>\n",
       "    <tr>\n",
       "      <th>182</th>\n",
       "      <td>183</td>\n",
       "      <td>connect</td>\n",
       "      <td>12</td>\n",
       "      <td>[(connect, NN)]</td>\n",
       "      <td>NN</td>\n",
       "      <td>0.000036</td>\n",
       "    </tr>\n",
       "    <tr>\n",
       "      <th>3714</th>\n",
       "      <td>3715</td>\n",
       "      <td>susceptibility</td>\n",
       "      <td>14</td>\n",
       "      <td>[(susceptibility, NN)]</td>\n",
       "      <td>NN</td>\n",
       "      <td>0.000042</td>\n",
       "    </tr>\n",
       "    <tr>\n",
       "      <th>1266</th>\n",
       "      <td>1267</td>\n",
       "      <td>progress</td>\n",
       "      <td>20</td>\n",
       "      <td>[(progress, NN)]</td>\n",
       "      <td>NN</td>\n",
       "      <td>0.000060</td>\n",
       "    </tr>\n",
       "    <tr>\n",
       "      <th>536</th>\n",
       "      <td>537</td>\n",
       "      <td>metastasis</td>\n",
       "      <td>34</td>\n",
       "      <td>[(metastasis, NN)]</td>\n",
       "      <td>NN</td>\n",
       "      <td>0.000102</td>\n",
       "    </tr>\n",
       "    <tr>\n",
       "      <th>16515</th>\n",
       "      <td>16516</td>\n",
       "      <td>disease</td>\n",
       "      <td>44</td>\n",
       "      <td>[(disease, NN)]</td>\n",
       "      <td>NN</td>\n",
       "      <td>0.000132</td>\n",
       "    </tr>\n",
       "    <tr>\n",
       "      <th>690</th>\n",
       "      <td>691</td>\n",
       "      <td>progenitor</td>\n",
       "      <td>81</td>\n",
       "      <td>[(progenitor, NN)]</td>\n",
       "      <td>NN</td>\n",
       "      <td>0.000243</td>\n",
       "    </tr>\n",
       "    <tr>\n",
       "      <th>1855</th>\n",
       "      <td>1856</td>\n",
       "      <td>modulation</td>\n",
       "      <td>95</td>\n",
       "      <td>[(modulation, NN)]</td>\n",
       "      <td>NN</td>\n",
       "      <td>0.000285</td>\n",
       "    </tr>\n",
       "    <tr>\n",
       "      <th>16917</th>\n",
       "      <td>16918</td>\n",
       "      <td>link</td>\n",
       "      <td>125</td>\n",
       "      <td>[(link, NN)]</td>\n",
       "      <td>NN</td>\n",
       "      <td>0.000376</td>\n",
       "    </tr>\n",
       "    <tr>\n",
       "      <th>16509</th>\n",
       "      <td>16510</td>\n",
       "      <td>conversion</td>\n",
       "      <td>150</td>\n",
       "      <td>[(conversion, NN)]</td>\n",
       "      <td>NN</td>\n",
       "      <td>0.000451</td>\n",
       "    </tr>\n",
       "    <tr>\n",
       "      <th>16842</th>\n",
       "      <td>16843</td>\n",
       "      <td>transition</td>\n",
       "      <td>166</td>\n",
       "      <td>[(transition, NN)]</td>\n",
       "      <td>NN</td>\n",
       "      <td>0.000499</td>\n",
       "    </tr>\n",
       "    <tr>\n",
       "      <th>17</th>\n",
       "      <td>18</td>\n",
       "      <td>promote</td>\n",
       "      <td>258</td>\n",
       "      <td>[(promote, NN)]</td>\n",
       "      <td>NN</td>\n",
       "      <td>0.000775</td>\n",
       "    </tr>\n",
       "    <tr>\n",
       "      <th>17135</th>\n",
       "      <td>17136</td>\n",
       "      <td>associate</td>\n",
       "      <td>261</td>\n",
       "      <td>[(associate, NN)]</td>\n",
       "      <td>NN</td>\n",
       "      <td>0.000784</td>\n",
       "    </tr>\n",
       "    <tr>\n",
       "      <th>34</th>\n",
       "      <td>35</td>\n",
       "      <td>inactive</td>\n",
       "      <td>269</td>\n",
       "      <td>[(inactive, JJ)]</td>\n",
       "      <td>JJ</td>\n",
       "      <td>0.000808</td>\n",
       "    </tr>\n",
       "    <tr>\n",
       "      <th>150</th>\n",
       "      <td>151</td>\n",
       "      <td>downstream</td>\n",
       "      <td>283</td>\n",
       "      <td>[(downstream, NN)]</td>\n",
       "      <td>NN</td>\n",
       "      <td>0.000850</td>\n",
       "    </tr>\n",
       "    <tr>\n",
       "      <th>16337</th>\n",
       "      <td>16338</td>\n",
       "      <td>progression</td>\n",
       "      <td>336</td>\n",
       "      <td>[(progression, NN)]</td>\n",
       "      <td>NN</td>\n",
       "      <td>0.001009</td>\n",
       "    </tr>\n",
       "    <tr>\n",
       "      <th>207</th>\n",
       "      <td>208</td>\n",
       "      <td>repeat</td>\n",
       "      <td>623</td>\n",
       "      <td>[(repeat, NN)]</td>\n",
       "      <td>NN</td>\n",
       "      <td>0.001872</td>\n",
       "    </tr>\n",
       "    <tr>\n",
       "      <th>153</th>\n",
       "      <td>154</td>\n",
       "      <td>proliferation</td>\n",
       "      <td>716</td>\n",
       "      <td>[(proliferation, NN)]</td>\n",
       "      <td>NN</td>\n",
       "      <td>0.002151</td>\n",
       "    </tr>\n",
       "  </tbody>\n",
       "</table>\n",
       "</div>"
      ],
      "text/plain": [
       "       index       attribute  count                pos_tags tag_description  \\\n",
       "29236  29237         advance      1         [(advance, NN)]              NN   \n",
       "14914  14915     advancement      1     [(advancement, NN)]              NN   \n",
       "28912  28913           boost      1           [(boost, NN)]              NN   \n",
       "19068  19069           raise      2           [(raise, NN)]              NN   \n",
       "4221    4222         elevate      2         [(elevate, NN)]              NN   \n",
       "3640    3641          static      2          [(static, JJ)]              JJ   \n",
       "1928    1929         passive      7         [(passive, NN)]              NN   \n",
       "20548  20549           still      7           [(still, RB)]              RB   \n",
       "1213    1214      malignancy      9      [(malignancy, NN)]              NN   \n",
       "182      183         connect     12         [(connect, NN)]              NN   \n",
       "3714    3715  susceptibility     14  [(susceptibility, NN)]              NN   \n",
       "1266    1267        progress     20        [(progress, NN)]              NN   \n",
       "536      537      metastasis     34      [(metastasis, NN)]              NN   \n",
       "16515  16516         disease     44         [(disease, NN)]              NN   \n",
       "690      691      progenitor     81      [(progenitor, NN)]              NN   \n",
       "1855    1856      modulation     95      [(modulation, NN)]              NN   \n",
       "16917  16918            link    125            [(link, NN)]              NN   \n",
       "16509  16510      conversion    150      [(conversion, NN)]              NN   \n",
       "16842  16843      transition    166      [(transition, NN)]              NN   \n",
       "17        18         promote    258         [(promote, NN)]              NN   \n",
       "17135  17136       associate    261       [(associate, NN)]              NN   \n",
       "34        35        inactive    269        [(inactive, JJ)]              JJ   \n",
       "150      151      downstream    283      [(downstream, NN)]              NN   \n",
       "16337  16338     progression    336     [(progression, NN)]              NN   \n",
       "207      208          repeat    623          [(repeat, NN)]              NN   \n",
       "153      154   proliferation    716   [(proliferation, NN)]              NN   \n",
       "\n",
       "       distribution_neg_word  \n",
       "29236               0.000003  \n",
       "14914               0.000003  \n",
       "28912               0.000003  \n",
       "19068               0.000006  \n",
       "4221                0.000006  \n",
       "3640                0.000006  \n",
       "1928                0.000021  \n",
       "20548               0.000021  \n",
       "1213                0.000027  \n",
       "182                 0.000036  \n",
       "3714                0.000042  \n",
       "1266                0.000060  \n",
       "536                 0.000102  \n",
       "16515               0.000132  \n",
       "690                 0.000243  \n",
       "1855                0.000285  \n",
       "16917               0.000376  \n",
       "16509               0.000451  \n",
       "16842               0.000499  \n",
       "17                  0.000775  \n",
       "17135               0.000784  \n",
       "34                  0.000808  \n",
       "150                 0.000850  \n",
       "16337               0.001009  \n",
       "207                 0.001872  \n",
       "153                 0.002151  "
      ]
     },
     "execution_count": 63,
     "metadata": {},
     "output_type": "execute_result"
    }
   ],
   "source": [
    "neg_order"
   ]
  },
  {
   "cell_type": "code",
   "execution_count": 64,
   "metadata": {},
   "outputs": [],
   "source": [
    "#given the order of my negative words I decided to apply a category of -1 to -5 equally distributed\n",
    "# I am assuming that they are equally distributed."
   ]
  },
  {
   "cell_type": "code",
   "execution_count": 65,
   "metadata": {},
   "outputs": [],
   "source": [
    "# get the frequency of postive words and order\n",
    "pos_order = count_word_pd[count_word_pd['attribute'].isin(pos_words_list)].sort_values(by=['count'])"
   ]
  },
  {
   "cell_type": "code",
   "execution_count": 66,
   "metadata": {},
   "outputs": [
    {
     "data": {
      "text/html": [
       "<div>\n",
       "<style scoped>\n",
       "    .dataframe tbody tr th:only-of-type {\n",
       "        vertical-align: middle;\n",
       "    }\n",
       "\n",
       "    .dataframe tbody tr th {\n",
       "        vertical-align: top;\n",
       "    }\n",
       "\n",
       "    .dataframe thead th {\n",
       "        text-align: right;\n",
       "    }\n",
       "</style>\n",
       "<table border=\"1\" class=\"dataframe\">\n",
       "  <thead>\n",
       "    <tr style=\"text-align: right;\">\n",
       "      <th></th>\n",
       "      <th>index</th>\n",
       "      <th>attribute</th>\n",
       "      <th>count</th>\n",
       "      <th>pos_tags</th>\n",
       "      <th>tag_description</th>\n",
       "    </tr>\n",
       "  </thead>\n",
       "  <tbody>\n",
       "    <tr>\n",
       "      <th>28120</th>\n",
       "      <td>28121</td>\n",
       "      <td>least</td>\n",
       "      <td>1</td>\n",
       "      <td>[(least, JJS)]</td>\n",
       "      <td>JJS</td>\n",
       "    </tr>\n",
       "    <tr>\n",
       "      <th>9700</th>\n",
       "      <td>9701</td>\n",
       "      <td>fall</td>\n",
       "      <td>1</td>\n",
       "      <td>[(fall, NN)]</td>\n",
       "      <td>NN</td>\n",
       "    </tr>\n",
       "    <tr>\n",
       "      <th>25616</th>\n",
       "      <td>25617</td>\n",
       "      <td>steady</td>\n",
       "      <td>2</td>\n",
       "      <td>[(steady, JJ)]</td>\n",
       "      <td>JJ</td>\n",
       "    </tr>\n",
       "    <tr>\n",
       "      <th>14185</th>\n",
       "      <td>14186</td>\n",
       "      <td>preclude</td>\n",
       "      <td>2</td>\n",
       "      <td>[(preclude, NN)]</td>\n",
       "      <td>NN</td>\n",
       "    </tr>\n",
       "    <tr>\n",
       "      <th>25226</th>\n",
       "      <td>25227</td>\n",
       "      <td>keep</td>\n",
       "      <td>4</td>\n",
       "      <td>[(keep, VB)]</td>\n",
       "      <td>VB</td>\n",
       "    </tr>\n",
       "    <tr>\n",
       "      <th>21552</th>\n",
       "      <td>21553</td>\n",
       "      <td>mediated</td>\n",
       "      <td>17</td>\n",
       "      <td>[(mediated, VBN)]</td>\n",
       "      <td>VBN</td>\n",
       "    </tr>\n",
       "    <tr>\n",
       "      <th>859</th>\n",
       "      <td>860</td>\n",
       "      <td>degrade</td>\n",
       "      <td>20</td>\n",
       "      <td>[(degrade, NN)]</td>\n",
       "      <td>NN</td>\n",
       "    </tr>\n",
       "    <tr>\n",
       "      <th>19570</th>\n",
       "      <td>19571</td>\n",
       "      <td>stabilize</td>\n",
       "      <td>24</td>\n",
       "      <td>[(stabilize, VB)]</td>\n",
       "      <td>VB</td>\n",
       "    </tr>\n",
       "    <tr>\n",
       "      <th>247</th>\n",
       "      <td>248</td>\n",
       "      <td>suppress</td>\n",
       "      <td>42</td>\n",
       "      <td>[(suppress, NN)]</td>\n",
       "      <td>NN</td>\n",
       "    </tr>\n",
       "    <tr>\n",
       "      <th>16227</th>\n",
       "      <td>16228</td>\n",
       "      <td>protect</td>\n",
       "      <td>42</td>\n",
       "      <td>[(protect, NN)]</td>\n",
       "      <td>NN</td>\n",
       "    </tr>\n",
       "    <tr>\n",
       "      <th>15909</th>\n",
       "      <td>15910</td>\n",
       "      <td>resistance</td>\n",
       "      <td>52</td>\n",
       "      <td>[(resistance, NN)]</td>\n",
       "      <td>NN</td>\n",
       "    </tr>\n",
       "    <tr>\n",
       "      <th>17753</th>\n",
       "      <td>17754</td>\n",
       "      <td>repress</td>\n",
       "      <td>72</td>\n",
       "      <td>[(repress, NN)]</td>\n",
       "      <td>NN</td>\n",
       "    </tr>\n",
       "    <tr>\n",
       "      <th>15864</th>\n",
       "      <td>15865</td>\n",
       "      <td>decrease</td>\n",
       "      <td>73</td>\n",
       "      <td>[(decrease, NN)]</td>\n",
       "      <td>NN</td>\n",
       "    </tr>\n",
       "    <tr>\n",
       "      <th>766</th>\n",
       "      <td>767</td>\n",
       "      <td>prevent</td>\n",
       "      <td>78</td>\n",
       "      <td>[(prevent, NN)]</td>\n",
       "      <td>NN</td>\n",
       "    </tr>\n",
       "    <tr>\n",
       "      <th>16716</th>\n",
       "      <td>16717</td>\n",
       "      <td>reduction</td>\n",
       "      <td>85</td>\n",
       "      <td>[(reduction, NN)]</td>\n",
       "      <td>NN</td>\n",
       "    </tr>\n",
       "    <tr>\n",
       "      <th>265</th>\n",
       "      <td>266</td>\n",
       "      <td>immunity</td>\n",
       "      <td>101</td>\n",
       "      <td>[(immunity, NN)]</td>\n",
       "      <td>NN</td>\n",
       "    </tr>\n",
       "    <tr>\n",
       "      <th>17190</th>\n",
       "      <td>17191</td>\n",
       "      <td>inhibit</td>\n",
       "      <td>191</td>\n",
       "      <td>[(inhibit, NN)]</td>\n",
       "      <td>NN</td>\n",
       "    </tr>\n",
       "    <tr>\n",
       "      <th>16115</th>\n",
       "      <td>16116</td>\n",
       "      <td>suppressor</td>\n",
       "      <td>195</td>\n",
       "      <td>[(suppressor, NN)]</td>\n",
       "      <td>NN</td>\n",
       "    </tr>\n",
       "    <tr>\n",
       "      <th>15985</th>\n",
       "      <td>15986</td>\n",
       "      <td>intermediate</td>\n",
       "      <td>278</td>\n",
       "      <td>[(intermediate, NN)]</td>\n",
       "      <td>NN</td>\n",
       "    </tr>\n",
       "    <tr>\n",
       "      <th>240</th>\n",
       "      <td>241</td>\n",
       "      <td>mediate</td>\n",
       "      <td>279</td>\n",
       "      <td>[(mediate, NN)]</td>\n",
       "      <td>NN</td>\n",
       "    </tr>\n",
       "    <tr>\n",
       "      <th>16002</th>\n",
       "      <td>16003</td>\n",
       "      <td>repressor</td>\n",
       "      <td>361</td>\n",
       "      <td>[(repressor, NN)]</td>\n",
       "      <td>NN</td>\n",
       "    </tr>\n",
       "  </tbody>\n",
       "</table>\n",
       "</div>"
      ],
      "text/plain": [
       "       index     attribute  count              pos_tags tag_description\n",
       "28120  28121         least      1        [(least, JJS)]             JJS\n",
       "9700    9701          fall      1          [(fall, NN)]              NN\n",
       "25616  25617        steady      2        [(steady, JJ)]              JJ\n",
       "14185  14186      preclude      2      [(preclude, NN)]              NN\n",
       "25226  25227          keep      4          [(keep, VB)]              VB\n",
       "21552  21553      mediated     17     [(mediated, VBN)]             VBN\n",
       "859      860       degrade     20       [(degrade, NN)]              NN\n",
       "19570  19571     stabilize     24     [(stabilize, VB)]              VB\n",
       "247      248      suppress     42      [(suppress, NN)]              NN\n",
       "16227  16228       protect     42       [(protect, NN)]              NN\n",
       "15909  15910    resistance     52    [(resistance, NN)]              NN\n",
       "17753  17754       repress     72       [(repress, NN)]              NN\n",
       "15864  15865      decrease     73      [(decrease, NN)]              NN\n",
       "766      767       prevent     78       [(prevent, NN)]              NN\n",
       "16716  16717     reduction     85     [(reduction, NN)]              NN\n",
       "265      266      immunity    101      [(immunity, NN)]              NN\n",
       "17190  17191       inhibit    191       [(inhibit, NN)]              NN\n",
       "16115  16116    suppressor    195    [(suppressor, NN)]              NN\n",
       "15985  15986  intermediate    278  [(intermediate, NN)]              NN\n",
       "240      241       mediate    279       [(mediate, NN)]              NN\n",
       "16002  16003     repressor    361     [(repressor, NN)]              NN"
      ]
     },
     "execution_count": 66,
     "metadata": {},
     "output_type": "execute_result"
    }
   ],
   "source": [
    "pos_order"
   ]
  },
  {
   "cell_type": "code",
   "execution_count": 67,
   "metadata": {},
   "outputs": [
    {
     "data": {
      "text/plain": [
       "26"
      ]
     },
     "execution_count": 67,
     "metadata": {},
     "output_type": "execute_result"
    }
   ],
   "source": [
    "len(neg_order)"
   ]
  },
  {
   "cell_type": "code",
   "execution_count": 68,
   "metadata": {},
   "outputs": [],
   "source": [
    "#implementing sentiment analysis\n",
    "protein_description_original = pd.DataFrame(data[1:], columns = data[0])"
   ]
  },
  {
   "cell_type": "code",
   "execution_count": 69,
   "metadata": {},
   "outputs": [],
   "source": [
    "def contains_cancer(txt):\n",
    "    txt = txt.lower()\n",
    "    if \"cancer\" in txt:\n",
    "        cancer = 1\n",
    "    else: \n",
    "        cancer = 0\n",
    "    return cancer"
   ]
  },
  {
   "cell_type": "code",
   "execution_count": 70,
   "metadata": {},
   "outputs": [],
   "source": [
    "protein_description_original['cancer'] = list(map(contains_cancer,protein_description_original['annotation\\n']))"
   ]
  },
  {
   "cell_type": "code",
   "execution_count": 71,
   "metadata": {},
   "outputs": [],
   "source": [
    "protein_description_original = protein_description_original[protein_description_original['cancer'] == True]"
   ]
  },
  {
   "cell_type": "code",
   "execution_count": 72,
   "metadata": {},
   "outputs": [],
   "source": [
    "neg_tags = [item[0] for item in neg_tags]\n",
    "pos_tags = [item[0] for item in pos_tags]"
   ]
  },
  {
   "cell_type": "markdown",
   "metadata": {},
   "source": [
    "# #TODO FINISH THE SENTIMENT ANALYSIS"
   ]
  },
  {
   "cell_type": "code",
   "execution_count": 73,
   "metadata": {},
   "outputs": [],
   "source": [
    "def compute_sentiment_pos(txt):\n",
    "    pos_words = pos_tags\n",
    "    if '_NEG' in ''.join(nltk.sentiment.util.mark_negation(txt.split())):\n",
    "        score = -1\n",
    "    else:\n",
    "        analysis = nltk.sentiment.util.extract_unigram_feats(txt.split(), pos_words)\n",
    "        if True in analysis.values():\n",
    "            score = 1\n",
    "        else:\n",
    "            score = 0\n",
    "    return score\n",
    "def compute_sentiment_neg(txt):\n",
    "    neg_words = neg_tags\n",
    "    analysis = nltk.sentiment.util.extract_unigram_feats(txt.split(), neg_words)\n",
    "    if True in analysis.values():\n",
    "        score = -1\n",
    "    else:\n",
    "        score = 0\n",
    "    return score"
   ]
  },
  {
   "cell_type": "code",
   "execution_count": 74,
   "metadata": {},
   "outputs": [],
   "source": [
    "protein_description_original['positive'] = list(map(compute_sentiment_pos,protein_description_original['annotation\\n']))"
   ]
  },
  {
   "cell_type": "code",
   "execution_count": 75,
   "metadata": {},
   "outputs": [],
   "source": [
    "protein_description_original['negative'] = list(map(compute_sentiment_neg,protein_description_original['annotation\\n']))"
   ]
  },
  {
   "cell_type": "code",
   "execution_count": 76,
   "metadata": {},
   "outputs": [
    {
     "data": {
      "text/plain": [
       "array([ 1, -1,  0])"
      ]
     },
     "execution_count": 76,
     "metadata": {},
     "output_type": "execute_result"
    }
   ],
   "source": [
    "protein_description_original['positive'].unique()"
   ]
  },
  {
   "cell_type": "code",
   "execution_count": 77,
   "metadata": {},
   "outputs": [],
   "source": [
    "protein_desc_minusone = protein_description_original[protein_description_original['positive'] == -1]"
   ]
  },
  {
   "cell_type": "code",
   "execution_count": 78,
   "metadata": {},
   "outputs": [
    {
     "data": {
      "text/html": [
       "<div>\n",
       "<style scoped>\n",
       "    .dataframe tbody tr th:only-of-type {\n",
       "        vertical-align: middle;\n",
       "    }\n",
       "\n",
       "    .dataframe tbody tr th {\n",
       "        vertical-align: top;\n",
       "    }\n",
       "\n",
       "    .dataframe thead th {\n",
       "        text-align: right;\n",
       "    }\n",
       "</style>\n",
       "<table border=\"1\" class=\"dataframe\">\n",
       "  <thead>\n",
       "    <tr style=\"text-align: right;\">\n",
       "      <th></th>\n",
       "      <th>protein_external_id</th>\n",
       "      <th>preferred_name</th>\n",
       "      <th>protein_size</th>\n",
       "      <th>annotation\\n</th>\n",
       "      <th>cancer</th>\n",
       "      <th>positive</th>\n",
       "      <th>negative</th>\n",
       "    </tr>\n",
       "  </thead>\n",
       "  <tbody>\n",
       "    <tr>\n",
       "      <th>156</th>\n",
       "      <td>9606.ENSP00000167106</td>\n",
       "      <td>VASH1</td>\n",
       "      <td>365</td>\n",
       "      <td>Vasohibin-1; Angiogenesis inhibitor. Inhibits ...</td>\n",
       "      <td>1</td>\n",
       "      <td>-1</td>\n",
       "      <td>-1</td>\n",
       "    </tr>\n",
       "    <tr>\n",
       "      <th>2210</th>\n",
       "      <td>9606.ENSP00000260187</td>\n",
       "      <td>USP2</td>\n",
       "      <td>605</td>\n",
       "      <td>Ubiquitin carboxyl-terminal hydrolase 2; Hydro...</td>\n",
       "      <td>1</td>\n",
       "      <td>-1</td>\n",
       "      <td>-1</td>\n",
       "    </tr>\n",
       "    <tr>\n",
       "      <th>10008</th>\n",
       "      <td>9606.ENSP00000354837</td>\n",
       "      <td>ARHGEF2</td>\n",
       "      <td>986</td>\n",
       "      <td>Rho guanine nucleotide exchange factor 2; Acti...</td>\n",
       "      <td>1</td>\n",
       "      <td>-1</td>\n",
       "      <td>-1</td>\n",
       "    </tr>\n",
       "    <tr>\n",
       "      <th>10303</th>\n",
       "      <td>9606.ENSP00000356234</td>\n",
       "      <td>KDM5B</td>\n",
       "      <td>1544</td>\n",
       "      <td>Lysine-specific demethylase 5B; Histone demeth...</td>\n",
       "      <td>1</td>\n",
       "      <td>-1</td>\n",
       "      <td>-1</td>\n",
       "    </tr>\n",
       "    <tr>\n",
       "      <th>11581</th>\n",
       "      <td>9606.ENSP00000362285</td>\n",
       "      <td>SLC29A3</td>\n",
       "      <td>475</td>\n",
       "      <td>Equilibrative nucleoside transporter 3; Mediat...</td>\n",
       "      <td>1</td>\n",
       "      <td>-1</td>\n",
       "      <td>0</td>\n",
       "    </tr>\n",
       "  </tbody>\n",
       "</table>\n",
       "</div>"
      ],
      "text/plain": [
       "        protein_external_id preferred_name protein_size  \\\n",
       "156    9606.ENSP00000167106          VASH1          365   \n",
       "2210   9606.ENSP00000260187           USP2          605   \n",
       "10008  9606.ENSP00000354837        ARHGEF2          986   \n",
       "10303  9606.ENSP00000356234          KDM5B         1544   \n",
       "11581  9606.ENSP00000362285        SLC29A3          475   \n",
       "\n",
       "                                            annotation\\n  cancer  positive  \\\n",
       "156    Vasohibin-1; Angiogenesis inhibitor. Inhibits ...       1        -1   \n",
       "2210   Ubiquitin carboxyl-terminal hydrolase 2; Hydro...       1        -1   \n",
       "10008  Rho guanine nucleotide exchange factor 2; Acti...       1        -1   \n",
       "10303  Lysine-specific demethylase 5B; Histone demeth...       1        -1   \n",
       "11581  Equilibrative nucleoside transporter 3; Mediat...       1        -1   \n",
       "\n",
       "       negative  \n",
       "156          -1  \n",
       "2210         -1  \n",
       "10008        -1  \n",
       "10303        -1  \n",
       "11581         0  "
      ]
     },
     "execution_count": 78,
     "metadata": {},
     "output_type": "execute_result"
    }
   ],
   "source": [
    "\n",
    "protein_desc_minusone"
   ]
  },
  {
   "cell_type": "code",
   "execution_count": 79,
   "metadata": {},
   "outputs": [],
   "source": [
    "cancer_test = protein_description_original[protein_description_original['negative'] == -1]"
   ]
  },
  {
   "cell_type": "code",
   "execution_count": 80,
   "metadata": {},
   "outputs": [
    {
     "data": {
      "text/plain": [
       "156      Vasohibin-1; Angiogenesis inhibitor. Inhibits ...\n",
       "2210     Ubiquitin carboxyl-terminal hydrolase 2; Hydro...\n",
       "10008    Rho guanine nucleotide exchange factor 2; Acti...\n",
       "10303    Lysine-specific demethylase 5B; Histone demeth...\n",
       "11581    Equilibrative nucleoside transporter 3; Mediat...\n",
       "Name: annotation\\n, dtype: object"
      ]
     },
     "execution_count": 80,
     "metadata": {},
     "output_type": "execute_result"
    }
   ],
   "source": [
    "protein_desc_minusone['annotation\\n']"
   ]
  },
  {
   "cell_type": "code",
   "execution_count": 81,
   "metadata": {},
   "outputs": [
    {
     "data": {
      "text/plain": [
       "'Vasohibin-1; Angiogenesis inhibitor. Inhibits migration, proliferation and network formation by endothelial cells as well as angiogenesis. This inhibitory effect is selective to endothelial cells as it does not affect the migration of smooth muscle cells or fibroblasts. Does not affect the proliferation of cancer cells in vitro, but inhibits tumor growth and tumor angiogenesis. Acts in an autocrine manner. Inhibits artery neointimal formation and macrophage infiltration. Exhibits heparin-binding activity\\n'"
      ]
     },
     "execution_count": 81,
     "metadata": {},
     "output_type": "execute_result"
    }
   ],
   "source": [
    "protein_desc_minusone['annotation\\n'][156]"
   ]
  },
  {
   "cell_type": "code",
   "execution_count": 82,
   "metadata": {},
   "outputs": [
    {
     "data": {
      "text/plain": [
       "'Ubiquitin carboxyl-terminal hydrolase 2; Hydrolase that deubiquitinates polyubiquitinated target proteins such as MDM2, MDM4 and CCND1. Isoform 1 and isoform 4 possess both ubiquitin-specific peptidase and isopeptidase activities (By similarity). Deubiquitinates MDM2 without reversing MDM2-mediated p53/TP53 ubiquitination and thus indirectly promotes p53/TP53 degradation and limits p53 activity. Has no deubiquitinase activity against p53/TP53. Prevents MDM2-mediated degradation of MDM4. Plays a role in the G1/S cell-cycle progression in normal and cancer cells. Regulates the circadian  [...] \\n'"
      ]
     },
     "execution_count": 82,
     "metadata": {},
     "output_type": "execute_result"
    }
   ],
   "source": [
    "protein_desc_minusone['annotation\\n'][2210]"
   ]
  },
  {
   "cell_type": "code",
   "execution_count": 83,
   "metadata": {},
   "outputs": [
    {
     "data": {
      "text/plain": [
       "'Rho guanine nucleotide exchange factor 2; Activates Rho-GTPases by promoting the exchange of GDP for GTP. May be involved in epithelial barrier permeability, cell motility and polarization, dendritic spine morphology, antigen presentation, leukemic cell differentiation, cell cycle regulation, innate immune response, and cancer. Binds Rac-GTPases, but does not seem to promote nucleotide exchange activity toward Rac-GTPases, which was uniquely reported in PubMed:9857026. May stimulate instead the cortical activity of Rac. Inactive toward CDC42, TC10, or Ras-GTPases. Forms an intracellula [...] \\n'"
      ]
     },
     "execution_count": 83,
     "metadata": {},
     "output_type": "execute_result"
    }
   ],
   "source": [
    "protein_desc_minusone['annotation\\n'][10008]"
   ]
  },
  {
   "cell_type": "code",
   "execution_count": 84,
   "metadata": {},
   "outputs": [
    {
     "data": {
      "text/plain": [
       "\"Lysine-specific demethylase 5B; Histone demethylase that demethylates 'Lys-4' of histone H3, thereby playing a central role in histone code. Does not demethylate histone H3 'Lys-9' or H3 'Lys-27'. Demethylates trimethylated, dimethylated and monomethylated H3 'Lys-4'. Acts as a transcriptional corepressor for FOXG1B and PAX9. Favors the proliferation of breast cancer cells by repressing tumor suppressor genes such as BRCA1 and HOXA5. In contrast, may act as a tumor suppressor for melanoma. Represses the CLOCK-ARNTL/BMAL1 heterodimer-mediated transcriptional activation of the core clock [...] \\n\""
      ]
     },
     "execution_count": 84,
     "metadata": {},
     "output_type": "execute_result"
    }
   ],
   "source": [
    "protein_desc_minusone['annotation\\n'][10303]"
   ]
  },
  {
   "cell_type": "code",
   "execution_count": 85,
   "metadata": {},
   "outputs": [
    {
     "data": {
      "text/plain": [
       "'Equilibrative nucleoside transporter 3; Mediates both influx and efflux of nucleosides across the membrane (equilibrative transporter). Mediates transport of adenine, adenosine and uridine, as well as several nucleoside analog drugs, such as anticancer and antiviral agents, including cladribine, cordycepin, tubercidin and AZT. Does not transport hypoxanthine; Solute carriers\\n'"
      ]
     },
     "execution_count": 85,
     "metadata": {},
     "output_type": "execute_result"
    }
   ],
   "source": [
    "protein_desc_minusone['annotation\\n'][11581]"
   ]
  },
  {
   "cell_type": "code",
   "execution_count": 86,
   "metadata": {},
   "outputs": [],
   "source": [
    "#plus one\n",
    "protein_desc_plusone = protein_description_original[protein_description_original['positive'] == 1]"
   ]
  },
  {
   "cell_type": "code",
   "execution_count": 87,
   "metadata": {},
   "outputs": [],
   "source": [
    "protein_desc_minusone = protein_description_original[protein_description_original['negative'] == -1]"
   ]
  },
  {
   "cell_type": "code",
   "execution_count": 88,
   "metadata": {},
   "outputs": [
    {
     "data": {
      "text/plain": [
       "55"
      ]
     },
     "execution_count": 88,
     "metadata": {},
     "output_type": "execute_result"
    }
   ],
   "source": [
    "len(protein_desc_plusone)"
   ]
  },
  {
   "cell_type": "code",
   "execution_count": 89,
   "metadata": {},
   "outputs": [],
   "source": [
    "#cancer_test.to_csv('cancer.csv')\n",
    "#to do, apply sentiment analysis."
   ]
  },
  {
   "cell_type": "markdown",
   "metadata": {},
   "source": [
    "### Data Preprocessing: Working with the graph"
   ]
  },
  {
   "cell_type": "markdown",
   "metadata": {},
   "source": [
    "In this part of the process, I am going to work with the data available, to build a network and extract properties out of it. There are three different ways to perform the task. In this assignment, I will address all of them to produce a final dataset, where I will have a protein with information about the amount of neighbors, how much information it sends to other proteins, how much information it receives from other proteins, special properties from the nodes (closeness, betweenness and centrality degree) and properties from the transmission action itself (neighborhood, neighborhood_transferred, fusion, cooccurence, homology, coexpression, coexpression_transferred, experiments, experiments_transferred, database, database_transferred, textmining, textmining_transferred, combined_score), which were obtained from the network description dataset. "
   ]
  },
  {
   "cell_type": "markdown",
   "metadata": {},
   "source": [
    "The first thing that I am going to do is to, define data frames which contain the nodes and the edges."
   ]
  },
  {
   "cell_type": "code",
   "execution_count": null,
   "metadata": {},
   "outputs": [],
   "source": [
    "nodes = list(np.array(proteinCancerFinal['protein_external_id']))\n",
    "edges = list(tuple(np.array(pd.concat([proteinNetwork['protein1'], proteinNetwork['protein2']], axis=1, sort = False))))\n",
    "print(type(proteinCancerFinal['protein_external_id']))\n",
    "pd.DataFrame(proteinCancerFinal['protein_external_id']).to_csv('nodes.csv')\n",
    "pd.concat([proteinNetwork['protein1'], proteinNetwork['protein2']], axis=1, sort = False).to_csv(\"edges.csv\")"
   ]
  },
  {
   "cell_type": "markdown",
   "metadata": {},
   "source": [
    "### Working with the Graph (Part 1): NetworkX Library and GraphFrames"
   ]
  },
  {
   "cell_type": "markdown",
   "metadata": {},
   "source": [
    "I used first NetworkX library to extract properties from the network. I created a graph with the nodes and edges generated above, and I wanted to extract specific information from the network such as:\n",
    "- Number of neighbors per node.\n",
    "- Number of outDegrees per node (number of times that information is sent to another node).\n",
    "- Number of inDegrees (number of times that information is received from another node).\n",
    "- Centrality degree (location of the node within the network).\n",
    "- Special properties from a node for a given network ([betweenness](https://en.m.wikipedia.org/wiki/Betweenness_cetrality) and [closeness](https://neo4j.com/docs/graph-algorithms/current/algorithms/closeness-centrality/))\n",
    "\n",
    "From the previous information, I inferred that the nodes in the network were around 20,000 and the edges (amount of information transmitted) were 11,000,000."
   ]
  },
  {
   "cell_type": "markdown",
   "metadata": {},
   "source": [
    "#### My experience with NetworkX"
   ]
  },
  {
   "cell_type": "markdown",
   "metadata": {},
   "source": [
    "I used my laptop to extract information from the network at first instant. However, due to the graph extension and the software architecture of the NetworkX library, turned out to be too complex to extract the desire features (centrality degree, closeness and betweenness).\n",
    "\n",
    "In my studies at TU Delft I learned to use AWS. Thus, I decided to run the code in a AWS Jupyter Notebook with an EMR cluster. For the AWS configuration I used the S3 Bucket, an r3.xlarge instance (good price vs computational power) and a Jupyter Notebook (AWS). My findings were quite negative. Unfortunately, even in the cluster the properties were not extracted. I concluded that, even if the python library is called from a cluster, the computational cost of finding out the properties of each node, in a graph of around 20,000 nodes and 11 million edges turns out to be too complex. The involved library architecture does not support to work with too complex datasets, I will describe NetworkX as a good library for small datasets. The option of using GraphX from spark (well known for big data) does not support the graph property extraction such as closeness, betweenness etc. Thus, I decided to proceed with using pyspark and aggregating the edge data per node with map and reduce operations, using the network dataset (see [Working with the Graph (part2)]). From my personal point of view, finding the properties of the network and the data aggregation from the edge information will be perfect to strongly predict cancer. However, due to the current technology. I ended up using NetworkX only to extract the amount of neighbors per node."
   ]
  },
  {
   "cell_type": "markdown",
   "metadata": {},
   "source": [
    "# #TO DO IDENTIFY CLIQUES TO MAKE EFFICIENT THE COMPUTATION OF METRICS AND CHECK WHETHER A CLIQUE MIGHT BE A STRONG INDICATOR OF CANCER. GIVEN THAT I AM IN A NEIGHBORHOOD WITH CANCER, IT IS MORE PROBABLE THAT I DO HAVE CANCER. "
   ]
  },
  {
   "cell_type": "markdown",
   "metadata": {},
   "source": [
    "The next cell represents the code on the aws Jupyter Notebook previously configured to work with the EMR cluster. I am going to get the list of proteins which are related directly in a negative way to cancer. I want to map those relationshipt that might be \"toxic\" in such way that in my protein network those proteins in contact with \"cancer proteins\" already have cancer in such way that we will be able to identify a cancer relationship. "
   ]
  },
  {
   "cell_type": "code",
   "execution_count": 90,
   "metadata": {},
   "outputs": [],
   "source": [
    "cancer = pd.read_csv('cancer.csv',header='infer')"
   ]
  },
  {
   "cell_type": "code",
   "execution_count": 91,
   "metadata": {},
   "outputs": [],
   "source": [
    "cancer = cancer[['protein_external_id','negative']]"
   ]
  },
  {
   "cell_type": "code",
   "execution_count": 92,
   "metadata": {},
   "outputs": [],
   "source": [
    "cancer = cancer[cancer['negative'] == -1]"
   ]
  },
  {
   "cell_type": "code",
   "execution_count": 93,
   "metadata": {},
   "outputs": [],
   "source": [
    "cancer['cancer'] = 1"
   ]
  },
  {
   "cell_type": "code",
   "execution_count": 94,
   "metadata": {},
   "outputs": [],
   "source": [
    "cancer = cancer[['protein_external_id','cancer']]"
   ]
  },
  {
   "cell_type": "code",
   "execution_count": 95,
   "metadata": {},
   "outputs": [],
   "source": [
    "cancer.columns = ['protein1','cancer']"
   ]
  },
  {
   "cell_type": "code",
   "execution_count": 96,
   "metadata": {},
   "outputs": [
    {
     "data": {
      "text/plain": [
       "Index(['protein1', 'protein2', 'neighborhood', 'fusion', 'cooccurence',\n",
       "       'coexpression', 'experimental', 'database', 'textmining',\n",
       "       'combined_score'],\n",
       "      dtype='object')"
      ]
     },
     "execution_count": 96,
     "metadata": {},
     "output_type": "execute_result"
    }
   ],
   "source": [
    "proteinNetwork.columns"
   ]
  },
  {
   "cell_type": "code",
   "execution_count": 97,
   "metadata": {},
   "outputs": [],
   "source": [
    "proteinNetworkCancer = pd.merge(proteinNetwork, cancer, on='protein1', how='left')"
   ]
  },
  {
   "cell_type": "code",
   "execution_count": 98,
   "metadata": {},
   "outputs": [],
   "source": [
    "cancer2 = cancer[['protein1','cancer']]"
   ]
  },
  {
   "cell_type": "code",
   "execution_count": 99,
   "metadata": {},
   "outputs": [],
   "source": [
    "cancer2['protein2'] = cancer2['protein1']\n",
    "cancer2['cancer2'] = cancer2['cancer']"
   ]
  },
  {
   "cell_type": "code",
   "execution_count": 100,
   "metadata": {},
   "outputs": [],
   "source": [
    "#I have to do in this dirty way because the column renaming was crashing the dataframe. Sorry!\n",
    "cancer2 = cancer2[['protein2','cancer2']]"
   ]
  },
  {
   "cell_type": "code",
   "execution_count": 101,
   "metadata": {},
   "outputs": [
    {
     "data": {
      "text/html": [
       "<div>\n",
       "<style scoped>\n",
       "    .dataframe tbody tr th:only-of-type {\n",
       "        vertical-align: middle;\n",
       "    }\n",
       "\n",
       "    .dataframe tbody tr th {\n",
       "        vertical-align: top;\n",
       "    }\n",
       "\n",
       "    .dataframe thead th {\n",
       "        text-align: right;\n",
       "    }\n",
       "</style>\n",
       "<table border=\"1\" class=\"dataframe\">\n",
       "  <thead>\n",
       "    <tr style=\"text-align: right;\">\n",
       "      <th></th>\n",
       "      <th>protein1</th>\n",
       "      <th>protein2</th>\n",
       "      <th>neighborhood</th>\n",
       "      <th>fusion</th>\n",
       "      <th>cooccurence</th>\n",
       "      <th>coexpression</th>\n",
       "      <th>experimental</th>\n",
       "      <th>database</th>\n",
       "      <th>textmining</th>\n",
       "      <th>combined_score</th>\n",
       "      <th>cancer</th>\n",
       "    </tr>\n",
       "  </thead>\n",
       "  <tbody>\n",
       "    <tr>\n",
       "      <th>0</th>\n",
       "      <td>9606.ENSP00000000233</td>\n",
       "      <td>9606.ENSP00000272298</td>\n",
       "      <td>0</td>\n",
       "      <td>0</td>\n",
       "      <td>332</td>\n",
       "      <td>62</td>\n",
       "      <td>181</td>\n",
       "      <td>0</td>\n",
       "      <td>125</td>\n",
       "      <td>490</td>\n",
       "      <td>NaN</td>\n",
       "    </tr>\n",
       "    <tr>\n",
       "      <th>1</th>\n",
       "      <td>9606.ENSP00000000233</td>\n",
       "      <td>9606.ENSP00000253401</td>\n",
       "      <td>0</td>\n",
       "      <td>0</td>\n",
       "      <td>0</td>\n",
       "      <td>0</td>\n",
       "      <td>186</td>\n",
       "      <td>0</td>\n",
       "      <td>56</td>\n",
       "      <td>198</td>\n",
       "      <td>NaN</td>\n",
       "    </tr>\n",
       "    <tr>\n",
       "      <th>2</th>\n",
       "      <td>9606.ENSP00000000233</td>\n",
       "      <td>9606.ENSP00000401445</td>\n",
       "      <td>0</td>\n",
       "      <td>0</td>\n",
       "      <td>0</td>\n",
       "      <td>0</td>\n",
       "      <td>159</td>\n",
       "      <td>0</td>\n",
       "      <td>0</td>\n",
       "      <td>159</td>\n",
       "      <td>NaN</td>\n",
       "    </tr>\n",
       "    <tr>\n",
       "      <th>3</th>\n",
       "      <td>9606.ENSP00000000233</td>\n",
       "      <td>9606.ENSP00000418915</td>\n",
       "      <td>0</td>\n",
       "      <td>0</td>\n",
       "      <td>0</td>\n",
       "      <td>61</td>\n",
       "      <td>158</td>\n",
       "      <td>0</td>\n",
       "      <td>542</td>\n",
       "      <td>606</td>\n",
       "      <td>NaN</td>\n",
       "    </tr>\n",
       "    <tr>\n",
       "      <th>4</th>\n",
       "      <td>9606.ENSP00000000233</td>\n",
       "      <td>9606.ENSP00000327801</td>\n",
       "      <td>0</td>\n",
       "      <td>0</td>\n",
       "      <td>0</td>\n",
       "      <td>88</td>\n",
       "      <td>78</td>\n",
       "      <td>0</td>\n",
       "      <td>89</td>\n",
       "      <td>167</td>\n",
       "      <td>NaN</td>\n",
       "    </tr>\n",
       "    <tr>\n",
       "      <th>...</th>\n",
       "      <td>...</td>\n",
       "      <td>...</td>\n",
       "      <td>...</td>\n",
       "      <td>...</td>\n",
       "      <td>...</td>\n",
       "      <td>...</td>\n",
       "      <td>...</td>\n",
       "      <td>...</td>\n",
       "      <td>...</td>\n",
       "      <td>...</td>\n",
       "      <td>...</td>\n",
       "    </tr>\n",
       "    <tr>\n",
       "      <th>11759449</th>\n",
       "      <td>9606.ENSP00000485678</td>\n",
       "      <td>9606.ENSP00000310488</td>\n",
       "      <td>0</td>\n",
       "      <td>0</td>\n",
       "      <td>0</td>\n",
       "      <td>167</td>\n",
       "      <td>0</td>\n",
       "      <td>0</td>\n",
       "      <td>0</td>\n",
       "      <td>167</td>\n",
       "      <td>NaN</td>\n",
       "    </tr>\n",
       "    <tr>\n",
       "      <th>11759450</th>\n",
       "      <td>9606.ENSP00000485678</td>\n",
       "      <td>9606.ENSP00000342448</td>\n",
       "      <td>0</td>\n",
       "      <td>0</td>\n",
       "      <td>0</td>\n",
       "      <td>175</td>\n",
       "      <td>0</td>\n",
       "      <td>0</td>\n",
       "      <td>0</td>\n",
       "      <td>175</td>\n",
       "      <td>NaN</td>\n",
       "    </tr>\n",
       "    <tr>\n",
       "      <th>11759451</th>\n",
       "      <td>9606.ENSP00000485678</td>\n",
       "      <td>9606.ENSP00000350222</td>\n",
       "      <td>0</td>\n",
       "      <td>0</td>\n",
       "      <td>0</td>\n",
       "      <td>195</td>\n",
       "      <td>0</td>\n",
       "      <td>0</td>\n",
       "      <td>0</td>\n",
       "      <td>195</td>\n",
       "      <td>NaN</td>\n",
       "    </tr>\n",
       "    <tr>\n",
       "      <th>11759452</th>\n",
       "      <td>9606.ENSP00000485678</td>\n",
       "      <td>9606.ENSP00000367590</td>\n",
       "      <td>0</td>\n",
       "      <td>0</td>\n",
       "      <td>0</td>\n",
       "      <td>0</td>\n",
       "      <td>0</td>\n",
       "      <td>900</td>\n",
       "      <td>0</td>\n",
       "      <td>900</td>\n",
       "      <td>NaN</td>\n",
       "    </tr>\n",
       "    <tr>\n",
       "      <th>11759453</th>\n",
       "      <td>9606.ENSP00000485678</td>\n",
       "      <td>9606.ENSP00000349930</td>\n",
       "      <td>0</td>\n",
       "      <td>0</td>\n",
       "      <td>0</td>\n",
       "      <td>213</td>\n",
       "      <td>0</td>\n",
       "      <td>0</td>\n",
       "      <td>0</td>\n",
       "      <td>213</td>\n",
       "      <td>NaN</td>\n",
       "    </tr>\n",
       "  </tbody>\n",
       "</table>\n",
       "<p>11759454 rows × 11 columns</p>\n",
       "</div>"
      ],
      "text/plain": [
       "                      protein1              protein2  neighborhood  fusion  \\\n",
       "0         9606.ENSP00000000233  9606.ENSP00000272298             0       0   \n",
       "1         9606.ENSP00000000233  9606.ENSP00000253401             0       0   \n",
       "2         9606.ENSP00000000233  9606.ENSP00000401445             0       0   \n",
       "3         9606.ENSP00000000233  9606.ENSP00000418915             0       0   \n",
       "4         9606.ENSP00000000233  9606.ENSP00000327801             0       0   \n",
       "...                        ...                   ...           ...     ...   \n",
       "11759449  9606.ENSP00000485678  9606.ENSP00000310488             0       0   \n",
       "11759450  9606.ENSP00000485678  9606.ENSP00000342448             0       0   \n",
       "11759451  9606.ENSP00000485678  9606.ENSP00000350222             0       0   \n",
       "11759452  9606.ENSP00000485678  9606.ENSP00000367590             0       0   \n",
       "11759453  9606.ENSP00000485678  9606.ENSP00000349930             0       0   \n",
       "\n",
       "          cooccurence  coexpression  experimental  database  textmining  \\\n",
       "0                 332            62           181         0         125   \n",
       "1                   0             0           186         0          56   \n",
       "2                   0             0           159         0           0   \n",
       "3                   0            61           158         0         542   \n",
       "4                   0            88            78         0          89   \n",
       "...               ...           ...           ...       ...         ...   \n",
       "11759449            0           167             0         0           0   \n",
       "11759450            0           175             0         0           0   \n",
       "11759451            0           195             0         0           0   \n",
       "11759452            0             0             0       900           0   \n",
       "11759453            0           213             0         0           0   \n",
       "\n",
       "          combined_score  cancer  \n",
       "0                    490     NaN  \n",
       "1                    198     NaN  \n",
       "2                    159     NaN  \n",
       "3                    606     NaN  \n",
       "4                    167     NaN  \n",
       "...                  ...     ...  \n",
       "11759449             167     NaN  \n",
       "11759450             175     NaN  \n",
       "11759451             195     NaN  \n",
       "11759452             900     NaN  \n",
       "11759453             213     NaN  \n",
       "\n",
       "[11759454 rows x 11 columns]"
      ]
     },
     "execution_count": 101,
     "metadata": {},
     "output_type": "execute_result"
    }
   ],
   "source": [
    "proteinNetworkCancer"
   ]
  },
  {
   "cell_type": "code",
   "execution_count": 102,
   "metadata": {},
   "outputs": [],
   "source": [
    "proteinNetworkCancer = pd.merge(proteinNetworkCancer,cancer2, on='protein2', how='left')"
   ]
  },
  {
   "cell_type": "code",
   "execution_count": 103,
   "metadata": {},
   "outputs": [],
   "source": [
    "proteinNetworkCancer['cancer_final'] = (proteinNetworkCancer['cancer'] + proteinNetworkCancer['cancer2']).fillna(0)"
   ]
  },
  {
   "cell_type": "code",
   "execution_count": 104,
   "metadata": {},
   "outputs": [],
   "source": [
    "def input_cancer_val(val):\n",
    "    check = 0\n",
    "    if val >= 1:\n",
    "        check = 1\n",
    "    else:\n",
    "        check = 0\n",
    "    return check\n",
    "proteinNetworkCancer['cancer_final'] = list(map(input_cancer_val,proteinNetworkCancer['cancer_final']))"
   ]
  },
  {
   "cell_type": "code",
   "execution_count": 105,
   "metadata": {},
   "outputs": [
    {
     "data": {
      "text/html": [
       "<div>\n",
       "<style scoped>\n",
       "    .dataframe tbody tr th:only-of-type {\n",
       "        vertical-align: middle;\n",
       "    }\n",
       "\n",
       "    .dataframe tbody tr th {\n",
       "        vertical-align: top;\n",
       "    }\n",
       "\n",
       "    .dataframe thead th {\n",
       "        text-align: right;\n",
       "    }\n",
       "</style>\n",
       "<table border=\"1\" class=\"dataframe\">\n",
       "  <thead>\n",
       "    <tr style=\"text-align: right;\">\n",
       "      <th></th>\n",
       "      <th>protein1</th>\n",
       "      <th>protein2</th>\n",
       "      <th>neighborhood</th>\n",
       "      <th>fusion</th>\n",
       "      <th>cooccurence</th>\n",
       "      <th>coexpression</th>\n",
       "      <th>experimental</th>\n",
       "      <th>database</th>\n",
       "      <th>textmining</th>\n",
       "      <th>combined_score</th>\n",
       "      <th>cancer_final</th>\n",
       "    </tr>\n",
       "  </thead>\n",
       "  <tbody>\n",
       "    <tr>\n",
       "      <th>0</th>\n",
       "      <td>9606.ENSP00000000233</td>\n",
       "      <td>9606.ENSP00000272298</td>\n",
       "      <td>0</td>\n",
       "      <td>0</td>\n",
       "      <td>332</td>\n",
       "      <td>62</td>\n",
       "      <td>181</td>\n",
       "      <td>0</td>\n",
       "      <td>125</td>\n",
       "      <td>490</td>\n",
       "      <td>0</td>\n",
       "    </tr>\n",
       "    <tr>\n",
       "      <th>1</th>\n",
       "      <td>9606.ENSP00000000233</td>\n",
       "      <td>9606.ENSP00000253401</td>\n",
       "      <td>0</td>\n",
       "      <td>0</td>\n",
       "      <td>0</td>\n",
       "      <td>0</td>\n",
       "      <td>186</td>\n",
       "      <td>0</td>\n",
       "      <td>56</td>\n",
       "      <td>198</td>\n",
       "      <td>0</td>\n",
       "    </tr>\n",
       "    <tr>\n",
       "      <th>2</th>\n",
       "      <td>9606.ENSP00000000233</td>\n",
       "      <td>9606.ENSP00000401445</td>\n",
       "      <td>0</td>\n",
       "      <td>0</td>\n",
       "      <td>0</td>\n",
       "      <td>0</td>\n",
       "      <td>159</td>\n",
       "      <td>0</td>\n",
       "      <td>0</td>\n",
       "      <td>159</td>\n",
       "      <td>0</td>\n",
       "    </tr>\n",
       "    <tr>\n",
       "      <th>3</th>\n",
       "      <td>9606.ENSP00000000233</td>\n",
       "      <td>9606.ENSP00000418915</td>\n",
       "      <td>0</td>\n",
       "      <td>0</td>\n",
       "      <td>0</td>\n",
       "      <td>61</td>\n",
       "      <td>158</td>\n",
       "      <td>0</td>\n",
       "      <td>542</td>\n",
       "      <td>606</td>\n",
       "      <td>0</td>\n",
       "    </tr>\n",
       "    <tr>\n",
       "      <th>4</th>\n",
       "      <td>9606.ENSP00000000233</td>\n",
       "      <td>9606.ENSP00000327801</td>\n",
       "      <td>0</td>\n",
       "      <td>0</td>\n",
       "      <td>0</td>\n",
       "      <td>88</td>\n",
       "      <td>78</td>\n",
       "      <td>0</td>\n",
       "      <td>89</td>\n",
       "      <td>167</td>\n",
       "      <td>0</td>\n",
       "    </tr>\n",
       "    <tr>\n",
       "      <th>...</th>\n",
       "      <td>...</td>\n",
       "      <td>...</td>\n",
       "      <td>...</td>\n",
       "      <td>...</td>\n",
       "      <td>...</td>\n",
       "      <td>...</td>\n",
       "      <td>...</td>\n",
       "      <td>...</td>\n",
       "      <td>...</td>\n",
       "      <td>...</td>\n",
       "      <td>...</td>\n",
       "    </tr>\n",
       "    <tr>\n",
       "      <th>11759449</th>\n",
       "      <td>9606.ENSP00000485678</td>\n",
       "      <td>9606.ENSP00000310488</td>\n",
       "      <td>0</td>\n",
       "      <td>0</td>\n",
       "      <td>0</td>\n",
       "      <td>167</td>\n",
       "      <td>0</td>\n",
       "      <td>0</td>\n",
       "      <td>0</td>\n",
       "      <td>167</td>\n",
       "      <td>0</td>\n",
       "    </tr>\n",
       "    <tr>\n",
       "      <th>11759450</th>\n",
       "      <td>9606.ENSP00000485678</td>\n",
       "      <td>9606.ENSP00000342448</td>\n",
       "      <td>0</td>\n",
       "      <td>0</td>\n",
       "      <td>0</td>\n",
       "      <td>175</td>\n",
       "      <td>0</td>\n",
       "      <td>0</td>\n",
       "      <td>0</td>\n",
       "      <td>175</td>\n",
       "      <td>0</td>\n",
       "    </tr>\n",
       "    <tr>\n",
       "      <th>11759451</th>\n",
       "      <td>9606.ENSP00000485678</td>\n",
       "      <td>9606.ENSP00000350222</td>\n",
       "      <td>0</td>\n",
       "      <td>0</td>\n",
       "      <td>0</td>\n",
       "      <td>195</td>\n",
       "      <td>0</td>\n",
       "      <td>0</td>\n",
       "      <td>0</td>\n",
       "      <td>195</td>\n",
       "      <td>0</td>\n",
       "    </tr>\n",
       "    <tr>\n",
       "      <th>11759452</th>\n",
       "      <td>9606.ENSP00000485678</td>\n",
       "      <td>9606.ENSP00000367590</td>\n",
       "      <td>0</td>\n",
       "      <td>0</td>\n",
       "      <td>0</td>\n",
       "      <td>0</td>\n",
       "      <td>0</td>\n",
       "      <td>900</td>\n",
       "      <td>0</td>\n",
       "      <td>900</td>\n",
       "      <td>0</td>\n",
       "    </tr>\n",
       "    <tr>\n",
       "      <th>11759453</th>\n",
       "      <td>9606.ENSP00000485678</td>\n",
       "      <td>9606.ENSP00000349930</td>\n",
       "      <td>0</td>\n",
       "      <td>0</td>\n",
       "      <td>0</td>\n",
       "      <td>213</td>\n",
       "      <td>0</td>\n",
       "      <td>0</td>\n",
       "      <td>0</td>\n",
       "      <td>213</td>\n",
       "      <td>0</td>\n",
       "    </tr>\n",
       "  </tbody>\n",
       "</table>\n",
       "<p>11759454 rows × 11 columns</p>\n",
       "</div>"
      ],
      "text/plain": [
       "                      protein1              protein2  neighborhood  fusion  \\\n",
       "0         9606.ENSP00000000233  9606.ENSP00000272298             0       0   \n",
       "1         9606.ENSP00000000233  9606.ENSP00000253401             0       0   \n",
       "2         9606.ENSP00000000233  9606.ENSP00000401445             0       0   \n",
       "3         9606.ENSP00000000233  9606.ENSP00000418915             0       0   \n",
       "4         9606.ENSP00000000233  9606.ENSP00000327801             0       0   \n",
       "...                        ...                   ...           ...     ...   \n",
       "11759449  9606.ENSP00000485678  9606.ENSP00000310488             0       0   \n",
       "11759450  9606.ENSP00000485678  9606.ENSP00000342448             0       0   \n",
       "11759451  9606.ENSP00000485678  9606.ENSP00000350222             0       0   \n",
       "11759452  9606.ENSP00000485678  9606.ENSP00000367590             0       0   \n",
       "11759453  9606.ENSP00000485678  9606.ENSP00000349930             0       0   \n",
       "\n",
       "          cooccurence  coexpression  experimental  database  textmining  \\\n",
       "0                 332            62           181         0         125   \n",
       "1                   0             0           186         0          56   \n",
       "2                   0             0           159         0           0   \n",
       "3                   0            61           158         0         542   \n",
       "4                   0            88            78         0          89   \n",
       "...               ...           ...           ...       ...         ...   \n",
       "11759449            0           167             0         0           0   \n",
       "11759450            0           175             0         0           0   \n",
       "11759451            0           195             0         0           0   \n",
       "11759452            0             0             0       900           0   \n",
       "11759453            0           213             0         0           0   \n",
       "\n",
       "          combined_score  cancer_final  \n",
       "0                    490             0  \n",
       "1                    198             0  \n",
       "2                    159             0  \n",
       "3                    606             0  \n",
       "4                    167             0  \n",
       "...                  ...           ...  \n",
       "11759449             167             0  \n",
       "11759450             175             0  \n",
       "11759451             195             0  \n",
       "11759452             900             0  \n",
       "11759453             213             0  \n",
       "\n",
       "[11759454 rows x 11 columns]"
      ]
     },
     "execution_count": 105,
     "metadata": {},
     "output_type": "execute_result"
    }
   ],
   "source": [
    "proteinNetworkCancer.drop(['cancer','cancer2'], axis=1)"
   ]
  },
  {
   "cell_type": "code",
   "execution_count": 106,
   "metadata": {},
   "outputs": [
    {
     "data": {
      "text/html": [
       "<div>\n",
       "<style scoped>\n",
       "    .dataframe tbody tr th:only-of-type {\n",
       "        vertical-align: middle;\n",
       "    }\n",
       "\n",
       "    .dataframe tbody tr th {\n",
       "        vertical-align: top;\n",
       "    }\n",
       "\n",
       "    .dataframe thead th {\n",
       "        text-align: right;\n",
       "    }\n",
       "</style>\n",
       "<table border=\"1\" class=\"dataframe\">\n",
       "  <thead>\n",
       "    <tr style=\"text-align: right;\">\n",
       "      <th></th>\n",
       "      <th>protein1</th>\n",
       "      <th>protein2</th>\n",
       "      <th>neighborhood</th>\n",
       "      <th>fusion</th>\n",
       "      <th>cooccurence</th>\n",
       "      <th>coexpression</th>\n",
       "      <th>experimental</th>\n",
       "      <th>database</th>\n",
       "      <th>textmining</th>\n",
       "      <th>combined_score</th>\n",
       "      <th>cancer</th>\n",
       "      <th>cancer2</th>\n",
       "      <th>cancer_final</th>\n",
       "    </tr>\n",
       "  </thead>\n",
       "  <tbody>\n",
       "    <tr>\n",
       "      <th>110962</th>\n",
       "      <td>9606.ENSP00000167106</td>\n",
       "      <td>9606.ENSP00000383185</td>\n",
       "      <td>0</td>\n",
       "      <td>0</td>\n",
       "      <td>0</td>\n",
       "      <td>0</td>\n",
       "      <td>0</td>\n",
       "      <td>0</td>\n",
       "      <td>232</td>\n",
       "      <td>232</td>\n",
       "      <td>1.0</td>\n",
       "      <td>1.0</td>\n",
       "      <td>1</td>\n",
       "    </tr>\n",
       "    <tr>\n",
       "      <th>110971</th>\n",
       "      <td>9606.ENSP00000167106</td>\n",
       "      <td>9606.ENSP00000282397</td>\n",
       "      <td>0</td>\n",
       "      <td>0</td>\n",
       "      <td>0</td>\n",
       "      <td>0</td>\n",
       "      <td>0</td>\n",
       "      <td>0</td>\n",
       "      <td>289</td>\n",
       "      <td>289</td>\n",
       "      <td>1.0</td>\n",
       "      <td>1.0</td>\n",
       "      <td>1</td>\n",
       "    </tr>\n",
       "    <tr>\n",
       "      <th>367033</th>\n",
       "      <td>9606.ENSP00000219022</td>\n",
       "      <td>9606.ENSP00000309572</td>\n",
       "      <td>0</td>\n",
       "      <td>0</td>\n",
       "      <td>0</td>\n",
       "      <td>0</td>\n",
       "      <td>0</td>\n",
       "      <td>0</td>\n",
       "      <td>187</td>\n",
       "      <td>187</td>\n",
       "      <td>1.0</td>\n",
       "      <td>1.0</td>\n",
       "      <td>1</td>\n",
       "    </tr>\n",
       "    <tr>\n",
       "      <th>367408</th>\n",
       "      <td>9606.ENSP00000219022</td>\n",
       "      <td>9606.ENSP00000406861</td>\n",
       "      <td>0</td>\n",
       "      <td>0</td>\n",
       "      <td>0</td>\n",
       "      <td>0</td>\n",
       "      <td>0</td>\n",
       "      <td>0</td>\n",
       "      <td>212</td>\n",
       "      <td>212</td>\n",
       "      <td>1.0</td>\n",
       "      <td>1.0</td>\n",
       "      <td>1</td>\n",
       "    </tr>\n",
       "    <tr>\n",
       "      <th>426058</th>\n",
       "      <td>9606.ENSP00000220812</td>\n",
       "      <td>9606.ENSP00000233948</td>\n",
       "      <td>0</td>\n",
       "      <td>0</td>\n",
       "      <td>0</td>\n",
       "      <td>0</td>\n",
       "      <td>93</td>\n",
       "      <td>0</td>\n",
       "      <td>641</td>\n",
       "      <td>660</td>\n",
       "      <td>1.0</td>\n",
       "      <td>1.0</td>\n",
       "      <td>1</td>\n",
       "    </tr>\n",
       "    <tr>\n",
       "      <th>...</th>\n",
       "      <td>...</td>\n",
       "      <td>...</td>\n",
       "      <td>...</td>\n",
       "      <td>...</td>\n",
       "      <td>...</td>\n",
       "      <td>...</td>\n",
       "      <td>...</td>\n",
       "      <td>...</td>\n",
       "      <td>...</td>\n",
       "      <td>...</td>\n",
       "      <td>...</td>\n",
       "      <td>...</td>\n",
       "      <td>...</td>\n",
       "    </tr>\n",
       "    <tr>\n",
       "      <th>10750844</th>\n",
       "      <td>9606.ENSP00000442521</td>\n",
       "      <td>9606.ENSP00000379133</td>\n",
       "      <td>0</td>\n",
       "      <td>0</td>\n",
       "      <td>0</td>\n",
       "      <td>0</td>\n",
       "      <td>0</td>\n",
       "      <td>0</td>\n",
       "      <td>259</td>\n",
       "      <td>259</td>\n",
       "      <td>1.0</td>\n",
       "      <td>1.0</td>\n",
       "      <td>1</td>\n",
       "    </tr>\n",
       "    <tr>\n",
       "      <th>10750907</th>\n",
       "      <td>9606.ENSP00000442521</td>\n",
       "      <td>9606.ENSP00000379762</td>\n",
       "      <td>0</td>\n",
       "      <td>0</td>\n",
       "      <td>0</td>\n",
       "      <td>61</td>\n",
       "      <td>0</td>\n",
       "      <td>0</td>\n",
       "      <td>233</td>\n",
       "      <td>249</td>\n",
       "      <td>1.0</td>\n",
       "      <td>1.0</td>\n",
       "      <td>1</td>\n",
       "    </tr>\n",
       "    <tr>\n",
       "      <th>11297763</th>\n",
       "      <td>9606.ENSP00000473553</td>\n",
       "      <td>9606.ENSP00000287394</td>\n",
       "      <td>0</td>\n",
       "      <td>0</td>\n",
       "      <td>0</td>\n",
       "      <td>64</td>\n",
       "      <td>123</td>\n",
       "      <td>0</td>\n",
       "      <td>50</td>\n",
       "      <td>152</td>\n",
       "      <td>1.0</td>\n",
       "      <td>1.0</td>\n",
       "      <td>1</td>\n",
       "    </tr>\n",
       "    <tr>\n",
       "      <th>11297765</th>\n",
       "      <td>9606.ENSP00000473553</td>\n",
       "      <td>9606.ENSP00000334061</td>\n",
       "      <td>0</td>\n",
       "      <td>0</td>\n",
       "      <td>0</td>\n",
       "      <td>63</td>\n",
       "      <td>157</td>\n",
       "      <td>0</td>\n",
       "      <td>0</td>\n",
       "      <td>176</td>\n",
       "      <td>1.0</td>\n",
       "      <td>1.0</td>\n",
       "      <td>1</td>\n",
       "    </tr>\n",
       "    <tr>\n",
       "      <th>11298005</th>\n",
       "      <td>9606.ENSP00000473553</td>\n",
       "      <td>9606.ENSP00000264606</td>\n",
       "      <td>0</td>\n",
       "      <td>0</td>\n",
       "      <td>0</td>\n",
       "      <td>63</td>\n",
       "      <td>157</td>\n",
       "      <td>0</td>\n",
       "      <td>0</td>\n",
       "      <td>176</td>\n",
       "      <td>1.0</td>\n",
       "      <td>1.0</td>\n",
       "      <td>1</td>\n",
       "    </tr>\n",
       "  </tbody>\n",
       "</table>\n",
       "<p>192 rows × 13 columns</p>\n",
       "</div>"
      ],
      "text/plain": [
       "                      protein1              protein2  neighborhood  fusion  \\\n",
       "110962    9606.ENSP00000167106  9606.ENSP00000383185             0       0   \n",
       "110971    9606.ENSP00000167106  9606.ENSP00000282397             0       0   \n",
       "367033    9606.ENSP00000219022  9606.ENSP00000309572             0       0   \n",
       "367408    9606.ENSP00000219022  9606.ENSP00000406861             0       0   \n",
       "426058    9606.ENSP00000220812  9606.ENSP00000233948             0       0   \n",
       "...                        ...                   ...           ...     ...   \n",
       "10750844  9606.ENSP00000442521  9606.ENSP00000379133             0       0   \n",
       "10750907  9606.ENSP00000442521  9606.ENSP00000379762             0       0   \n",
       "11297763  9606.ENSP00000473553  9606.ENSP00000287394             0       0   \n",
       "11297765  9606.ENSP00000473553  9606.ENSP00000334061             0       0   \n",
       "11298005  9606.ENSP00000473553  9606.ENSP00000264606             0       0   \n",
       "\n",
       "          cooccurence  coexpression  experimental  database  textmining  \\\n",
       "110962              0             0             0         0         232   \n",
       "110971              0             0             0         0         289   \n",
       "367033              0             0             0         0         187   \n",
       "367408              0             0             0         0         212   \n",
       "426058              0             0            93         0         641   \n",
       "...               ...           ...           ...       ...         ...   \n",
       "10750844            0             0             0         0         259   \n",
       "10750907            0            61             0         0         233   \n",
       "11297763            0            64           123         0          50   \n",
       "11297765            0            63           157         0           0   \n",
       "11298005            0            63           157         0           0   \n",
       "\n",
       "          combined_score  cancer  cancer2  cancer_final  \n",
       "110962               232     1.0      1.0             1  \n",
       "110971               289     1.0      1.0             1  \n",
       "367033               187     1.0      1.0             1  \n",
       "367408               212     1.0      1.0             1  \n",
       "426058               660     1.0      1.0             1  \n",
       "...                  ...     ...      ...           ...  \n",
       "10750844             259     1.0      1.0             1  \n",
       "10750907             249     1.0      1.0             1  \n",
       "11297763             152     1.0      1.0             1  \n",
       "11297765             176     1.0      1.0             1  \n",
       "11298005             176     1.0      1.0             1  \n",
       "\n",
       "[192 rows x 13 columns]"
      ]
     },
     "execution_count": 106,
     "metadata": {},
     "output_type": "execute_result"
    }
   ],
   "source": [
    "proteinNetworkCancer[proteinNetworkCancer['cancer_final'] == 1]"
   ]
  },
  {
   "cell_type": "code",
   "execution_count": 107,
   "metadata": {},
   "outputs": [
    {
     "data": {
      "text/html": [
       "<div>\n",
       "<style scoped>\n",
       "    .dataframe tbody tr th:only-of-type {\n",
       "        vertical-align: middle;\n",
       "    }\n",
       "\n",
       "    .dataframe tbody tr th {\n",
       "        vertical-align: top;\n",
       "    }\n",
       "\n",
       "    .dataframe thead th {\n",
       "        text-align: right;\n",
       "    }\n",
       "</style>\n",
       "<table border=\"1\" class=\"dataframe\">\n",
       "  <thead>\n",
       "    <tr style=\"text-align: right;\">\n",
       "      <th></th>\n",
       "      <th>protein1</th>\n",
       "      <th>protein2</th>\n",
       "      <th>neighborhood</th>\n",
       "      <th>fusion</th>\n",
       "      <th>cooccurence</th>\n",
       "      <th>coexpression</th>\n",
       "      <th>experimental</th>\n",
       "      <th>database</th>\n",
       "      <th>textmining</th>\n",
       "      <th>combined_score</th>\n",
       "      <th>cancer_final</th>\n",
       "    </tr>\n",
       "  </thead>\n",
       "  <tbody>\n",
       "    <tr>\n",
       "      <th>0</th>\n",
       "      <td>9606.ENSP00000000233</td>\n",
       "      <td>9606.ENSP00000272298</td>\n",
       "      <td>0</td>\n",
       "      <td>0</td>\n",
       "      <td>332</td>\n",
       "      <td>62</td>\n",
       "      <td>181</td>\n",
       "      <td>0</td>\n",
       "      <td>125</td>\n",
       "      <td>490</td>\n",
       "      <td>0</td>\n",
       "    </tr>\n",
       "    <tr>\n",
       "      <th>1</th>\n",
       "      <td>9606.ENSP00000000233</td>\n",
       "      <td>9606.ENSP00000253401</td>\n",
       "      <td>0</td>\n",
       "      <td>0</td>\n",
       "      <td>0</td>\n",
       "      <td>0</td>\n",
       "      <td>186</td>\n",
       "      <td>0</td>\n",
       "      <td>56</td>\n",
       "      <td>198</td>\n",
       "      <td>0</td>\n",
       "    </tr>\n",
       "    <tr>\n",
       "      <th>2</th>\n",
       "      <td>9606.ENSP00000000233</td>\n",
       "      <td>9606.ENSP00000401445</td>\n",
       "      <td>0</td>\n",
       "      <td>0</td>\n",
       "      <td>0</td>\n",
       "      <td>0</td>\n",
       "      <td>159</td>\n",
       "      <td>0</td>\n",
       "      <td>0</td>\n",
       "      <td>159</td>\n",
       "      <td>0</td>\n",
       "    </tr>\n",
       "    <tr>\n",
       "      <th>3</th>\n",
       "      <td>9606.ENSP00000000233</td>\n",
       "      <td>9606.ENSP00000418915</td>\n",
       "      <td>0</td>\n",
       "      <td>0</td>\n",
       "      <td>0</td>\n",
       "      <td>61</td>\n",
       "      <td>158</td>\n",
       "      <td>0</td>\n",
       "      <td>542</td>\n",
       "      <td>606</td>\n",
       "      <td>0</td>\n",
       "    </tr>\n",
       "    <tr>\n",
       "      <th>4</th>\n",
       "      <td>9606.ENSP00000000233</td>\n",
       "      <td>9606.ENSP00000327801</td>\n",
       "      <td>0</td>\n",
       "      <td>0</td>\n",
       "      <td>0</td>\n",
       "      <td>88</td>\n",
       "      <td>78</td>\n",
       "      <td>0</td>\n",
       "      <td>89</td>\n",
       "      <td>167</td>\n",
       "      <td>0</td>\n",
       "    </tr>\n",
       "    <tr>\n",
       "      <th>...</th>\n",
       "      <td>...</td>\n",
       "      <td>...</td>\n",
       "      <td>...</td>\n",
       "      <td>...</td>\n",
       "      <td>...</td>\n",
       "      <td>...</td>\n",
       "      <td>...</td>\n",
       "      <td>...</td>\n",
       "      <td>...</td>\n",
       "      <td>...</td>\n",
       "      <td>...</td>\n",
       "    </tr>\n",
       "    <tr>\n",
       "      <th>11759449</th>\n",
       "      <td>9606.ENSP00000485678</td>\n",
       "      <td>9606.ENSP00000310488</td>\n",
       "      <td>0</td>\n",
       "      <td>0</td>\n",
       "      <td>0</td>\n",
       "      <td>167</td>\n",
       "      <td>0</td>\n",
       "      <td>0</td>\n",
       "      <td>0</td>\n",
       "      <td>167</td>\n",
       "      <td>0</td>\n",
       "    </tr>\n",
       "    <tr>\n",
       "      <th>11759450</th>\n",
       "      <td>9606.ENSP00000485678</td>\n",
       "      <td>9606.ENSP00000342448</td>\n",
       "      <td>0</td>\n",
       "      <td>0</td>\n",
       "      <td>0</td>\n",
       "      <td>175</td>\n",
       "      <td>0</td>\n",
       "      <td>0</td>\n",
       "      <td>0</td>\n",
       "      <td>175</td>\n",
       "      <td>0</td>\n",
       "    </tr>\n",
       "    <tr>\n",
       "      <th>11759451</th>\n",
       "      <td>9606.ENSP00000485678</td>\n",
       "      <td>9606.ENSP00000350222</td>\n",
       "      <td>0</td>\n",
       "      <td>0</td>\n",
       "      <td>0</td>\n",
       "      <td>195</td>\n",
       "      <td>0</td>\n",
       "      <td>0</td>\n",
       "      <td>0</td>\n",
       "      <td>195</td>\n",
       "      <td>0</td>\n",
       "    </tr>\n",
       "    <tr>\n",
       "      <th>11759452</th>\n",
       "      <td>9606.ENSP00000485678</td>\n",
       "      <td>9606.ENSP00000367590</td>\n",
       "      <td>0</td>\n",
       "      <td>0</td>\n",
       "      <td>0</td>\n",
       "      <td>0</td>\n",
       "      <td>0</td>\n",
       "      <td>900</td>\n",
       "      <td>0</td>\n",
       "      <td>900</td>\n",
       "      <td>0</td>\n",
       "    </tr>\n",
       "    <tr>\n",
       "      <th>11759453</th>\n",
       "      <td>9606.ENSP00000485678</td>\n",
       "      <td>9606.ENSP00000349930</td>\n",
       "      <td>0</td>\n",
       "      <td>0</td>\n",
       "      <td>0</td>\n",
       "      <td>213</td>\n",
       "      <td>0</td>\n",
       "      <td>0</td>\n",
       "      <td>0</td>\n",
       "      <td>213</td>\n",
       "      <td>0</td>\n",
       "    </tr>\n",
       "  </tbody>\n",
       "</table>\n",
       "<p>11759454 rows × 11 columns</p>\n",
       "</div>"
      ],
      "text/plain": [
       "                      protein1              protein2  neighborhood  fusion  \\\n",
       "0         9606.ENSP00000000233  9606.ENSP00000272298             0       0   \n",
       "1         9606.ENSP00000000233  9606.ENSP00000253401             0       0   \n",
       "2         9606.ENSP00000000233  9606.ENSP00000401445             0       0   \n",
       "3         9606.ENSP00000000233  9606.ENSP00000418915             0       0   \n",
       "4         9606.ENSP00000000233  9606.ENSP00000327801             0       0   \n",
       "...                        ...                   ...           ...     ...   \n",
       "11759449  9606.ENSP00000485678  9606.ENSP00000310488             0       0   \n",
       "11759450  9606.ENSP00000485678  9606.ENSP00000342448             0       0   \n",
       "11759451  9606.ENSP00000485678  9606.ENSP00000350222             0       0   \n",
       "11759452  9606.ENSP00000485678  9606.ENSP00000367590             0       0   \n",
       "11759453  9606.ENSP00000485678  9606.ENSP00000349930             0       0   \n",
       "\n",
       "          cooccurence  coexpression  experimental  database  textmining  \\\n",
       "0                 332            62           181         0         125   \n",
       "1                   0             0           186         0          56   \n",
       "2                   0             0           159         0           0   \n",
       "3                   0            61           158         0         542   \n",
       "4                   0            88            78         0          89   \n",
       "...               ...           ...           ...       ...         ...   \n",
       "11759449            0           167             0         0           0   \n",
       "11759450            0           175             0         0           0   \n",
       "11759451            0           195             0         0           0   \n",
       "11759452            0             0             0       900           0   \n",
       "11759453            0           213             0         0           0   \n",
       "\n",
       "          combined_score  cancer_final  \n",
       "0                    490             0  \n",
       "1                    198             0  \n",
       "2                    159             0  \n",
       "3                    606             0  \n",
       "4                    167             0  \n",
       "...                  ...           ...  \n",
       "11759449             167             0  \n",
       "11759450             175             0  \n",
       "11759451             195             0  \n",
       "11759452             900             0  \n",
       "11759453             213             0  \n",
       "\n",
       "[11759454 rows x 11 columns]"
      ]
     },
     "execution_count": 107,
     "metadata": {},
     "output_type": "execute_result"
    }
   ],
   "source": [
    "proteinNetworkCancer.drop(['cancer','cancer2'], axis=1)"
   ]
  },
  {
   "cell_type": "code",
   "execution_count": null,
   "metadata": {},
   "outputs": [],
   "source": [
    "bucket='networkanalysis'\n",
    "nodes_data = 'nodes.csv'\n",
    "edges_data = 'edges.csv'\n",
    "nodes_data = 's3://{}/{}'.format(bucket, nodes_data)\n",
    "edges_data = 's3://{}/{}'.format(bucket, edges_data)\n",
    "edges = list(tuple(np.array(pd.read_csv(edges_data).iloc[:,1:])))\n",
    "nodes = list(pd.read_csv(nodes_data).iloc[:,1]"
   ]
  },
  {
   "cell_type": "markdown",
   "metadata": {},
   "source": [
    "Build the graph with networks as nx."
   ]
  },
  {
   "cell_type": "code",
   "execution_count": null,
   "metadata": {},
   "outputs": [],
   "source": [
    "#Create graph object. \n",
    "G = nx.MultiGraph()\n",
    "#getting list of nodes\n",
    "nodes = list(set(proteinNetworkCancer['protein1'].append(proteinNetworkCancer['protein2'])))\n",
    "#getting list of edgdesmosomees\n",
    "edges = list(zip(proteinNetworkCancer.protein1, proteinNetworkCancer.protein2))"
   ]
  },
  {
   "cell_type": "code",
   "execution_count": null,
   "metadata": {},
   "outputs": [],
   "source": [
    "G.add_nodes_from(nodes)"
   ]
  },
  {
   "cell_type": "code",
   "execution_count": null,
   "metadata": {},
   "outputs": [],
   "source": [
    "G.add_edges_from(edges)"
   ]
  },
  {
   "cell_type": "code",
   "execution_count": null,
   "metadata": {},
   "outputs": [],
   "source": [
    "print(\"Number of Nodes \" + str(G.number_of_nodes()))\n",
    "print(\"Number of Directed Edges: \" + str(G.number_of_edges()))"
   ]
  },
  {
   "cell_type": "code",
   "execution_count": null,
   "metadata": {},
   "outputs": [],
   "source": [
    "neighbors = []\n",
    "centralityDegree = []\n",
    "closeness = []\n",
    "betweeness = []\n",
    "inDegree = []\n",
    "outDegree = []\n",
    "# Neighbors\n",
    "for node in nodes:\n",
    "    neighbors.append(len(list(G.successors(node))))\n",
    "    inDegree.append(G.in_degree(node))\n",
    "    outDegree.append(G.out_degree(node))\n",
    "    \n",
    "# Run the below commands in aws and my personal computer for several hours. It never finished.\n",
    "# Network size 20000 nodes and 11 million edges. \n",
    "    \n",
    "#closenessDict = nx.closeness_centrality(G)\n",
    "#betweennessDict = nx.betweenness_centrality(G)\n",
    "#centralityDegreeDict = nx.degree_centrality(G)"
   ]
  },
  {
   "cell_type": "code",
   "execution_count": null,
   "metadata": {},
   "outputs": [],
   "source": [
    "pd.concat([proteinCancerFinal['protein_external_id'],pd.DataFrame(neighbors)], axis=1, sort=False).to_csv(\"neighbors.csv\")"
   ]
  },
  {
   "cell_type": "markdown",
   "metadata": {},
   "source": [
    "Given the computational cost I only extract the amount of neighbors."
   ]
  },
  {
   "cell_type": "markdown",
   "metadata": {},
   "source": [
    "#### My Experience with GraphFrames (Pyspark)"
   ]
  },
  {
   "cell_type": "markdown",
   "metadata": {},
   "source": [
    "I still wanted to have more network properties to train the machine learning algorithm. Thus, I found out the [ GraphFrames](https://graphframes.github.io/graphframes/docs/_site/user-guide.html#triangle-count) library, which works well with SQL-Pyspark. I used the library to extract the outDegrees and inDegrees and the number of triangles passing to each node. I can describe the library to be quite handy to process bigger files, but still they do not offer the previous mentioned properties (Betweenness, Closenness and Centrality Degree). The reason for that is the complexity involved in computing them. Overall, I extracted a dataset where I had a protein id with outDegrees, inDegrees and the triangle count(pending). "
   ]
  },
  {
   "cell_type": "code",
   "execution_count": null,
   "metadata": {},
   "outputs": [],
   "source": [
    "from graphframes import * #follow the documentation to open pyspark-shell with graphframes\n",
    "edges = sqlContext.read.format(\"csv\").option(\"header\",\"true\").option(\"inferschema\",\"true\").load(\"/home/abi/Documents/Network Analysis/edges.csv\")\n",
    "nodes = sqlContext.read.format(\"csv\").option(\"header\",\"true\").option(\"inferschema\",\"true\").load(\"/home/abi/Documents/Network Analysis/nodes.csv\")\n",
    "#data cleaning\n",
    "newedges = edges[[\"protein1\",\"protein2\"]]\n",
    "newnodes = nodes[[\"protein_external_id\"]]\n",
    "#change newnodes header to \"id\" matter of the library graphframe specification. Read documentation.\n",
    "oldcolumnnodes = newnodes.schema.names\n",
    "newcolumnnodes = ['id']\n",
    "newnodes2 = reduce(lambda newnodes, idx: newnodes.withColumnRenamed(oldcolumnnodes[idx], newcolumnnodes[idx]), xrange(len(oldcolumnnodes)), newnodes)\n",
    "#change edges header to src and dst.\n",
    "oldcolumnedges = newedges.schema.names\n",
    "newcolumnedges = ['src', 'dst']\n",
    "newedges2 = reduce(lambda newedges, idx: newedges.withColumnRenamed(oldcolumnedges[idx], newcolumnedges[idx]), xrange(len(oldcolumnedges)), newedges)\n",
    "g = GraphFrame(newnodes2,newedges2)\n",
    "vertexInDegrees = g.inDegrees\n",
    "vertexOutDegrees = g.outDegrees\n",
    "vertexOutDegrees.toPandas().to_csv(\"vertexOutDegrees.csv\")\n",
    "vertexInDegrees.toPandas().to_csv(\"vertexInDegrees.csv\")\n",
    "triangles = g.triangleCount()\n",
    "triangles.toPandas().to_csv(\"vertexTriangles.csv\")\n",
    "#join Data by key, which is equal to the protein tag.\n",
    "#A_B = A.join(B, A.id == B.id).select(A.*, B.b1, B.b2)\n",
    "joinedDegrees = vertexInDegrees.join(vertexOutDegrees,vertexOutDegrees.id == vertexInDegrees.id)\n",
    "#change schema due to id repetition.\n",
    "oldcolumndegrees = joinedDegrees.schema.names\n",
    "newcolumndegrees = ['id','inDegree','id1','outDegree']\n",
    "joinedDegrees2 = reduce(lambda joinedDegrees, idx: joinedDegrees.withColumnRenamed(oldcolumndegrees[idx], newcolumndegrees[idx]), xrange(len(oldcolumndegrees)), joinedDegrees)\n",
    "#drop id1\n",
    "pandasclean = joinedDegrees2.toPandas()\n",
    "pandas = pandasclean[['id','inDegree','outDegree']]\n",
    "pandas.to_csv('degrees.csv')\n",
    "#THE INDEGREES AND OUT DEGREES TURN OUT TO BE THE SAME. THIS FACT IS A PROOF OF HOW WONDERFUL\n",
    "#AND PERFECT THE ENGINEERING NATURE IS. HOWEVER, WHEN WORKING WITH OTHER TYPES OF NETWORKS THE OUTDEGREES AND\n",
    "#INDEGREES ARE RARELY THE SAME\n",
    "joinTrianglesVertexIn = triangles.join(vertexInDegrees, vertexInDegrees.id == triangles.id)\n",
    "joinTrianglesVertexIn.toPandas().to_csv(\"firstjoin.csv\")\n",
    "secondJoin = rddJoin.join(vertexOutDegrees, vertexOutDegrees.id == rddJoin.id)\n",
    "secondJoin.toPandas().to_csv(\"secondJoin.csv\")\n",
    "#*This join operations were done witth rdds, I am aware that it can be done as well by using join alike SQL operations."
   ]
  },
  {
   "cell_type": "markdown",
   "metadata": {},
   "source": [
    "#### Information Summary\n",
    "\n",
    "Thanks to NetworkX, I extracted the neighbors per node.\n",
    "Thanks to GraphFrames I got the inDegree, outDegree and triangle count for each node.\n",
    "The resulted format of the dataset is: \n",
    "\n",
    "node, number_of_neighbors, outDegree, inDegree, triangle_count."
   ]
  },
  {
   "cell_type": "markdown",
   "metadata": {},
   "source": [
    "### Working with the Graph (Part 2): Spark Streaming"
   ]
  },
  {
   "cell_type": "markdown",
   "metadata": {},
   "source": [
    "The network file was not really big, it had a size of only 1 gb. The problem is that it was too long. Taking into account the hardware side and how registers need a space in a RAM memory to perform operations 11000000 of registers are a problem and cannot be proccessed at once by any small device pay-able by a regular human (Of course until we manage to find out the secrets of the quantum computing, but I will leave that for the future :) ). Thus, I decided to use Spark Streaming. It basically consists in reading your data by chunks of information. In my case, nicely break my long data into small subsets that I can process with spark (each chunk at a time). Below, you can appreciate the code that I created."
   ]
  },
  {
   "cell_type": "markdown",
   "metadata": {},
   "source": [
    "My intention with the code below was to produce an aggregation of the \"9606.protein.links.full.v11.0.txt\"(edge description data) in such way that I will end up producing a dataset including a protein name, plus the sum of each of the mentioned properties per node. In my case, I took into account the information transmitted from protein 1 to protein 2. Thus, I deleted protein 2 column."
   ]
  },
  {
   "cell_type": "code",
   "execution_count": null,
   "metadata": {},
   "outputs": [],
   "source": [
    "from operator import add, sub\n",
    "from time import sleep\n",
    "from pyspark import SparkContext\n",
    "from pyspark.streaming import StreamingContext\n",
    "from os import walk\n",
    "\n",
    "sc = SparkContext(appName=\"streamingProteins\")\n",
    "ssc = StreamingContext(sc,5)\n",
    "#Reshape Data\n",
    "file = open(\"/home/abi/Documents/Network Analysis/9606.protein.links.full.v11.0.txt\", \"r\").readlines()\n",
    "del file[0]\n",
    "def cleanStr(str):\n",
    "    newStr = str.replace(\"\\n\",\"\")\n",
    "    newStr2 = newStr.replace(newStr[21:42],\"\")\n",
    "    return newStr2\n",
    "newFile = map(cleanStr, file)\n",
    "#write Data to new txt file\n",
    "with open('proteinTransmission.txt', 'w') as filehandle:\n",
    "    for item in newFile:\n",
    "        filehandle.write('%s\\n' % item)\n",
    "\n",
    "#create definition to save outputdata\n",
    "def saveResults(rdd):\n",
    "    if not rdd.isEmpty():\n",
    "        rdd.toDF([\"protein1\",\"1\",\"2\",\"3\",\"4\",\"5\",\"6\",\"7\",\"8\",\"9\",\"10\",\"11\",\"12\",\"13\",\"14\"]).write.save(\"rddsprocess\", format=\"csv\", mode=\"append\")\n",
    "#Load proteinTransmission file\n",
    "proteinTransmission = open(\"proteinTransmission.csv\", \"r\").readlines()\n",
    "#create file to store the rdds manually file in the spark folder with name rddsprocess.txt\n",
    "#create rdd array like = queue \n",
    "rddQueue = []\n",
    "# store in queue the information batches\n",
    "for batch in proteinTransmission:\n",
    "    rddQueue += [ssc.sparkContext.parallelize(batch)]\n",
    "\n",
    "inputStream = ssc.queueStream(rddQueue)\n",
    "inputStreamSplit = inputStream.map(lambda x: x.split(\",\"))\n",
    "inputStreamTuple = inputStreamSplit.map(lambda x: (x[0],(x[1],x[2],x[3],x[4],x[5],x[6],x[7],x[8],x[9],x[10],x[11],x[12],x[13],x[14])))\n",
    "inputStreamInt = inputStreamTuple.map(lambda x: (x[0], [int(i) for i in x[1]]))\n",
    "totalStream = inputStreamInt.reduceByKey(lambda a,b: (a[0]+b[0],a[1]+b[1], a[2]+b[2],a[3]+b[3],a[4]+b[4],a[5]+b[5],a[6]+b[6],a[7]+b[7],a[8]+b[8],a[9]+b[9],a[10]+b[10],a[12]+b[12],a[13]+b[13],a[14]+b[14]))\n",
    "totalStream.foreachRDD(saveResults)\n",
    "\n",
    "scc.start()\n",
    "scc.awaitTermination()"
   ]
  },
  {
   "cell_type": "markdown",
   "metadata": {},
   "source": [
    "### Working with the Graph (Part 3): The Rudymentary Way with Pyspark and Map and Reduce Operations"
   ]
  },
  {
   "cell_type": "markdown",
   "metadata": {},
   "source": [
    "Working with small computer, I decided to break the file (using os), into several files and perform data aggregation over each file to produce a reduced file. Later, I used all the reduced file to produced a second reduction and finally get the aggregated data of the network."
   ]
  },
  {
   "cell_type": "code",
   "execution_count": null,
   "metadata": {},
   "outputs": [],
   "source": [
    "#Define the amount of lines that my chunk files are going to have \n",
    "linesPerFile = 5000\n",
    "smallfile = None\n",
    "with open(\"proteinTransmission.txt\") as file:\n",
    "    for lineno, line in enumerate(file):\n",
    "        if lineno % linesPerFile == 0:\n",
    "            if smallfile:\n",
    "                smallfile.close()\n",
    "            smallName = \"filereduction/smallfile_{}.txt\".format(lineno + linesPerFile)\n",
    "            smallfile = open(smallName, \"w\")\n",
    "        smallfile.write(line)\n",
    "    if smallfile:\n",
    "        smallfile.close()\n",
    "def changestr(str):\n",
    "    newstr = str.replace(\"\\n\",\"\")\n",
    "    return str\n",
    "#iteration over the documents to perform map and reduce operation over each of them and print the reduced rdd to \n",
    "#a newreducefile.\n",
    "breakedData = os.listdir(\"/home/abi/spark/spark-2.4.3-bin-hadoop2.7/filereduction\")\n",
    "for file in breakedData:\n",
    "    workfile = \"filereduction/\" + file\n",
    "    workfilelist = open(workfile, \"r\").readlines()\n",
    "    newworkfilelist = map(changestr, workfilelist)\n",
    "    firstRdd = sc.parallelize(newworkfilelist)\n",
    "    tupleRDD = firstRdd.map(lambda x: x.split(\" \"))\n",
    "    tupleRdd = tupleRDD.map(lambda x: (x[0],(x[1],x[2],x[3],x[4],x[5],x[6],x[7],x[8],x[9],x[10],x[11],x[12],x[13],x[14])))\n",
    "    intrdd = tupleRdd.map(lambda x: (x[0], [int(i) for i in x[1]]))\n",
    "    #Personal comment: I still do not understand why it works with up to 13 instead of 14. But it works that way.\n",
    "    total = intrdd.reduceByKey(lambda a,b: (a[0]+b[0],a[1]+b[1],a[2]+b[2],a[3]+b[3],a[4]+b[4],a[5]+b[5],a[6]+b[6],a[7]+b[7],a[8]+b[8],a[9]+b[9],a[10]+b[10],b[11]+b[11],a[12]+b[12],a[13]+b[13]))\n",
    "    newName = \"filereduction/reduced/\" + \"red-\" + file.replace(\"txt\",\"csv\")\n",
    "    df = spark.createDataFrame(total)\n",
    "    df.toPandas().to_csv(newName)\n"
   ]
  },
  {
   "cell_type": "markdown",
   "metadata": {},
   "source": [
    "The output of the previous cell represented the aggregate data of each batch of information. In order to fully aggregate the data, it is necessary to append all the information together and to perform a map and reduce operation again. Each file resulted in a ~20 row key value aggregation."
   ]
  },
  {
   "cell_type": "markdown",
   "metadata": {},
   "source": [
    "#### More Data Processing to aggregate the chunks of information."
   ]
  },
  {
   "cell_type": "markdown",
   "metadata": {},
   "source": [
    "The cell below is to combine all the reduced files into one reduced file."
   ]
  },
  {
   "cell_type": "code",
   "execution_count": null,
   "metadata": {},
   "outputs": [],
   "source": [
    "#get the paths from reduced folder\n",
    "reducedData = os.listdir(\"/home/abi/spark/spark-2.4.3-bin-hadoop2.7/filereduction/reduced\")\n",
    "#create manually a file called result.txt contained in the reduced folder\n",
    "#save full paths of reduced documents to a list\n",
    "def updateListPath(pathDoc):\n",
    "    str = \"/home/abi/spark/spark-2.4.3-bin-hadoop2.7/filereduction/reduced/\" + pathDoc\n",
    "    return str\n",
    "#Update path list with the full path, initially it only contains the file names.\n",
    "updated = map(updateListPath,reducedData)\n",
    "\n",
    "#Append all the txt files together into one txt file.\n",
    "with open((\"/home/abi/spark/spark-2.4.3-bin-hadoop2.7/filereduction/reduced/reduced.txt\"),\"w\") as result:\n",
    "    for file in updated:\n",
    "        for line in open(file, \"r\"):\n",
    "            result.write(line)"
   ]
  },
  {
   "cell_type": "markdown",
   "metadata": {},
   "source": [
    "The next code is to reduce all the information in the file. = More map and reduce."
   ]
  },
  {
   "cell_type": "code",
   "execution_count": null,
   "metadata": {},
   "outputs": [],
   "source": [
    "#Data preprocessing again. Now I had to clean the data again because the spark data frame returned the file with another format.\n",
    "#load the resulted file and delete rows with unnecessary strings.\n",
    "reducedDataDf = spark.read.csv(\"/home/abi/spark/spark-2.4.3-bin-hadoop2.7/filereduction/reduced/reduced.txt\")\n",
    "#delete rows with null values and delete column _c0 index from the previous datasets.\n",
    "reducedDfDeleteRow = reducedDataDf.filter(reducedDataDf._c0 != 'null').drop(reducedDataDf._c0)\n",
    "#print the table as csv file to perform text processing over the values.\n",
    "reducedPandas = reducedDfDeleteRow.toPandas()\n",
    "noisyTuples = list(reducedPandas[\"_c2\"])\n",
    "#clean column\n",
    "def cleanTup(str):\n",
    "    del1 = str.replace(\"Row(\",\"\")\n",
    "    del1 = del1.replace(\"_1=\",\"\")\n",
    "    del2 = del1.replace(\"_2=\",\"\")\n",
    "    del3 = del2.replace(\"_3=\",\"\")\n",
    "    del4 = del3.replace(\"_4=\",\"\")\n",
    "    del5 = del4.replace(\"_5=\",\"\")\n",
    "    del6 = del5.replace(\"_6=\",\"\")\n",
    "    del7 = del6.replace(\"_7=\",\"\")\n",
    "    del8 = del7.replace(\"_8=\",\"\")\n",
    "    del9 = del8.replace(\"_9=\",\"\")\n",
    "    del10 = del9.replace(\"_10=\",\"\")\n",
    "    del11 = del10.replace(\"_11=\",\"\")\n",
    "    del12 = del11.replace(\"_12=\",\"\")\n",
    "    del13 = del12.replace(\"_13=\",\"\")\n",
    "    del14 = del13.replace(\"_14=\",\"\")\n",
    "    del15 = del14.replace(\")\",\"\")\n",
    "    del15 = del15.replace(\"u'\",\"\")\n",
    "    return del15\n",
    "\n",
    "clean = map(cleanTup,noisyTuples)\n",
    "protein = list(reducedPandas['_c1'])\n",
    "df = pandas.DataFrame(clean,protein)\n",
    "#print csv ready to perform last step of map and reduce.\n",
    "df.to_csv(\"last_step_mp.csv\", sep=\" \")\n",
    "#load csv to perform last map and reduce operation.\n",
    "#clean data again.\n",
    "file = open(\"last_step_mp.csv\", \"r\").readlines()\n",
    "\n",
    "def cleanstr(str):\n",
    "    str = str.replace(\",\",\"\")\n",
    "    str2 = str.replace('\"',\"\")\n",
    "    str3 = str2.replace(\"\\n\",\"\")\n",
    "    return str3\n",
    "\n",
    "newFile = map(cleanstr,file)\n",
    "del newFile[0]\n",
    "\n",
    "#work with the map and reduce logic.\n",
    "firstRdd = sc.parallelize(newFile)\n",
    "tupleRDD = firstRdd.map(lambda x: x.split(\" \"))\n",
    "tupleRdd = tupleRDD.map(lambda x: (x[0],(x[1],x[2],x[3],x[4],x[5],x[6],x[7],x[8],x[9],x[10],x[11],x[12],x[13],x[14])))\n",
    "intrdd = tupleRdd.map(lambda x: (x[0], [int(i) for i in x[1]]))\n",
    "#Personal comment: I still do not understand why it works with up to 13 instead of 14. But it works that way.\n",
    "total = intrdd.reduceByKey(lambda a,b: (a[0]+b[0],a[1]+b[1],a[2]+b[2],a[3]+b[3],a[4]+b[4],a[5]+b[5],a[6]+b[6],a[7]+b[7],a[8]+b[8],a[9]+b[9],a[10]+b[10],b[11]+b[11],a[12]+b[12],a[13]+b[13]))\n",
    "df = spark.createDataFrame(total).toPandas().to_csv(\"nodesnetaggregation.csv\")\n",
    "\n",
    "#*Data cleaning might be less complicated by using sql alike tables or Tableau itself."
   ]
  },
  {
   "cell_type": "markdown",
   "metadata": {},
   "source": [
    "After performing the map and reduce operations over the values, it was noted that only around 7000 nodes were involved in the network dataset. The result makes sense since all the possible proteins registered with the description are present in the first dataset. Now, I will aggregate the data to link the corresponding network properties with each protein. Overall, the four datasets that I am going to combine are the \"neighbors.csv\", \"degrees.csv\",\"finalData.csv\"(cancer label) and the \"nodesnetaggregation.csv\"."
   ]
  },
  {
   "cell_type": "markdown",
   "metadata": {},
   "source": [
    "### Aggregating the datasets for the machine learning algorithm (more map and reduce)"
   ]
  },
  {
   "cell_type": "code",
   "execution_count": null,
   "metadata": {},
   "outputs": [],
   "source": [
    "#I cleaned manually the files. Erasing unnecessary columns and renaming columns.\n",
    "# Creating a string list of the files\n",
    "degrees = open(\"degrees.csv\", \"r\").readlines()\n",
    "neighbors = open(\"neighbors.csv\",\"r\").readlines()\n",
    "nodesnet = open(\"nodesnetaggregation.csv\").readlines()\n",
    "cancer = open(\"finalData.csv\").readlines()\n",
    "\n",
    "# Erasing \"\\n\" from the list of strings\n",
    "def clean(str):\n",
    "    newstr2 = str.replace(\"\\n\",\"\")\n",
    "    return newstr2\n",
    "\n",
    "degreesClean = map(clean,degrees)\n",
    "neighborsClean = map(clean,neighbors)\n",
    "nodesnetClean = map(clean,nodesnet)\n",
    "cancerClean = map (clean,cancer)\n",
    "del degreesClean[0]\n",
    "del neighborsClean[0]\n",
    "del nodesnetClean[0]\n",
    "del cancerClean[0]\n",
    "# Creating first rdd of strings\n",
    "degreesRdd = sc.parallelize(degreesClean)\n",
    "neighborsRdd = sc.parallelize(neighborsClean)\n",
    "nodesnetRdd = sc.parallelize(nodesnetClean)\n",
    "cancerRdd = sc.parallelize(cancerClean)\n",
    "\n",
    "# Spliting first rdd by \",\"\n",
    "degreesRddSch =  degreesRdd.map(lambda x: x.split(\",\"))\n",
    "neighborsRddSch = neighborsRdd.map(lambda x: x.split(\",\"))\n",
    "nodesnetRddSch = nodesnetRdd.map(lambda x: x.split(\",\"))\n",
    "cancerRddSch = cancerRdd.map(lambda x: x.split(\",\"))\n",
    "\n",
    "# Turn tuple RDD to data frame.\n",
    "degreesTuple = degreesRddSch.map(lambda x: (x[0],(x[1],x[2])))\n",
    "neighborsTuple = neighborsRddSch.map(lambda x: (x[0],x[1]))\n",
    "nodesnetTuple = nodesnetRddSch.map(lambda x: (x[0],(x[1],x[2],x[3],x[4],x[5],x[6],x[7],x[8],x[9],x[10],x[11],x[12],x[13],x[14])))\n",
    "cancerTuple = cancerRddSch.map(lambda x: (x[0],x[1]))\n",
    "# Performing join operations over the RDDs.\n",
    "nodesdeg = nodesnetTuple.join(degreesTuple)\n",
    "#Transform to data frames the rdds.\n",
    "nodesnetDf = nodesnetTuple.toDF()\n",
    "degreesDf = degreesTuple.toDF()\n",
    "neighborsDf = neighborsTuple.toDF()\n",
    "cancerDf = cancerRddSch.toDF()\n",
    "#write union read file back clean data and create tuple rdd\n",
    "nodesDeg = nodesnetDf.join(degreesDf, nodesnetDf._1 == degreesDf._1).select(nodesnetDf[\"*\"],degreesDf[\"_2\"])\n",
    "nodesDegNeig = nodesDeg.join(neighborsDf, nodesDeg._1 == neighborsDf._1).select(nodesDeg[\"*\"], neighborsDf[\"_2\"])\n",
    "nodesDegNeigCan = nodesDegNeig.join(cancerDf, nodesDegNeig._1 == cancerDf._1).select(nodesDegNeig[\"*\"], cancerDf[\"_2\"])\n",
    "#Now we had a dataset with the form of protein Id, netproperties, indegrees, out degrees, amount of neighbors and cancer\n",
    "#I will print it and clean it again.\n",
    "#9606.ENSP00000257013\tRow(_1=u'0', _2=u'0', _3=u'0', _4=u'0', _5=u'3628', _6=u'7274', _7=u'239', _8=u'1874', _9=u'0', _10=u'0', _11=u'0', _12=u'1132', _13=u'7225', _14=u'34034')\tRow(_1=u'135', _2=u'135')\t135\t0\n",
    "nodesDegNeigCan.toPandas().to_csv(\"mlpreviousfinal.csv\")\n",
    "#manually delete first row"
   ]
  },
  {
   "cell_type": "markdown",
   "metadata": {},
   "source": [
    "### Welcome to the soup: Data Cleaning to get our final dataset to perform the SVM algorithm."
   ]
  },
  {
   "cell_type": "markdown",
   "metadata": {},
   "source": [
    "In this part, what I am going to do is preprocessing the output file again from the previous step to give it a shape of a proper matrix, for applying the machine learning algorithm. Afterwards, I am going to normalize the data and perform a PCA analysis, to find out the components/features that are valuable enough to be used in the machine learning algorithm. The principal component analysis algorithm is well known to be used as feature reduction. "
   ]
  },
  {
   "cell_type": "code",
   "execution_count": null,
   "metadata": {},
   "outputs": [],
   "source": [
    "#Load the dataset as a list of strings\n",
    "datasemiFinal = open(\"/home/abi/spark/spark-2.4.3-bin-hadoop2.7/mlpreviousfinal.csv\",\"r\").readlines()\n",
    "#Clean the ugly string again T_T\n",
    "'9606.ENSP00000257013,\"Row(_1=u\\'0\\', _2=u\\'0\\', _3=u\\'0\\', _4=u\\'0\\', _5=u\\'3628\\', _6=u\\'7274\\', _7=u\\'239\\', _8=u\\'1874\\', _9=u\\'0\\', _10=u\\'0\\', _11=u\\'0\\', _12=u\\'1132\\', _13=u\\'7225\\', _14=u\\'34034\\')\",\"Row(_1=u\\'135\\', _2=u\\'135\\')\",135,0\\n'\n",
    "def cleanStr(str):\n",
    "    newstr = str.replace('\"',\"\")\n",
    "    str1 = newstr.replace('\\'',\"\")\n",
    "    str2 = str1.replace(\"Row(\",\"\")\n",
    "    str3 = str2.replace(\"_2=u\",\"\")\n",
    "    str4 = str3.replace(\"_3=u\",\"\")\n",
    "    str5 = str4.replace(\"_4=u\",\"\")\n",
    "    str6 = str5.replace(\"_5=u\",\"\")\n",
    "    str7 = str6.replace(\"_6=u\",\"\")\n",
    "    str8 = str7.replace(\"_7=u\",\"\")\n",
    "    str9 = str8.replace(\"_8=u\",\"\")\n",
    "    str10 = str9.replace(\"_9=u\",\"\")\n",
    "    str11 = str10.replace(\"_10=u\",\"\")\n",
    "    str12 = str11.replace(\"_11=u\",\"\")\n",
    "    str13 = str12.replace(\"_12=u\",\"\")\n",
    "    str14 = str13.replace(\"_13=u\",\"\")\n",
    "    str15 = str14.replace(\"_14=u\",\"\")\n",
    "    str16 = str15.replace(\"Row(_1=u\",\"\")\n",
    "    str17 = str16.replace(\"_2=u\",\"\")\n",
    "    str18 = str17.replace('\\')\"',\"\")\n",
    "    str19 = str18.replace(\"\\n\",\"\")\n",
    "    str20 = str19.replace(\")\",\"\")\n",
    "    str21 = str20.replace(\"_1=u\",\"\")\n",
    "    return str21\n",
    "datasemiFinalClean = map(cleanStr,datasemiFinal)\n",
    "#Turn into rdd to gave it a shape\n",
    "datasemiRdd = sc.parallelize(datasemiFinalClean).map(lambda x: x.split(\",\"))\n",
    "#Turn into pandas csv and print.\n",
    "datasemiRdd.toDF().toPandas().to_csv(\"machineLearningReady.csv\")\n",
    "#manually configure column names according to previous steps."
   ]
  },
  {
   "cell_type": "markdown",
   "metadata": {},
   "source": [
    "After writing manually columns the machineLearningReady.csv. Has the columns in the format below:\n",
    "- id\n",
    "- neighborhood\n",
    "- neighborhoodTransferred\n",
    "- fusion \n",
    "- coocurence\n",
    "- homology\n",
    "- coexpression\n",
    "- coexpressionTransferred\n",
    "- experiments\n",
    "- experimentsTransferred\n",
    "- database\n",
    "- databaseTransferred\n",
    "- combinedScores\n",
    "- neighbors\n",
    "- inDegree\n",
    "- outDegree\n",
    "- cancer\n"
   ]
  },
  {
   "cell_type": "markdown",
   "metadata": {},
   "source": [
    "### More Data Preprocessing: Applying Normalization and Label Encoding"
   ]
  },
  {
   "cell_type": "markdown",
   "metadata": {},
   "source": [
    "After I gave it a good shape to the data, I will proceed to prepare the clean data for the machine learning algorithm. Thus, I will apply normalization over all numerical features and encode labels of the proteins. Afterwards, I will apply a PCA algorithm over the dataset to verify whether it is necessary to use all the feratures or just a couple of them. "
   ]
  },
  {
   "cell_type": "code",
   "execution_count": null,
   "metadata": {},
   "outputs": [],
   "source": [
    "proteinNetwork"
   ]
  },
  {
   "cell_type": "code",
   "execution_count": null,
   "metadata": {},
   "outputs": [],
   "source": [
    "#Performing the label encoding and normalization of the numerical values. Eliminate manually zero column.\n",
    "dataMl = pd.read_csv('machineLearningReady.csv')\n",
    "x = dataMl.iloc[:,1:].values\n",
    "x = StandardScaler().fit_transform(x)\n",
    "minmaxscaler = preprocessing.MinMaxScaler()\n",
    "x_scaled = minmaxscaler.fit_transform(x)\n"
   ]
  },
  {
   "cell_type": "markdown",
   "metadata": {},
   "source": [
    "### Data Exploration: Variable Visualization"
   ]
  },
  {
   "cell_type": "markdown",
   "metadata": {},
   "source": [
    "Here I would like to demonstrate the visualization of the feature values against the proteins with a heatmap."
   ]
  },
  {
   "cell_type": "code",
   "execution_count": null,
   "metadata": {
    "scrolled": false
   },
   "outputs": [],
   "source": [
    "dfVisualization = pd.DataFrame(dataMl.iloc[:,0])\n",
    "dfNormalization = pd.DataFrame(StandardScaler().fit_transform(dataMl.iloc[:,1:].values), columns = ['neighborhood','neighborhoodTransferred','fusion','coocurence','homology','coexpression','coexpressionTransferred','experiments','experimentsTransferred','delete','database','databaseTransferred','combinedScores','neighbors','inDegree','outDegree'\n",
    "])\n",
    "dfVisual = pd.concat([dfVisualization,dfNormalization], axis=1, sort=False).dropna()\n",
    "del dfVisual[\"delete\"]\n",
    "#net = Network(clustergrammer_widget)\n",
    "vis = dfVisual.iloc[:,1:].values\n",
    "cols = np.array(dfVisual['id'])\n",
    "ind = ['neighborhood','neighborhoodTransferred','fusion','coocurence','homology','coexpression','coexpressionTransferred','experiments','experimentsTransferred','database','databaseTransferred','combinedScores','neighbors','inDegree','outDegree'\n",
    "]\n",
    "vs = pd.DataFrame(vis.T, index = ind, columns = cols)\n",
    "vs.T.to_csv('vs_explore.csv')\n",
    "plt.pcolor(vs)\n",
    "plt.yticks(np.arange(0.5, len(vs.index), 1), vs.index)\n",
    "plt.xticks(np.arange(0.5, len(vs.columns), 1), vs.columns, rotation=90)\n",
    "plt.show()"
   ]
  },
  {
   "cell_type": "markdown",
   "metadata": {},
   "source": [
    "The visualization above displays the 7000 proteins with its corresponding values. The reader cannot really infer from the plot, how the cancer looks. Thus, below I sliced information in chunks of 25 proteins to be able to compare cancer against regular proteins. "
   ]
  },
  {
   "cell_type": "code",
   "execution_count": null,
   "metadata": {},
   "outputs": [],
   "source": [
    "dfVisualization_z = pd.DataFrame(np.array(dataMl.iloc[475:500,0]))\n",
    "dfNormalization_z = pd.DataFrame(StandardScaler().fit_transform(dataMl.iloc[475:500,1:].values), columns = ['neighborhood','neighborhoodTransferred','fusion','coocurence','homology','coexpression','coexpressionTransferred','experiments','experimentsTransferred','delete','database','databaseTransferred','combinedScores','neighbors','inDegree','outDegree'\n",
    "])\n",
    "dfVisual_z = pd.concat([dfVisualization_z,dfNormalization_z], axis=1, sort=False).dropna()\n",
    "del dfVisual_z[\"delete\"]\n",
    "#net = Network(clustergrammer_widget)\n",
    "vis_z = dfVisual_z.iloc[:,1:].values\n",
    "cols = np.array(dfVisual_z[0])\n",
    "ind = ['neighborhood','neighborhoodTransferred','fusion','coocurence','homology','coexpression','coexpressionTransferred','experiments','experimentsTransferred','database','databaseTransferred','combinedScores','neighbors','inDegree','outDegree'\n",
    "]\n",
    "vs_z = pd.DataFrame(vis_z.T, index = ind, columns = cols)\n",
    "plt.pcolor(vs_z)\n",
    "plt.yticks(np.arange(0.5, len(vs_z.index), 1), vs_z.index)\n",
    "plt.xticks(np.arange(0.5, len(vs_z.columns), 1), vs_z.columns, rotation=90)\n",
    "plt.show()"
   ]
  },
  {
   "cell_type": "markdown",
   "metadata": {},
   "source": [
    "The first chunk of 25 proteins shows clearly the influence of the outDegree feature to detect cancer. In this case protein \"9606.ENSP00000276480\" was detected as cancer. However, one slice of information does not confirm the visual exploration. Due to this reason, I plotted another two chunks for verification. "
   ]
  },
  {
   "cell_type": "code",
   "execution_count": null,
   "metadata": {},
   "outputs": [],
   "source": [
    "dfVisualization_m = pd.DataFrame(np.array(dataMl.iloc[575:600,0]))\n",
    "dfNormalization_m = pd.DataFrame(StandardScaler().fit_transform(dataMl.iloc[575:600,1:].values), columns = ['neighborhood','neighborhoodTransferred','fusion','coocurence','homology','coexpression','coexpressionTransferred','experiments','experimentsTransferred','delete','database','databaseTransferred','combinedScores','neighbors','inDegree','outDegree'\n",
    "])\n",
    "dfVisual_m = pd.concat([dfVisualization_m,dfNormalization_m], axis=1, sort=False).dropna()\n",
    "del dfVisual_m[\"delete\"]\n",
    "#net = Network(clustergrammer_widget)\n",
    "vis_m = dfVisual_m.iloc[:,1:].values\n",
    "cols = np.array(dfVisual_m[0])\n",
    "ind = ['neighborhood','neighborhoodTransferred','fusion','coocurence','homology','coexpression','coexpressionTransferred','experiments','experimentsTransferred','database','databaseTransferred','combinedScores','neighbors','inDegree','outDegree'\n",
    "]\n",
    "vs_m = pd.DataFrame(vis_m.T, index = ind, columns = cols)\n",
    "plt.pcolor(vs_m)\n",
    "plt.yticks(np.arange(0.5, len(vs_m.index), 1), vs_m.index)\n",
    "plt.xticks(np.arange(0.5, len(vs_m.columns), 1), vs_m.columns, rotation=90)\n",
    "plt.show()"
   ]
  },
  {
   "cell_type": "markdown",
   "metadata": {},
   "source": [
    "The second chunk of 25 proteins confirms the influence of the outDegree feature to detect cancer. In this case protein \"9606.ENSP00000263083\" was detected as cancer. "
   ]
  },
  {
   "cell_type": "code",
   "execution_count": null,
   "metadata": {
    "scrolled": true
   },
   "outputs": [],
   "source": [
    "dfVisualization_m = pd.DataFrame(np.array(dataMl.iloc[751:775,0]))\n",
    "dfNormalization_m = pd.DataFrame(StandardScaler().fit_transform(dataMl.iloc[751:775,1:].values), columns = ['neighborhood','neighborhoodTransferred','fusion','coocurence','homology','coexpression','coexpressionTransferred','experiments','experimentsTransferred','delete','database','databaseTransferred','combinedScores','neighbors','inDegree','outDegree'\n",
    "])\n",
    "dfVisual_m = pd.concat([dfVisualization_m,dfNormalization_m], axis=1, sort=False).dropna()\n",
    "del dfVisual_m[\"delete\"]\n",
    "#net = Network(clustergrammer_widget)\n",
    "vis_m = dfVisual_m.iloc[:,1:].values\n",
    "cols = np.array(dfVisual_m[0])\n",
    "ind = ['neighborhood','neighborhoodTransferred','fusion','coocurence','homology','coexpression','coexpressionTransferred','experiments','experimentsTransferred','database','databaseTransferred','combinedScores','neighbors','inDegree','outDegree'\n",
    "]\n",
    "vs_m = pd.DataFrame(vis_m.T, index = ind, columns = cols)\n",
    "plt.pcolor(vs_m)\n",
    "plt.yticks(np.arange(0.5, len(vs_m.index), 1), vs_m.index)\n",
    "plt.xticks(np.arange(0.5, len(vs_m.columns), 1), vs_m.columns, rotation=90)\n",
    "plt.show()"
   ]
  },
  {
   "cell_type": "markdown",
   "metadata": {},
   "source": [
    "The third chunk of 25 proteins again confirms the influence of the outDegree feature to detect cancer. In this case protein \"9606.ENSP00000291906\" was detected as cancer. "
   ]
  },
  {
   "cell_type": "markdown",
   "metadata": {},
   "source": [
    "Overall from the visualization exploration, it is possible to infer the importance of analyzing from the network approach interaction between proteins. In this case I confirm the importance of the outDegree feature to train the machine learning algorithm. "
   ]
  },
  {
   "cell_type": "code",
   "execution_count": null,
   "metadata": {},
   "outputs": [],
   "source": [
    "# initialize network object\n",
    "net = Network(clustergrammer_widget)\n",
    "# load dataframe\n",
    "net.load_df(vs_m)\n",
    "# cluster using default parameters\n",
    "net.cluster(enrichrgram=True)\n",
    "# make the visualization\n",
    "net.widget()"
   ]
  },
  {
   "cell_type": "markdown",
   "metadata": {},
   "source": [
    "# Please check the Tableau Report for a complete detail of the data visualization exploration* "
   ]
  },
  {
   "cell_type": "markdown",
   "metadata": {},
   "source": [
    "### PCA Component Decision"
   ]
  },
  {
   "cell_type": "markdown",
   "metadata": {},
   "source": [
    "In this part I am going to verify how many of the features affecting proteins are useful to detect cancer. Thus, the next step is to apply the principal component analysis to create feature reduction. In order to proceed with the PCA, I will need to know which independent variables are more significant in terms of variance. Thanks to the function \"explained_variance_ratio\", I will check the percentage of variance is represented by each variable. From my personal point of view, I like to reduce the variables up to the point where I am using around 70% of the system variance. "
   ]
  },
  {
   "cell_type": "code",
   "execution_count": null,
   "metadata": {},
   "outputs": [],
   "source": [
    "#dataMlPreprocess = pd.concat([xScaled,pd.DataFrame(dataMl.iloc[:,16])], axis = 1, sort = False)\n",
    "x_reduced = pd.read_csv('x_scaled_reduced.csv')\n",
    "y_org = pd.DataFrame(dataMl.iloc[:,16])\n",
    "#concat I need to erase rows with null values.\n",
    "cleanReduced = pd.concat([x_reduced,y_org], axis = 1, sort = False).dropna()\n",
    "x_reduced = cleanReduced.iloc[:,1:-1]\n",
    "y_reduced = cleanReduced.iloc[:,14]"
   ]
  },
  {
   "cell_type": "code",
   "execution_count": null,
   "metadata": {},
   "outputs": [],
   "source": [
    "#Amount of components decision: run pca with all the elements in the x_reduced and analyze the percentage of \n",
    "# variance over the dataset with the percentage of variance.\n",
    "pca = PCA(n_components = 12)\n",
    "principal = pca.fit_transform(np.array(x_reduced))\n",
    "x_org_pca = principal \n",
    "percentageVarianceVector = pca.explained_variance_ratio_\n",
    "percentageVarianceVector"
   ]
  },
  {
   "cell_type": "markdown",
   "metadata": {},
   "source": [
    "From the percentage variance vector we can infer that working with 4 components will meet the requirement close to 70%. Thus, I will run the dimensionality reduction with 4 components. After deciding how many components to use, I will proceed with performing the imbalance data check to continue with the pca algorithm."
   ]
  },
  {
   "cell_type": "markdown",
   "metadata": {},
   "source": [
    "Use it to check whether the matrix was working properly.\n",
    "#np.linalg.svd(np.array(x_reduced))"
   ]
  },
  {
   "cell_type": "markdown",
   "metadata": {},
   "source": [
    "# Dealing with Imbalanced Data"
   ]
  },
  {
   "cell_type": "markdown",
   "metadata": {},
   "source": [
    "In order to make sure that the predictions are made properly, it is needed to know how our data looks. For example, if we have too few cancer properties, we will need to create a homogeneous dataset in order to test the algorithm. Otherwise, it might be biased due to the skewed data. The same case occurs in the anomaly detection for credit cards fraud, cases where the anomalies turn out to be around 5% or 2% of the total amount of data. \n",
    "Therefore, from the Machine Learning Dataset we want to identify how many positive cancer proteins do we have. "
   ]
  },
  {
   "cell_type": "code",
   "execution_count": null,
   "metadata": {},
   "outputs": [],
   "source": [
    "filteredCancer = pd.DataFrame(y_reduced).query(\"cancer == 1\") \n",
    "percentageCancer = (filteredCancer.count()/y_reduced.count())*100\n",
    "percentageCancer\n",
    "# Cancer = 0.7%"
   ]
  },
  {
   "cell_type": "markdown",
   "metadata": {},
   "source": [
    "After filtering the cancer proteins, I found out that only 135 are cancer out of 19518. That makes our data highly imbalanced, only 0.70% of the proteins represent cancer. There will be a need to use SMOTE (Synthetic Minority Over-sampling Technique) to give homogeneity to our dataset. According to [Imbalanced Learning](https://imbalanced-learn.org/en/stable/auto_examples/combine/plot_comparison_combine.html#sphx-glr-auto-examples-combine-plot-comparison-combine-py) we will need to apply the oversampling method to increase our skewed cancer data and an undersampling method to clean the noise generated on data. "
   ]
  },
  {
   "cell_type": "code",
   "execution_count": null,
   "metadata": {},
   "outputs": [],
   "source": [
    "#Perform resample minority\n",
    "#Increase the skewed cancer data to 20%.\n",
    "smote = SMOTE(sampling_strategy = 0.2)\n",
    "x_res, y_res = smote.fit_resample(x_reduced,y_reduced)"
   ]
  },
  {
   "cell_type": "code",
   "execution_count": null,
   "metadata": {},
   "outputs": [],
   "source": [
    "#Perform undersample of majority (its a problem to compute such amount of data for the ML algorithm)\n",
    "under_sampling = RandomUnderSampler(sampling_strategy = 0.4)\n",
    "x_un, y_un = under_sampling.fit_resample(x_res,y_res)\n",
    "x_un[0]"
   ]
  },
  {
   "cell_type": "markdown",
   "metadata": {},
   "source": [
    "### More Data Preprocessing: Rebuilding Dataset After Balancing Data"
   ]
  },
  {
   "cell_type": "markdown",
   "metadata": {},
   "source": [
    "After resampling, I will check again how the proportions are, and based on the results, change the sample ratios. "
   ]
  },
  {
   "cell_type": "code",
   "execution_count": null,
   "metadata": {},
   "outputs": [],
   "source": [
    "x_rebuild = pd.DataFrame(x_un, columns = [\"0\",\"1\", \"2\", \"3\", \"4\", \"5\", \"6\",\"7\",\"8\",\"9\",\"10\",\"11\",\"12\"])\n",
    "y_rebuild = pd.DataFrame(y_un, columns = [\"cancer\"])\n",
    "rebuildCleanData = pd.concat([x_rebuild, y_rebuild], axis = 1, sort = False)\n",
    "rebuildCleanData.to_csv(\"rebuildmachinelearningready.csv\")"
   ]
  },
  {
   "cell_type": "code",
   "execution_count": null,
   "metadata": {},
   "outputs": [],
   "source": [
    "amount_cancer = len(rebuildCleanData.query(\"cancer == 1\"))\n",
    "total_data = len(rebuildCleanData)\n",
    "percentage = (float(amount_cancer)/float(total_data))*100\n",
    "# cancer = ~28%\n",
    "percentage"
   ]
  },
  {
   "cell_type": "markdown",
   "metadata": {},
   "source": [
    "After rebuilding the dataset, now we do have a balance cancer / protein information (cancer ~ 30%). Thus, I am able to proceed with the machine learning algorithm."
   ]
  },
  {
   "cell_type": "markdown",
   "metadata": {},
   "source": [
    "### Machine Learning Algorithm (Supervised Learning) : SVM for the binary classification"
   ]
  },
  {
   "cell_type": "markdown",
   "metadata": {},
   "source": [
    "I selected the support vector machine algorithm (SVM) to perform the binary classification over the data set. "
   ]
  },
  {
   "cell_type": "code",
   "execution_count": null,
   "metadata": {},
   "outputs": [],
   "source": [
    "# Separate clean dataset into training set and test set.\n",
    "x_split = rebuildCleanData.iloc[:,:-1]\n",
    "y_split = rebuildCleanData.iloc[:,13]\n",
    "X_train, x_test, Y_train, y_test = train_test_split(x_split,y_split,test_size=0.2,random_state=1)"
   ]
  },
  {
   "cell_type": "markdown",
   "metadata": {},
   "source": [
    "After applying resampling and spliting the dataset into training set and test set, I will apply the principal component analysis to reduce the independent variables to 4."
   ]
  },
  {
   "cell_type": "code",
   "execution_count": null,
   "metadata": {},
   "outputs": [],
   "source": [
    "pca = PCA(n_components = 4)\n",
    "x_train_pca = pca.fit_transform(X_train)\n",
    "x_test_pca = pca.transform(x_test)"
   ]
  },
  {
   "cell_type": "code",
   "execution_count": null,
   "metadata": {},
   "outputs": [],
   "source": [
    "# Applying machine learning algorithm\n",
    "clf = svm.SVC(kernel = 'linear', C=0.01)\n",
    "y_pred = clf.fit(x_train_pca, Y_train).predict(x_test_pca)"
   ]
  },
  {
   "cell_type": "markdown",
   "metadata": {},
   "source": [
    "### Evaluation: F - Measure to check accuracy"
   ]
  },
  {
   "cell_type": "code",
   "execution_count": null,
   "metadata": {},
   "outputs": [],
   "source": [
    "#Implementing cross validation\n",
    " \n",
    "k = 5\n",
    "kf = KFold(n_splits=k, random_state=None)\n",
    "model = LogisticRegression(solver= 'liblinear')\n",
    " \n",
    "acc_score = []\n",
    " \n",
    "for train_index , test_index in kf.split(X):\n",
    "    X_train , X_test = X.iloc[train_index,:],X.iloc[test_index,:]\n",
    "    y_train , y_test = y[train_index] , y[test_index]\n",
    "     \n",
    "    model.fit(X_train,y_train)\n",
    "    pred_values = model.predict(X_test)\n",
    "     \n",
    "    acc = accuracy_score(pred_values , y_test)\n",
    "    acc_score.append(acc)\n",
    "     \n",
    "avg_acc_score = sum(acc_score)/k\n",
    " \n",
    "print('accuracy of each fold - {}'.format(acc_score))\n",
    "print('Avg accuracy : {}'.format(avg_acc_score))"
   ]
  },
  {
   "cell_type": "code",
   "execution_count": null,
   "metadata": {},
   "outputs": [],
   "source": []
  },
  {
   "cell_type": "code",
   "execution_count": null,
   "metadata": {},
   "outputs": [],
   "source": []
  },
  {
   "cell_type": "code",
   "execution_count": null,
   "metadata": {},
   "outputs": [],
   "source": [
    "#To do add K-FOLD CROSS VALIDATION\n",
    "conf = confusion_matrix(y_test, y_pred)"
   ]
  },
  {
   "cell_type": "code",
   "execution_count": null,
   "metadata": {},
   "outputs": [],
   "source": [
    "# Compute Precision and Recall of the algorithm\n",
    "precision = float(conf[0,0])/float(conf[0,0] + conf[0,1])\n",
    "recall = float(conf[0,0])/float(conf[1,0] + conf[0,0])"
   ]
  },
  {
   "cell_type": "code",
   "execution_count": null,
   "metadata": {},
   "outputs": [],
   "source": [
    "\n",
    "#Compute F-Measure\n",
    "f_measure = 2*((precision*recall)/(precision + recall)) "
   ]
  },
  {
   "cell_type": "code",
   "execution_count": null,
   "metadata": {},
   "outputs": [],
   "source": [
    "f_measure \n",
    "# ~83% The project has pending a cross Validation and a Grid Search to improve performance on the algorithm. (Waiting to work in a laptop.)"
   ]
  },
  {
   "cell_type": "code",
   "execution_count": null,
   "metadata": {},
   "outputs": [],
   "source": []
  },
  {
   "cell_type": "code",
   "execution_count": null,
   "metadata": {},
   "outputs": [],
   "source": []
  },
  {
   "cell_type": "code",
   "execution_count": null,
   "metadata": {},
   "outputs": [],
   "source": []
  },
  {
   "cell_type": "code",
   "execution_count": null,
   "metadata": {},
   "outputs": [],
   "source": []
  }
 ],
 "metadata": {
  "kernelspec": {
   "display_name": "Python 3",
   "language": "python",
   "name": "python3"
  },
  "language_info": {
   "codemirror_mode": {
    "name": "ipython",
    "version": 3
   },
   "file_extension": ".py",
   "mimetype": "text/x-python",
   "name": "python",
   "nbconvert_exporter": "python",
   "pygments_lexer": "ipython3",
   "version": "3.8.5"
  }
 },
 "nbformat": 4,
 "nbformat_minor": 2
}
